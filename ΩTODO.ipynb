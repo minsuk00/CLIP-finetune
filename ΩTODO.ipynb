{
 "cells": [
  {
   "cell_type": "markdown",
   "metadata": {},
   "source": [
    "### TODO"
   ]
  },
  {
   "cell_type": "markdown",
   "metadata": {},
   "source": [
    "[] ip adapter에서 어차피 text 안쓰니까 빼기?\n",
    "[] clip loss 이미지끼리 구현?\n",
    "[] diffusion loss는 image만으로 계산하기?\n",
    "[] clip_loss 비율 테스트\n",
    "[] different learning rate?\n",
    "\n",
    "[] clean up code\n",
    "[] ppt 만들기\n",
    "\n",
    "Where I left off:\n",
    "[] only clip\n",
    "\n",
    "[] only mse\n",
    "    [x] try linear scaling\n",
    "    [x] try parameter loss scaling\n",
    "    [x] try fixed loss scaling\n",
    "    [] 512 res 해보기\n",
    "\n",
    "[] clip + mse\n",
    "\n",
    "[] terminal log도 저장\n",
    "[] implement from scratch?\n",
    "[] wandb로 바꾸기?\n",
    "[] see why 1nn takes so long. change to linprob?\n",
    "[] change naming of file"
   ]
  },
  {
   "cell_type": "code",
   "execution_count": 1,
   "metadata": {},
   "outputs": [],
   "source": [
    "from utils import save_file"
   ]
  },
  {
   "cell_type": "code",
   "execution_count": 2,
   "metadata": {},
   "outputs": [],
   "source": [
    "save_file(\"./scripts/train.sh\", \"./test.sh\")"
   ]
  }
 ],
 "metadata": {
  "kernelspec": {
   "display_name": "diff-rep",
   "language": "python",
   "name": "python3"
  },
  "language_info": {
   "codemirror_mode": {
    "name": "ipython",
    "version": 3
   },
   "file_extension": ".py",
   "mimetype": "text/x-python",
   "name": "python",
   "nbconvert_exporter": "python",
   "pygments_lexer": "ipython3",
   "version": "3.12.2"
  }
 },
 "nbformat": 4,
 "nbformat_minor": 2
}
