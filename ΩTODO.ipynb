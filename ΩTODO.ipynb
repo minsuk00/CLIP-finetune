{
 "cells": [
  {
   "cell_type": "markdown",
   "metadata": {},
   "source": [
    "### TODO"
   ]
  },
  {
   "cell_type": "markdown",
   "metadata": {},
   "source": [
    "[] ip adapter에서 어차피 text 안쓰니까 빼기?\n",
    "[] clip loss 이미지끼리 구현?\n",
    "[] diffusion loss는 image만으로 계산하기?\n",
    "\n",
    "[] clip_loss 비율 테스트 / zero-convolution 추가?\n",
    "[] batch size 늘리기 (64~256) (clip gradient accumulation)\n",
    "[] clean up code\n",
    "[] ppt 만들기\n",
    "[] 교수님 연락\n",
    "\n",
    "Where I left off:\n",
    "[] batch size 늘리기\n",
    "[] check amp mixed precision?\n",
    "[] different learning rate?\n",
    "\n",
    "text - L\n",
    "image - H\n",
    "ok?\n"
   ]
  },
  {
   "cell_type": "markdown",
   "metadata": {},
   "source": [
    "### Notes"
   ]
  },
  {
   "cell_type": "markdown",
   "metadata": {},
   "source": []
  }
 ],
 "metadata": {
  "kernelspec": {
   "display_name": "diff-rep",
   "language": "python",
   "name": "python3"
  },
  "language_info": {
   "codemirror_mode": {
    "name": "ipython",
    "version": 3
   },
   "file_extension": ".py",
   "mimetype": "text/x-python",
   "name": "python",
   "nbconvert_exporter": "python",
   "pygments_lexer": "ipython3",
   "version": "3.12.2"
  }
 },
 "nbformat": 4,
 "nbformat_minor": 2
}
