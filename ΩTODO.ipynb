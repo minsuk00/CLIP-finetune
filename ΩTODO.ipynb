{
 "cells": [
  {
   "cell_type": "markdown",
   "metadata": {},
   "source": [
    "### TODO"
   ]
  },
  {
   "cell_type": "markdown",
   "metadata": {},
   "source": [
    "[] ip adapter에서 어차피 text 안쓰니까 빼기?\n",
    "[] clip loss 이미지끼리 구현?\n",
    "[] diffusion loss는 image만으로 계산하기?\n",
    "[] clip_loss 비율 테스트\n",
    "[] different learning rate?\n",
    "\n",
    "[] clean up code\n",
    "[] ppt 만들기\n",
    "[] 교수님 연락\n",
    "\n",
    "Where I left off:\n",
    "[] clip grad accum\n",
    "[] text encoder pre compute 후 빼기\n",
    "[] batch size 늘리기 (64~256)\n",
    "[] zero-conv (clip 없이 시도?)"
   ]
  },
  {
   "cell_type": "markdown",
   "metadata": {},
   "source": [
    "### Things to talk about next meeting"
   ]
  },
  {
   "cell_type": "markdown",
   "metadata": {},
   "source": []
  }
 ],
 "metadata": {
  "kernelspec": {
   "display_name": "diff-rep",
   "language": "python",
   "name": "python3"
  },
  "language_info": {
   "codemirror_mode": {
    "name": "ipython",
    "version": 3
   },
   "file_extension": ".py",
   "mimetype": "text/x-python",
   "name": "python",
   "nbconvert_exporter": "python",
   "pygments_lexer": "ipython3",
   "version": "3.1.undefined"
  }
 },
 "nbformat": 4,
 "nbformat_minor": 2
}
