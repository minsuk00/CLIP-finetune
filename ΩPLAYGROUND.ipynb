{
 "cells": [
  {
   "cell_type": "code",
   "execution_count": 1,
   "metadata": {},
   "outputs": [
    {
     "data": {
      "text/plain": [
       "[400, 300]"
      ]
     },
     "execution_count": 1,
     "metadata": {},
     "output_type": "execute_result"
    }
   ],
   "source": [
    "import torch\n",
    "import torchvision.transforms.functional as F\n",
    "\n",
    "F.get_image_size(torch.zeros((3, 300, 400)))"
   ]
  },
  {
   "cell_type": "code",
   "execution_count": null,
   "metadata": {},
   "outputs": [],
   "source": [
    "from transformers"
   ]
  },
  {
   "cell_type": "code",
   "execution_count": 6,
   "metadata": {},
   "outputs": [],
   "source": [
    "import torch"
   ]
  },
  {
   "cell_type": "code",
   "execution_count": 7,
   "metadata": {},
   "outputs": [],
   "source": [
    "checkpoint = torch.load(\"/scratch/choi/output/Diff-Rep/clip/vit_b_16-laion400m_e32-55e67d44.pt\", map_location=\"cpu\")"
   ]
  },
  {
   "cell_type": "code",
   "execution_count": 11,
   "metadata": {},
   "outputs": [
    {
     "name": "stdout",
     "output_type": "stream",
     "text": [
      "positional_embedding\n",
      "text_projection\n",
      "logit_scale\n",
      "visual.class_embedding\n",
      "visual.positional_embedding\n",
      "visual.proj\n",
      "visual.conv1.weight\n",
      "visual.ln_pre.weight\n",
      "visual.ln_pre.bias\n",
      "visual.transformer.resblocks.0.attn.in_proj_weight\n",
      "visual.transformer.resblocks.0.attn.in_proj_bias\n",
      "visual.transformer.resblocks.0.attn.out_proj.weight\n",
      "visual.transformer.resblocks.0.attn.out_proj.bias\n",
      "visual.transformer.resblocks.0.ln_1.weight\n",
      "visual.transformer.resblocks.0.ln_1.bias\n",
      "visual.transformer.resblocks.0.mlp.c_fc.weight\n",
      "visual.transformer.resblocks.0.mlp.c_fc.bias\n",
      "visual.transformer.resblocks.0.mlp.c_proj.weight\n",
      "visual.transformer.resblocks.0.mlp.c_proj.bias\n",
      "visual.transformer.resblocks.0.ln_2.weight\n",
      "visual.transformer.resblocks.0.ln_2.bias\n",
      "visual.transformer.resblocks.1.attn.in_proj_weight\n",
      "visual.transformer.resblocks.1.attn.in_proj_bias\n",
      "visual.transformer.resblocks.1.attn.out_proj.weight\n",
      "visual.transformer.resblocks.1.attn.out_proj.bias\n",
      "visual.transformer.resblocks.1.ln_1.weight\n",
      "visual.transformer.resblocks.1.ln_1.bias\n",
      "visual.transformer.resblocks.1.mlp.c_fc.weight\n",
      "visual.transformer.resblocks.1.mlp.c_fc.bias\n",
      "visual.transformer.resblocks.1.mlp.c_proj.weight\n",
      "visual.transformer.resblocks.1.mlp.c_proj.bias\n",
      "visual.transformer.resblocks.1.ln_2.weight\n",
      "visual.transformer.resblocks.1.ln_2.bias\n",
      "visual.transformer.resblocks.2.attn.in_proj_weight\n",
      "visual.transformer.resblocks.2.attn.in_proj_bias\n",
      "visual.transformer.resblocks.2.attn.out_proj.weight\n",
      "visual.transformer.resblocks.2.attn.out_proj.bias\n",
      "visual.transformer.resblocks.2.ln_1.weight\n",
      "visual.transformer.resblocks.2.ln_1.bias\n",
      "visual.transformer.resblocks.2.mlp.c_fc.weight\n",
      "visual.transformer.resblocks.2.mlp.c_fc.bias\n",
      "visual.transformer.resblocks.2.mlp.c_proj.weight\n",
      "visual.transformer.resblocks.2.mlp.c_proj.bias\n",
      "visual.transformer.resblocks.2.ln_2.weight\n",
      "visual.transformer.resblocks.2.ln_2.bias\n",
      "visual.transformer.resblocks.3.attn.in_proj_weight\n",
      "visual.transformer.resblocks.3.attn.in_proj_bias\n",
      "visual.transformer.resblocks.3.attn.out_proj.weight\n",
      "visual.transformer.resblocks.3.attn.out_proj.bias\n",
      "visual.transformer.resblocks.3.ln_1.weight\n",
      "visual.transformer.resblocks.3.ln_1.bias\n",
      "visual.transformer.resblocks.3.mlp.c_fc.weight\n",
      "visual.transformer.resblocks.3.mlp.c_fc.bias\n",
      "visual.transformer.resblocks.3.mlp.c_proj.weight\n",
      "visual.transformer.resblocks.3.mlp.c_proj.bias\n",
      "visual.transformer.resblocks.3.ln_2.weight\n",
      "visual.transformer.resblocks.3.ln_2.bias\n",
      "visual.transformer.resblocks.4.attn.in_proj_weight\n",
      "visual.transformer.resblocks.4.attn.in_proj_bias\n",
      "visual.transformer.resblocks.4.attn.out_proj.weight\n",
      "visual.transformer.resblocks.4.attn.out_proj.bias\n",
      "visual.transformer.resblocks.4.ln_1.weight\n",
      "visual.transformer.resblocks.4.ln_1.bias\n",
      "visual.transformer.resblocks.4.mlp.c_fc.weight\n",
      "visual.transformer.resblocks.4.mlp.c_fc.bias\n",
      "visual.transformer.resblocks.4.mlp.c_proj.weight\n",
      "visual.transformer.resblocks.4.mlp.c_proj.bias\n",
      "visual.transformer.resblocks.4.ln_2.weight\n",
      "visual.transformer.resblocks.4.ln_2.bias\n",
      "visual.transformer.resblocks.5.attn.in_proj_weight\n",
      "visual.transformer.resblocks.5.attn.in_proj_bias\n",
      "visual.transformer.resblocks.5.attn.out_proj.weight\n",
      "visual.transformer.resblocks.5.attn.out_proj.bias\n",
      "visual.transformer.resblocks.5.ln_1.weight\n",
      "visual.transformer.resblocks.5.ln_1.bias\n",
      "visual.transformer.resblocks.5.mlp.c_fc.weight\n",
      "visual.transformer.resblocks.5.mlp.c_fc.bias\n",
      "visual.transformer.resblocks.5.mlp.c_proj.weight\n",
      "visual.transformer.resblocks.5.mlp.c_proj.bias\n",
      "visual.transformer.resblocks.5.ln_2.weight\n",
      "visual.transformer.resblocks.5.ln_2.bias\n",
      "visual.transformer.resblocks.6.attn.in_proj_weight\n",
      "visual.transformer.resblocks.6.attn.in_proj_bias\n",
      "visual.transformer.resblocks.6.attn.out_proj.weight\n",
      "visual.transformer.resblocks.6.attn.out_proj.bias\n",
      "visual.transformer.resblocks.6.ln_1.weight\n",
      "visual.transformer.resblocks.6.ln_1.bias\n",
      "visual.transformer.resblocks.6.mlp.c_fc.weight\n",
      "visual.transformer.resblocks.6.mlp.c_fc.bias\n",
      "visual.transformer.resblocks.6.mlp.c_proj.weight\n",
      "visual.transformer.resblocks.6.mlp.c_proj.bias\n",
      "visual.transformer.resblocks.6.ln_2.weight\n",
      "visual.transformer.resblocks.6.ln_2.bias\n",
      "visual.transformer.resblocks.7.attn.in_proj_weight\n",
      "visual.transformer.resblocks.7.attn.in_proj_bias\n",
      "visual.transformer.resblocks.7.attn.out_proj.weight\n",
      "visual.transformer.resblocks.7.attn.out_proj.bias\n",
      "visual.transformer.resblocks.7.ln_1.weight\n",
      "visual.transformer.resblocks.7.ln_1.bias\n",
      "visual.transformer.resblocks.7.mlp.c_fc.weight\n",
      "visual.transformer.resblocks.7.mlp.c_fc.bias\n",
      "visual.transformer.resblocks.7.mlp.c_proj.weight\n",
      "visual.transformer.resblocks.7.mlp.c_proj.bias\n",
      "visual.transformer.resblocks.7.ln_2.weight\n",
      "visual.transformer.resblocks.7.ln_2.bias\n",
      "visual.transformer.resblocks.8.attn.in_proj_weight\n",
      "visual.transformer.resblocks.8.attn.in_proj_bias\n",
      "visual.transformer.resblocks.8.attn.out_proj.weight\n",
      "visual.transformer.resblocks.8.attn.out_proj.bias\n",
      "visual.transformer.resblocks.8.ln_1.weight\n",
      "visual.transformer.resblocks.8.ln_1.bias\n",
      "visual.transformer.resblocks.8.mlp.c_fc.weight\n",
      "visual.transformer.resblocks.8.mlp.c_fc.bias\n",
      "visual.transformer.resblocks.8.mlp.c_proj.weight\n",
      "visual.transformer.resblocks.8.mlp.c_proj.bias\n",
      "visual.transformer.resblocks.8.ln_2.weight\n",
      "visual.transformer.resblocks.8.ln_2.bias\n",
      "visual.transformer.resblocks.9.attn.in_proj_weight\n",
      "visual.transformer.resblocks.9.attn.in_proj_bias\n",
      "visual.transformer.resblocks.9.attn.out_proj.weight\n",
      "visual.transformer.resblocks.9.attn.out_proj.bias\n",
      "visual.transformer.resblocks.9.ln_1.weight\n",
      "visual.transformer.resblocks.9.ln_1.bias\n",
      "visual.transformer.resblocks.9.mlp.c_fc.weight\n",
      "visual.transformer.resblocks.9.mlp.c_fc.bias\n",
      "visual.transformer.resblocks.9.mlp.c_proj.weight\n",
      "visual.transformer.resblocks.9.mlp.c_proj.bias\n",
      "visual.transformer.resblocks.9.ln_2.weight\n",
      "visual.transformer.resblocks.9.ln_2.bias\n",
      "visual.transformer.resblocks.10.attn.in_proj_weight\n",
      "visual.transformer.resblocks.10.attn.in_proj_bias\n",
      "visual.transformer.resblocks.10.attn.out_proj.weight\n",
      "visual.transformer.resblocks.10.attn.out_proj.bias\n",
      "visual.transformer.resblocks.10.ln_1.weight\n",
      "visual.transformer.resblocks.10.ln_1.bias\n",
      "visual.transformer.resblocks.10.mlp.c_fc.weight\n",
      "visual.transformer.resblocks.10.mlp.c_fc.bias\n",
      "visual.transformer.resblocks.10.mlp.c_proj.weight\n",
      "visual.transformer.resblocks.10.mlp.c_proj.bias\n",
      "visual.transformer.resblocks.10.ln_2.weight\n",
      "visual.transformer.resblocks.10.ln_2.bias\n",
      "visual.transformer.resblocks.11.attn.in_proj_weight\n",
      "visual.transformer.resblocks.11.attn.in_proj_bias\n",
      "visual.transformer.resblocks.11.attn.out_proj.weight\n",
      "visual.transformer.resblocks.11.attn.out_proj.bias\n",
      "visual.transformer.resblocks.11.ln_1.weight\n",
      "visual.transformer.resblocks.11.ln_1.bias\n",
      "visual.transformer.resblocks.11.mlp.c_fc.weight\n",
      "visual.transformer.resblocks.11.mlp.c_fc.bias\n",
      "visual.transformer.resblocks.11.mlp.c_proj.weight\n",
      "visual.transformer.resblocks.11.mlp.c_proj.bias\n",
      "visual.transformer.resblocks.11.ln_2.weight\n",
      "visual.transformer.resblocks.11.ln_2.bias\n",
      "visual.ln_post.weight\n",
      "visual.ln_post.bias\n",
      "transformer.resblocks.0.attn.in_proj_weight\n",
      "transformer.resblocks.0.attn.in_proj_bias\n",
      "transformer.resblocks.0.attn.out_proj.weight\n",
      "transformer.resblocks.0.attn.out_proj.bias\n",
      "transformer.resblocks.0.ln_1.weight\n",
      "transformer.resblocks.0.ln_1.bias\n",
      "transformer.resblocks.0.mlp.c_fc.weight\n",
      "transformer.resblocks.0.mlp.c_fc.bias\n",
      "transformer.resblocks.0.mlp.c_proj.weight\n",
      "transformer.resblocks.0.mlp.c_proj.bias\n",
      "transformer.resblocks.0.ln_2.weight\n",
      "transformer.resblocks.0.ln_2.bias\n",
      "transformer.resblocks.1.attn.in_proj_weight\n",
      "transformer.resblocks.1.attn.in_proj_bias\n",
      "transformer.resblocks.1.attn.out_proj.weight\n",
      "transformer.resblocks.1.attn.out_proj.bias\n",
      "transformer.resblocks.1.ln_1.weight\n",
      "transformer.resblocks.1.ln_1.bias\n",
      "transformer.resblocks.1.mlp.c_fc.weight\n",
      "transformer.resblocks.1.mlp.c_fc.bias\n",
      "transformer.resblocks.1.mlp.c_proj.weight\n",
      "transformer.resblocks.1.mlp.c_proj.bias\n",
      "transformer.resblocks.1.ln_2.weight\n",
      "transformer.resblocks.1.ln_2.bias\n",
      "transformer.resblocks.2.attn.in_proj_weight\n",
      "transformer.resblocks.2.attn.in_proj_bias\n",
      "transformer.resblocks.2.attn.out_proj.weight\n",
      "transformer.resblocks.2.attn.out_proj.bias\n",
      "transformer.resblocks.2.ln_1.weight\n",
      "transformer.resblocks.2.ln_1.bias\n",
      "transformer.resblocks.2.mlp.c_fc.weight\n",
      "transformer.resblocks.2.mlp.c_fc.bias\n",
      "transformer.resblocks.2.mlp.c_proj.weight\n",
      "transformer.resblocks.2.mlp.c_proj.bias\n",
      "transformer.resblocks.2.ln_2.weight\n",
      "transformer.resblocks.2.ln_2.bias\n",
      "transformer.resblocks.3.attn.in_proj_weight\n",
      "transformer.resblocks.3.attn.in_proj_bias\n",
      "transformer.resblocks.3.attn.out_proj.weight\n",
      "transformer.resblocks.3.attn.out_proj.bias\n",
      "transformer.resblocks.3.ln_1.weight\n",
      "transformer.resblocks.3.ln_1.bias\n",
      "transformer.resblocks.3.mlp.c_fc.weight\n",
      "transformer.resblocks.3.mlp.c_fc.bias\n",
      "transformer.resblocks.3.mlp.c_proj.weight\n",
      "transformer.resblocks.3.mlp.c_proj.bias\n",
      "transformer.resblocks.3.ln_2.weight\n",
      "transformer.resblocks.3.ln_2.bias\n",
      "transformer.resblocks.4.attn.in_proj_weight\n",
      "transformer.resblocks.4.attn.in_proj_bias\n",
      "transformer.resblocks.4.attn.out_proj.weight\n",
      "transformer.resblocks.4.attn.out_proj.bias\n",
      "transformer.resblocks.4.ln_1.weight\n",
      "transformer.resblocks.4.ln_1.bias\n",
      "transformer.resblocks.4.mlp.c_fc.weight\n",
      "transformer.resblocks.4.mlp.c_fc.bias\n",
      "transformer.resblocks.4.mlp.c_proj.weight\n",
      "transformer.resblocks.4.mlp.c_proj.bias\n",
      "transformer.resblocks.4.ln_2.weight\n",
      "transformer.resblocks.4.ln_2.bias\n",
      "transformer.resblocks.5.attn.in_proj_weight\n",
      "transformer.resblocks.5.attn.in_proj_bias\n",
      "transformer.resblocks.5.attn.out_proj.weight\n",
      "transformer.resblocks.5.attn.out_proj.bias\n",
      "transformer.resblocks.5.ln_1.weight\n",
      "transformer.resblocks.5.ln_1.bias\n",
      "transformer.resblocks.5.mlp.c_fc.weight\n",
      "transformer.resblocks.5.mlp.c_fc.bias\n",
      "transformer.resblocks.5.mlp.c_proj.weight\n",
      "transformer.resblocks.5.mlp.c_proj.bias\n",
      "transformer.resblocks.5.ln_2.weight\n",
      "transformer.resblocks.5.ln_2.bias\n",
      "transformer.resblocks.6.attn.in_proj_weight\n",
      "transformer.resblocks.6.attn.in_proj_bias\n",
      "transformer.resblocks.6.attn.out_proj.weight\n",
      "transformer.resblocks.6.attn.out_proj.bias\n",
      "transformer.resblocks.6.ln_1.weight\n",
      "transformer.resblocks.6.ln_1.bias\n",
      "transformer.resblocks.6.mlp.c_fc.weight\n",
      "transformer.resblocks.6.mlp.c_fc.bias\n",
      "transformer.resblocks.6.mlp.c_proj.weight\n",
      "transformer.resblocks.6.mlp.c_proj.bias\n",
      "transformer.resblocks.6.ln_2.weight\n",
      "transformer.resblocks.6.ln_2.bias\n",
      "transformer.resblocks.7.attn.in_proj_weight\n",
      "transformer.resblocks.7.attn.in_proj_bias\n",
      "transformer.resblocks.7.attn.out_proj.weight\n",
      "transformer.resblocks.7.attn.out_proj.bias\n",
      "transformer.resblocks.7.ln_1.weight\n",
      "transformer.resblocks.7.ln_1.bias\n",
      "transformer.resblocks.7.mlp.c_fc.weight\n",
      "transformer.resblocks.7.mlp.c_fc.bias\n",
      "transformer.resblocks.7.mlp.c_proj.weight\n",
      "transformer.resblocks.7.mlp.c_proj.bias\n",
      "transformer.resblocks.7.ln_2.weight\n",
      "transformer.resblocks.7.ln_2.bias\n",
      "transformer.resblocks.8.attn.in_proj_weight\n",
      "transformer.resblocks.8.attn.in_proj_bias\n",
      "transformer.resblocks.8.attn.out_proj.weight\n",
      "transformer.resblocks.8.attn.out_proj.bias\n",
      "transformer.resblocks.8.ln_1.weight\n",
      "transformer.resblocks.8.ln_1.bias\n",
      "transformer.resblocks.8.mlp.c_fc.weight\n",
      "transformer.resblocks.8.mlp.c_fc.bias\n",
      "transformer.resblocks.8.mlp.c_proj.weight\n",
      "transformer.resblocks.8.mlp.c_proj.bias\n",
      "transformer.resblocks.8.ln_2.weight\n",
      "transformer.resblocks.8.ln_2.bias\n",
      "transformer.resblocks.9.attn.in_proj_weight\n",
      "transformer.resblocks.9.attn.in_proj_bias\n",
      "transformer.resblocks.9.attn.out_proj.weight\n",
      "transformer.resblocks.9.attn.out_proj.bias\n",
      "transformer.resblocks.9.ln_1.weight\n",
      "transformer.resblocks.9.ln_1.bias\n",
      "transformer.resblocks.9.mlp.c_fc.weight\n",
      "transformer.resblocks.9.mlp.c_fc.bias\n",
      "transformer.resblocks.9.mlp.c_proj.weight\n",
      "transformer.resblocks.9.mlp.c_proj.bias\n",
      "transformer.resblocks.9.ln_2.weight\n",
      "transformer.resblocks.9.ln_2.bias\n",
      "transformer.resblocks.10.attn.in_proj_weight\n",
      "transformer.resblocks.10.attn.in_proj_bias\n",
      "transformer.resblocks.10.attn.out_proj.weight\n",
      "transformer.resblocks.10.attn.out_proj.bias\n",
      "transformer.resblocks.10.ln_1.weight\n",
      "transformer.resblocks.10.ln_1.bias\n",
      "transformer.resblocks.10.mlp.c_fc.weight\n",
      "transformer.resblocks.10.mlp.c_fc.bias\n",
      "transformer.resblocks.10.mlp.c_proj.weight\n",
      "transformer.resblocks.10.mlp.c_proj.bias\n",
      "transformer.resblocks.10.ln_2.weight\n",
      "transformer.resblocks.10.ln_2.bias\n",
      "transformer.resblocks.11.attn.in_proj_weight\n",
      "transformer.resblocks.11.attn.in_proj_bias\n",
      "transformer.resblocks.11.attn.out_proj.weight\n",
      "transformer.resblocks.11.attn.out_proj.bias\n",
      "transformer.resblocks.11.ln_1.weight\n",
      "transformer.resblocks.11.ln_1.bias\n",
      "transformer.resblocks.11.mlp.c_fc.weight\n",
      "transformer.resblocks.11.mlp.c_fc.bias\n",
      "transformer.resblocks.11.mlp.c_proj.weight\n",
      "transformer.resblocks.11.mlp.c_proj.bias\n",
      "transformer.resblocks.11.ln_2.weight\n",
      "transformer.resblocks.11.ln_2.bias\n",
      "token_embedding.weight\n",
      "ln_final.weight\n",
      "ln_final.bias\n"
     ]
    }
   ],
   "source": [
    "for key in checkpoint.keys():\n",
    "    print(key)"
   ]
  },
  {
   "cell_type": "code",
   "execution_count": 12,
   "metadata": {},
   "outputs": [],
   "source": [
    "ck2 = torch.load(\"/scratch/choi/output/Diff-Rep/mae/mae_pretrain_vit_base.pth\", map_location=\"cpu\")"
   ]
  },
  {
   "cell_type": "code",
   "execution_count": 18,
   "metadata": {},
   "outputs": [
    {
     "name": "stdout",
     "output_type": "stream",
     "text": [
      "cls_token\n",
      "pos_embed\n",
      "patch_embed.proj.weight\n",
      "patch_embed.proj.bias\n",
      "blocks.0.norm1.weight\n",
      "blocks.0.norm1.bias\n",
      "blocks.0.attn.qkv.weight\n",
      "blocks.0.attn.proj.weight\n",
      "blocks.0.attn.proj.bias\n",
      "blocks.0.norm2.weight\n",
      "blocks.0.norm2.bias\n",
      "blocks.0.mlp.fc1.weight\n",
      "blocks.0.mlp.fc1.bias\n",
      "blocks.0.mlp.fc2.weight\n",
      "blocks.0.mlp.fc2.bias\n",
      "blocks.1.norm1.weight\n",
      "blocks.1.norm1.bias\n",
      "blocks.1.attn.qkv.weight\n",
      "blocks.1.attn.proj.weight\n",
      "blocks.1.attn.proj.bias\n",
      "blocks.1.norm2.weight\n",
      "blocks.1.norm2.bias\n",
      "blocks.1.mlp.fc1.weight\n",
      "blocks.1.mlp.fc1.bias\n",
      "blocks.1.mlp.fc2.weight\n",
      "blocks.1.mlp.fc2.bias\n",
      "blocks.2.norm1.weight\n",
      "blocks.2.norm1.bias\n",
      "blocks.2.attn.qkv.weight\n",
      "blocks.2.attn.proj.weight\n",
      "blocks.2.attn.proj.bias\n",
      "blocks.2.norm2.weight\n",
      "blocks.2.norm2.bias\n",
      "blocks.2.mlp.fc1.weight\n",
      "blocks.2.mlp.fc1.bias\n",
      "blocks.2.mlp.fc2.weight\n",
      "blocks.2.mlp.fc2.bias\n",
      "blocks.3.norm1.weight\n",
      "blocks.3.norm1.bias\n",
      "blocks.3.attn.qkv.weight\n",
      "blocks.3.attn.proj.weight\n",
      "blocks.3.attn.proj.bias\n",
      "blocks.3.norm2.weight\n",
      "blocks.3.norm2.bias\n",
      "blocks.3.mlp.fc1.weight\n",
      "blocks.3.mlp.fc1.bias\n",
      "blocks.3.mlp.fc2.weight\n",
      "blocks.3.mlp.fc2.bias\n",
      "blocks.4.norm1.weight\n",
      "blocks.4.norm1.bias\n",
      "blocks.4.attn.qkv.weight\n",
      "blocks.4.attn.proj.weight\n",
      "blocks.4.attn.proj.bias\n",
      "blocks.4.norm2.weight\n",
      "blocks.4.norm2.bias\n",
      "blocks.4.mlp.fc1.weight\n",
      "blocks.4.mlp.fc1.bias\n",
      "blocks.4.mlp.fc2.weight\n",
      "blocks.4.mlp.fc2.bias\n",
      "blocks.5.norm1.weight\n",
      "blocks.5.norm1.bias\n",
      "blocks.5.attn.qkv.weight\n",
      "blocks.5.attn.proj.weight\n",
      "blocks.5.attn.proj.bias\n",
      "blocks.5.norm2.weight\n",
      "blocks.5.norm2.bias\n",
      "blocks.5.mlp.fc1.weight\n",
      "blocks.5.mlp.fc1.bias\n",
      "blocks.5.mlp.fc2.weight\n",
      "blocks.5.mlp.fc2.bias\n",
      "blocks.6.norm1.weight\n",
      "blocks.6.norm1.bias\n",
      "blocks.6.attn.qkv.weight\n",
      "blocks.6.attn.proj.weight\n",
      "blocks.6.attn.proj.bias\n",
      "blocks.6.norm2.weight\n",
      "blocks.6.norm2.bias\n",
      "blocks.6.mlp.fc1.weight\n",
      "blocks.6.mlp.fc1.bias\n",
      "blocks.6.mlp.fc2.weight\n",
      "blocks.6.mlp.fc2.bias\n",
      "blocks.7.norm1.weight\n",
      "blocks.7.norm1.bias\n",
      "blocks.7.attn.qkv.weight\n",
      "blocks.7.attn.proj.weight\n",
      "blocks.7.attn.proj.bias\n",
      "blocks.7.norm2.weight\n",
      "blocks.7.norm2.bias\n",
      "blocks.7.mlp.fc1.weight\n",
      "blocks.7.mlp.fc1.bias\n",
      "blocks.7.mlp.fc2.weight\n",
      "blocks.7.mlp.fc2.bias\n",
      "blocks.8.norm1.weight\n",
      "blocks.8.norm1.bias\n",
      "blocks.8.attn.qkv.weight\n",
      "blocks.8.attn.proj.weight\n",
      "blocks.8.attn.proj.bias\n",
      "blocks.8.norm2.weight\n",
      "blocks.8.norm2.bias\n",
      "blocks.8.mlp.fc1.weight\n",
      "blocks.8.mlp.fc1.bias\n",
      "blocks.8.mlp.fc2.weight\n",
      "blocks.8.mlp.fc2.bias\n",
      "blocks.9.norm1.weight\n",
      "blocks.9.norm1.bias\n",
      "blocks.9.attn.qkv.weight\n",
      "blocks.9.attn.proj.weight\n",
      "blocks.9.attn.proj.bias\n",
      "blocks.9.norm2.weight\n",
      "blocks.9.norm2.bias\n",
      "blocks.9.mlp.fc1.weight\n",
      "blocks.9.mlp.fc1.bias\n",
      "blocks.9.mlp.fc2.weight\n",
      "blocks.9.mlp.fc2.bias\n",
      "blocks.10.norm1.weight\n",
      "blocks.10.norm1.bias\n",
      "blocks.10.attn.qkv.weight\n",
      "blocks.10.attn.proj.weight\n",
      "blocks.10.attn.proj.bias\n",
      "blocks.10.norm2.weight\n",
      "blocks.10.norm2.bias\n",
      "blocks.10.mlp.fc1.weight\n",
      "blocks.10.mlp.fc1.bias\n",
      "blocks.10.mlp.fc2.weight\n",
      "blocks.10.mlp.fc2.bias\n",
      "blocks.11.norm1.weight\n",
      "blocks.11.norm1.bias\n",
      "blocks.11.attn.qkv.weight\n",
      "blocks.11.attn.proj.weight\n",
      "blocks.11.attn.proj.bias\n",
      "blocks.11.norm2.weight\n",
      "blocks.11.norm2.bias\n",
      "blocks.11.mlp.fc1.weight\n",
      "blocks.11.mlp.fc1.bias\n",
      "blocks.11.mlp.fc2.weight\n",
      "blocks.11.mlp.fc2.bias\n",
      "norm.weight\n",
      "norm.bias\n",
      "blocks.0.attn.qkv.bias\n",
      "blocks.1.attn.qkv.bias\n",
      "blocks.2.attn.qkv.bias\n",
      "blocks.3.attn.qkv.bias\n",
      "blocks.4.attn.qkv.bias\n",
      "blocks.5.attn.qkv.bias\n",
      "blocks.6.attn.qkv.bias\n",
      "blocks.7.attn.qkv.bias\n",
      "blocks.8.attn.qkv.bias\n",
      "blocks.9.attn.qkv.bias\n",
      "blocks.10.attn.qkv.bias\n",
      "blocks.11.attn.qkv.bias\n"
     ]
    }
   ],
   "source": [
    "for key in ck2['model'].keys():\n",
    "    print(key)"
   ]
  },
  {
   "cell_type": "code",
   "execution_count": 19,
   "metadata": {},
   "outputs": [],
   "source": [
    "import pickle"
   ]
  },
  {
   "cell_type": "code",
   "execution_count": 43,
   "metadata": {},
   "outputs": [],
   "source": [
    "pkl = '/scratch/choi/output/Diff-Rep/clip/pytorch_model.bin?download=true'\n",
    "# with open(pkl,'rb') as f:\n",
    "# o = pickle.load(f)\n",
    "\n",
    "ckpt = torch.load(pkl)"
   ]
  },
  {
   "cell_type": "code",
   "execution_count": 40,
   "metadata": {},
   "outputs": [],
   "source": [
    "from timm.models.vision_transformer import VisionTransformer\n",
    "from functools import partial\n",
    "import torch.nn as nn"
   ]
  },
  {
   "cell_type": "code",
   "execution_count": 42,
   "metadata": {},
   "outputs": [],
   "source": [
    "model = VisionTransformer(\n",
    "    patch_size=16,\n",
    "    embed_dim=768,\n",
    "    depth=12,\n",
    "    num_heads=12,\n",
    "    mlp_ratio=4,\n",
    "    qkv_bias=True,\n",
    "    norm_layer=partial(nn.LayerNorm, eps=1e-6),\n",
    ")"
   ]
  },
  {
   "cell_type": "code",
   "execution_count": 44,
   "metadata": {},
   "outputs": [
    {
     "ename": "RuntimeError",
     "evalue": "Error(s) in loading state_dict for VisionTransformer:\n\tMissing key(s) in state_dict: \"cls_token\", \"pos_embed\", \"patch_embed.proj.weight\", \"patch_embed.proj.bias\", \"blocks.0.norm1.weight\", \"blocks.0.norm1.bias\", \"blocks.0.attn.qkv.weight\", \"blocks.0.attn.qkv.bias\", \"blocks.0.attn.proj.weight\", \"blocks.0.attn.proj.bias\", \"blocks.0.norm2.weight\", \"blocks.0.norm2.bias\", \"blocks.0.mlp.fc1.weight\", \"blocks.0.mlp.fc1.bias\", \"blocks.0.mlp.fc2.weight\", \"blocks.0.mlp.fc2.bias\", \"blocks.1.norm1.weight\", \"blocks.1.norm1.bias\", \"blocks.1.attn.qkv.weight\", \"blocks.1.attn.qkv.bias\", \"blocks.1.attn.proj.weight\", \"blocks.1.attn.proj.bias\", \"blocks.1.norm2.weight\", \"blocks.1.norm2.bias\", \"blocks.1.mlp.fc1.weight\", \"blocks.1.mlp.fc1.bias\", \"blocks.1.mlp.fc2.weight\", \"blocks.1.mlp.fc2.bias\", \"blocks.2.norm1.weight\", \"blocks.2.norm1.bias\", \"blocks.2.attn.qkv.weight\", \"blocks.2.attn.qkv.bias\", \"blocks.2.attn.proj.weight\", \"blocks.2.attn.proj.bias\", \"blocks.2.norm2.weight\", \"blocks.2.norm2.bias\", \"blocks.2.mlp.fc1.weight\", \"blocks.2.mlp.fc1.bias\", \"blocks.2.mlp.fc2.weight\", \"blocks.2.mlp.fc2.bias\", \"blocks.3.norm1.weight\", \"blocks.3.norm1.bias\", \"blocks.3.attn.qkv.weight\", \"blocks.3.attn.qkv.bias\", \"blocks.3.attn.proj.weight\", \"blocks.3.attn.proj.bias\", \"blocks.3.norm2.weight\", \"blocks.3.norm2.bias\", \"blocks.3.mlp.fc1.weight\", \"blocks.3.mlp.fc1.bias\", \"blocks.3.mlp.fc2.weight\", \"blocks.3.mlp.fc2.bias\", \"blocks.4.norm1.weight\", \"blocks.4.norm1.bias\", \"blocks.4.attn.qkv.weight\", \"blocks.4.attn.qkv.bias\", \"blocks.4.attn.proj.weight\", \"blocks.4.attn.proj.bias\", \"blocks.4.norm2.weight\", \"blocks.4.norm2.bias\", \"blocks.4.mlp.fc1.weight\", \"blocks.4.mlp.fc1.bias\", \"blocks.4.mlp.fc2.weight\", \"blocks.4.mlp.fc2.bias\", \"blocks.5.norm1.weight\", \"blocks.5.norm1.bias\", \"blocks.5.attn.qkv.weight\", \"blocks.5.attn.qkv.bias\", \"blocks.5.attn.proj.weight\", \"blocks.5.attn.proj.bias\", \"blocks.5.norm2.weight\", \"blocks.5.norm2.bias\", \"blocks.5.mlp.fc1.weight\", \"blocks.5.mlp.fc1.bias\", \"blocks.5.mlp.fc2.weight\", \"blocks.5.mlp.fc2.bias\", \"blocks.6.norm1.weight\", \"blocks.6.norm1.bias\", \"blocks.6.attn.qkv.weight\", \"blocks.6.attn.qkv.bias\", \"blocks.6.attn.proj.weight\", \"blocks.6.attn.proj.bias\", \"blocks.6.norm2.weight\", \"blocks.6.norm2.bias\", \"blocks.6.mlp.fc1.weight\", \"blocks.6.mlp.fc1.bias\", \"blocks.6.mlp.fc2.weight\", \"blocks.6.mlp.fc2.bias\", \"blocks.7.norm1.weight\", \"blocks.7.norm1.bias\", \"blocks.7.attn.qkv.weight\", \"blocks.7.attn.qkv.bias\", \"blocks.7.attn.proj.weight\", \"blocks.7.attn.proj.bias\", \"blocks.7.norm2.weight\", \"blocks.7.norm2.bias\", \"blocks.7.mlp.fc1.weight\", \"blocks.7.mlp.fc1.bias\", \"blocks.7.mlp.fc2.weight\", \"blocks.7.mlp.fc2.bias\", \"blocks.8.norm1.weight\", \"blocks.8.norm1.bias\", \"blocks.8.attn.qkv.weight\", \"blocks.8.attn.qkv.bias\", \"blocks.8.attn.proj.weight\", \"blocks.8.attn.proj.bias\", \"blocks.8.norm2.weight\", \"blocks.8.norm2.bias\", \"blocks.8.mlp.fc1.weight\", \"blocks.8.mlp.fc1.bias\", \"blocks.8.mlp.fc2.weight\", \"blocks.8.mlp.fc2.bias\", \"blocks.9.norm1.weight\", \"blocks.9.norm1.bias\", \"blocks.9.attn.qkv.weight\", \"blocks.9.attn.qkv.bias\", \"blocks.9.attn.proj.weight\", \"blocks.9.attn.proj.bias\", \"blocks.9.norm2.weight\", \"blocks.9.norm2.bias\", \"blocks.9.mlp.fc1.weight\", \"blocks.9.mlp.fc1.bias\", \"blocks.9.mlp.fc2.weight\", \"blocks.9.mlp.fc2.bias\", \"blocks.10.norm1.weight\", \"blocks.10.norm1.bias\", \"blocks.10.attn.qkv.weight\", \"blocks.10.attn.qkv.bias\", \"blocks.10.attn.proj.weight\", \"blocks.10.attn.proj.bias\", \"blocks.10.norm2.weight\", \"blocks.10.norm2.bias\", \"blocks.10.mlp.fc1.weight\", \"blocks.10.mlp.fc1.bias\", \"blocks.10.mlp.fc2.weight\", \"blocks.10.mlp.fc2.bias\", \"blocks.11.norm1.weight\", \"blocks.11.norm1.bias\", \"blocks.11.attn.qkv.weight\", \"blocks.11.attn.qkv.bias\", \"blocks.11.attn.proj.weight\", \"blocks.11.attn.proj.bias\", \"blocks.11.norm2.weight\", \"blocks.11.norm2.bias\", \"blocks.11.mlp.fc1.weight\", \"blocks.11.mlp.fc1.bias\", \"blocks.11.mlp.fc2.weight\", \"blocks.11.mlp.fc2.bias\", \"norm.weight\", \"norm.bias\", \"head.weight\", \"head.bias\". \n\tUnexpected key(s) in state_dict: \"positional_embedding\", \"text_projection\", \"logit_scale\", \"visual.class_embedding\", \"visual.positional_embedding\", \"visual.proj\", \"visual.conv1.weight\", \"visual.ln_pre.weight\", \"visual.ln_pre.bias\", \"visual.transformer.resblocks.0.ln_1.weight\", \"visual.transformer.resblocks.0.ln_1.bias\", \"visual.transformer.resblocks.0.attn.in_proj_weight\", \"visual.transformer.resblocks.0.attn.in_proj_bias\", \"visual.transformer.resblocks.0.attn.out_proj.weight\", \"visual.transformer.resblocks.0.attn.out_proj.bias\", \"visual.transformer.resblocks.0.ln_2.weight\", \"visual.transformer.resblocks.0.ln_2.bias\", \"visual.transformer.resblocks.0.mlp.c_fc.weight\", \"visual.transformer.resblocks.0.mlp.c_fc.bias\", \"visual.transformer.resblocks.0.mlp.c_proj.weight\", \"visual.transformer.resblocks.0.mlp.c_proj.bias\", \"visual.transformer.resblocks.1.ln_1.weight\", \"visual.transformer.resblocks.1.ln_1.bias\", \"visual.transformer.resblocks.1.attn.in_proj_weight\", \"visual.transformer.resblocks.1.attn.in_proj_bias\", \"visual.transformer.resblocks.1.attn.out_proj.weight\", \"visual.transformer.resblocks.1.attn.out_proj.bias\", \"visual.transformer.resblocks.1.ln_2.weight\", \"visual.transformer.resblocks.1.ln_2.bias\", \"visual.transformer.resblocks.1.mlp.c_fc.weight\", \"visual.transformer.resblocks.1.mlp.c_fc.bias\", \"visual.transformer.resblocks.1.mlp.c_proj.weight\", \"visual.transformer.resblocks.1.mlp.c_proj.bias\", \"visual.transformer.resblocks.2.ln_1.weight\", \"visual.transformer.resblocks.2.ln_1.bias\", \"visual.transformer.resblocks.2.attn.in_proj_weight\", \"visual.transformer.resblocks.2.attn.in_proj_bias\", \"visual.transformer.resblocks.2.attn.out_proj.weight\", \"visual.transformer.resblocks.2.attn.out_proj.bias\", \"visual.transformer.resblocks.2.ln_2.weight\", \"visual.transformer.resblocks.2.ln_2.bias\", \"visual.transformer.resblocks.2.mlp.c_fc.weight\", \"visual.transformer.resblocks.2.mlp.c_fc.bias\", \"visual.transformer.resblocks.2.mlp.c_proj.weight\", \"visual.transformer.resblocks.2.mlp.c_proj.bias\", \"visual.transformer.resblocks.3.ln_1.weight\", \"visual.transformer.resblocks.3.ln_1.bias\", \"visual.transformer.resblocks.3.attn.in_proj_weight\", \"visual.transformer.resblocks.3.attn.in_proj_bias\", \"visual.transformer.resblocks.3.attn.out_proj.weight\", \"visual.transformer.resblocks.3.attn.out_proj.bias\", \"visual.transformer.resblocks.3.ln_2.weight\", \"visual.transformer.resblocks.3.ln_2.bias\", \"visual.transformer.resblocks.3.mlp.c_fc.weight\", \"visual.transformer.resblocks.3.mlp.c_fc.bias\", \"visual.transformer.resblocks.3.mlp.c_proj.weight\", \"visual.transformer.resblocks.3.mlp.c_proj.bias\", \"visual.transformer.resblocks.4.ln_1.weight\", \"visual.transformer.resblocks.4.ln_1.bias\", \"visual.transformer.resblocks.4.attn.in_proj_weight\", \"visual.transformer.resblocks.4.attn.in_proj_bias\", \"visual.transformer.resblocks.4.attn.out_proj.weight\", \"visual.transformer.resblocks.4.attn.out_proj.bias\", \"visual.transformer.resblocks.4.ln_2.weight\", \"visual.transformer.resblocks.4.ln_2.bias\", \"visual.transformer.resblocks.4.mlp.c_fc.weight\", \"visual.transformer.resblocks.4.mlp.c_fc.bias\", \"visual.transformer.resblocks.4.mlp.c_proj.weight\", \"visual.transformer.resblocks.4.mlp.c_proj.bias\", \"visual.transformer.resblocks.5.ln_1.weight\", \"visual.transformer.resblocks.5.ln_1.bias\", \"visual.transformer.resblocks.5.attn.in_proj_weight\", \"visual.transformer.resblocks.5.attn.in_proj_bias\", \"visual.transformer.resblocks.5.attn.out_proj.weight\", \"visual.transformer.resblocks.5.attn.out_proj.bias\", \"visual.transformer.resblocks.5.ln_2.weight\", \"visual.transformer.resblocks.5.ln_2.bias\", \"visual.transformer.resblocks.5.mlp.c_fc.weight\", \"visual.transformer.resblocks.5.mlp.c_fc.bias\", \"visual.transformer.resblocks.5.mlp.c_proj.weight\", \"visual.transformer.resblocks.5.mlp.c_proj.bias\", \"visual.transformer.resblocks.6.ln_1.weight\", \"visual.transformer.resblocks.6.ln_1.bias\", \"visual.transformer.resblocks.6.attn.in_proj_weight\", \"visual.transformer.resblocks.6.attn.in_proj_bias\", \"visual.transformer.resblocks.6.attn.out_proj.weight\", \"visual.transformer.resblocks.6.attn.out_proj.bias\", \"visual.transformer.resblocks.6.ln_2.weight\", \"visual.transformer.resblocks.6.ln_2.bias\", \"visual.transformer.resblocks.6.mlp.c_fc.weight\", \"visual.transformer.resblocks.6.mlp.c_fc.bias\", \"visual.transformer.resblocks.6.mlp.c_proj.weight\", \"visual.transformer.resblocks.6.mlp.c_proj.bias\", \"visual.transformer.resblocks.7.ln_1.weight\", \"visual.transformer.resblocks.7.ln_1.bias\", \"visual.transformer.resblocks.7.attn.in_proj_weight\", \"visual.transformer.resblocks.7.attn.in_proj_bias\", \"visual.transformer.resblocks.7.attn.out_proj.weight\", \"visual.transformer.resblocks.7.attn.out_proj.bias\", \"visual.transformer.resblocks.7.ln_2.weight\", \"visual.transformer.resblocks.7.ln_2.bias\", \"visual.transformer.resblocks.7.mlp.c_fc.weight\", \"visual.transformer.resblocks.7.mlp.c_fc.bias\", \"visual.transformer.resblocks.7.mlp.c_proj.weight\", \"visual.transformer.resblocks.7.mlp.c_proj.bias\", \"visual.transformer.resblocks.8.ln_1.weight\", \"visual.transformer.resblocks.8.ln_1.bias\", \"visual.transformer.resblocks.8.attn.in_proj_weight\", \"visual.transformer.resblocks.8.attn.in_proj_bias\", \"visual.transformer.resblocks.8.attn.out_proj.weight\", \"visual.transformer.resblocks.8.attn.out_proj.bias\", \"visual.transformer.resblocks.8.ln_2.weight\", \"visual.transformer.resblocks.8.ln_2.bias\", \"visual.transformer.resblocks.8.mlp.c_fc.weight\", \"visual.transformer.resblocks.8.mlp.c_fc.bias\", \"visual.transformer.resblocks.8.mlp.c_proj.weight\", \"visual.transformer.resblocks.8.mlp.c_proj.bias\", \"visual.transformer.resblocks.9.ln_1.weight\", \"visual.transformer.resblocks.9.ln_1.bias\", \"visual.transformer.resblocks.9.attn.in_proj_weight\", \"visual.transformer.resblocks.9.attn.in_proj_bias\", \"visual.transformer.resblocks.9.attn.out_proj.weight\", \"visual.transformer.resblocks.9.attn.out_proj.bias\", \"visual.transformer.resblocks.9.ln_2.weight\", \"visual.transformer.resblocks.9.ln_2.bias\", \"visual.transformer.resblocks.9.mlp.c_fc.weight\", \"visual.transformer.resblocks.9.mlp.c_fc.bias\", \"visual.transformer.resblocks.9.mlp.c_proj.weight\", \"visual.transformer.resblocks.9.mlp.c_proj.bias\", \"visual.transformer.resblocks.10.ln_1.weight\", \"visual.transformer.resblocks.10.ln_1.bias\", \"visual.transformer.resblocks.10.attn.in_proj_weight\", \"visual.transformer.resblocks.10.attn.in_proj_bias\", \"visual.transformer.resblocks.10.attn.out_proj.weight\", \"visual.transformer.resblocks.10.attn.out_proj.bias\", \"visual.transformer.resblocks.10.ln_2.weight\", \"visual.transformer.resblocks.10.ln_2.bias\", \"visual.transformer.resblocks.10.mlp.c_fc.weight\", \"visual.transformer.resblocks.10.mlp.c_fc.bias\", \"visual.transformer.resblocks.10.mlp.c_proj.weight\", \"visual.transformer.resblocks.10.mlp.c_proj.bias\", \"visual.transformer.resblocks.11.ln_1.weight\", \"visual.transformer.resblocks.11.ln_1.bias\", \"visual.transformer.resblocks.11.attn.in_proj_weight\", \"visual.transformer.resblocks.11.attn.in_proj_bias\", \"visual.transformer.resblocks.11.attn.out_proj.weight\", \"visual.transformer.resblocks.11.attn.out_proj.bias\", \"visual.transformer.resblocks.11.ln_2.weight\", \"visual.transformer.resblocks.11.ln_2.bias\", \"visual.transformer.resblocks.11.mlp.c_fc.weight\", \"visual.transformer.resblocks.11.mlp.c_fc.bias\", \"visual.transformer.resblocks.11.mlp.c_proj.weight\", \"visual.transformer.resblocks.11.mlp.c_proj.bias\", \"visual.ln_post.weight\", \"visual.ln_post.bias\", \"transformer.resblocks.0.ln_1.weight\", \"transformer.resblocks.0.ln_1.bias\", \"transformer.resblocks.0.attn.in_proj_weight\", \"transformer.resblocks.0.attn.in_proj_bias\", \"transformer.resblocks.0.attn.out_proj.weight\", \"transformer.resblocks.0.attn.out_proj.bias\", \"transformer.resblocks.0.ln_2.weight\", \"transformer.resblocks.0.ln_2.bias\", \"transformer.resblocks.0.mlp.c_fc.weight\", \"transformer.resblocks.0.mlp.c_fc.bias\", \"transformer.resblocks.0.mlp.c_proj.weight\", \"transformer.resblocks.0.mlp.c_proj.bias\", \"transformer.resblocks.1.ln_1.weight\", \"transformer.resblocks.1.ln_1.bias\", \"transformer.resblocks.1.attn.in_proj_weight\", \"transformer.resblocks.1.attn.in_proj_bias\", \"transformer.resblocks.1.attn.out_proj.weight\", \"transformer.resblocks.1.attn.out_proj.bias\", \"transformer.resblocks.1.ln_2.weight\", \"transformer.resblocks.1.ln_2.bias\", \"transformer.resblocks.1.mlp.c_fc.weight\", \"transformer.resblocks.1.mlp.c_fc.bias\", \"transformer.resblocks.1.mlp.c_proj.weight\", \"transformer.resblocks.1.mlp.c_proj.bias\", \"transformer.resblocks.2.ln_1.weight\", \"transformer.resblocks.2.ln_1.bias\", \"transformer.resblocks.2.attn.in_proj_weight\", \"transformer.resblocks.2.attn.in_proj_bias\", \"transformer.resblocks.2.attn.out_proj.weight\", \"transformer.resblocks.2.attn.out_proj.bias\", \"transformer.resblocks.2.ln_2.weight\", \"transformer.resblocks.2.ln_2.bias\", \"transformer.resblocks.2.mlp.c_fc.weight\", \"transformer.resblocks.2.mlp.c_fc.bias\", \"transformer.resblocks.2.mlp.c_proj.weight\", \"transformer.resblocks.2.mlp.c_proj.bias\", \"transformer.resblocks.3.ln_1.weight\", \"transformer.resblocks.3.ln_1.bias\", \"transformer.resblocks.3.attn.in_proj_weight\", \"transformer.resblocks.3.attn.in_proj_bias\", \"transformer.resblocks.3.attn.out_proj.weight\", \"transformer.resblocks.3.attn.out_proj.bias\", \"transformer.resblocks.3.ln_2.weight\", \"transformer.resblocks.3.ln_2.bias\", \"transformer.resblocks.3.mlp.c_fc.weight\", \"transformer.resblocks.3.mlp.c_fc.bias\", \"transformer.resblocks.3.mlp.c_proj.weight\", \"transformer.resblocks.3.mlp.c_proj.bias\", \"transformer.resblocks.4.ln_1.weight\", \"transformer.resblocks.4.ln_1.bias\", \"transformer.resblocks.4.attn.in_proj_weight\", \"transformer.resblocks.4.attn.in_proj_bias\", \"transformer.resblocks.4.attn.out_proj.weight\", \"transformer.resblocks.4.attn.out_proj.bias\", \"transformer.resblocks.4.ln_2.weight\", \"transformer.resblocks.4.ln_2.bias\", \"transformer.resblocks.4.mlp.c_fc.weight\", \"transformer.resblocks.4.mlp.c_fc.bias\", \"transformer.resblocks.4.mlp.c_proj.weight\", \"transformer.resblocks.4.mlp.c_proj.bias\", \"transformer.resblocks.5.ln_1.weight\", \"transformer.resblocks.5.ln_1.bias\", \"transformer.resblocks.5.attn.in_proj_weight\", \"transformer.resblocks.5.attn.in_proj_bias\", \"transformer.resblocks.5.attn.out_proj.weight\", \"transformer.resblocks.5.attn.out_proj.bias\", \"transformer.resblocks.5.ln_2.weight\", \"transformer.resblocks.5.ln_2.bias\", \"transformer.resblocks.5.mlp.c_fc.weight\", \"transformer.resblocks.5.mlp.c_fc.bias\", \"transformer.resblocks.5.mlp.c_proj.weight\", \"transformer.resblocks.5.mlp.c_proj.bias\", \"transformer.resblocks.6.ln_1.weight\", \"transformer.resblocks.6.ln_1.bias\", \"transformer.resblocks.6.attn.in_proj_weight\", \"transformer.resblocks.6.attn.in_proj_bias\", \"transformer.resblocks.6.attn.out_proj.weight\", \"transformer.resblocks.6.attn.out_proj.bias\", \"transformer.resblocks.6.ln_2.weight\", \"transformer.resblocks.6.ln_2.bias\", \"transformer.resblocks.6.mlp.c_fc.weight\", \"transformer.resblocks.6.mlp.c_fc.bias\", \"transformer.resblocks.6.mlp.c_proj.weight\", \"transformer.resblocks.6.mlp.c_proj.bias\", \"transformer.resblocks.7.ln_1.weight\", \"transformer.resblocks.7.ln_1.bias\", \"transformer.resblocks.7.attn.in_proj_weight\", \"transformer.resblocks.7.attn.in_proj_bias\", \"transformer.resblocks.7.attn.out_proj.weight\", \"transformer.resblocks.7.attn.out_proj.bias\", \"transformer.resblocks.7.ln_2.weight\", \"transformer.resblocks.7.ln_2.bias\", \"transformer.resblocks.7.mlp.c_fc.weight\", \"transformer.resblocks.7.mlp.c_fc.bias\", \"transformer.resblocks.7.mlp.c_proj.weight\", \"transformer.resblocks.7.mlp.c_proj.bias\", \"transformer.resblocks.8.ln_1.weight\", \"transformer.resblocks.8.ln_1.bias\", \"transformer.resblocks.8.attn.in_proj_weight\", \"transformer.resblocks.8.attn.in_proj_bias\", \"transformer.resblocks.8.attn.out_proj.weight\", \"transformer.resblocks.8.attn.out_proj.bias\", \"transformer.resblocks.8.ln_2.weight\", \"transformer.resblocks.8.ln_2.bias\", \"transformer.resblocks.8.mlp.c_fc.weight\", \"transformer.resblocks.8.mlp.c_fc.bias\", \"transformer.resblocks.8.mlp.c_proj.weight\", \"transformer.resblocks.8.mlp.c_proj.bias\", \"transformer.resblocks.9.ln_1.weight\", \"transformer.resblocks.9.ln_1.bias\", \"transformer.resblocks.9.attn.in_proj_weight\", \"transformer.resblocks.9.attn.in_proj_bias\", \"transformer.resblocks.9.attn.out_proj.weight\", \"transformer.resblocks.9.attn.out_proj.bias\", \"transformer.resblocks.9.ln_2.weight\", \"transformer.resblocks.9.ln_2.bias\", \"transformer.resblocks.9.mlp.c_fc.weight\", \"transformer.resblocks.9.mlp.c_fc.bias\", \"transformer.resblocks.9.mlp.c_proj.weight\", \"transformer.resblocks.9.mlp.c_proj.bias\", \"transformer.resblocks.10.ln_1.weight\", \"transformer.resblocks.10.ln_1.bias\", \"transformer.resblocks.10.attn.in_proj_weight\", \"transformer.resblocks.10.attn.in_proj_bias\", \"transformer.resblocks.10.attn.out_proj.weight\", \"transformer.resblocks.10.attn.out_proj.bias\", \"transformer.resblocks.10.ln_2.weight\", \"transformer.resblocks.10.ln_2.bias\", \"transformer.resblocks.10.mlp.c_fc.weight\", \"transformer.resblocks.10.mlp.c_fc.bias\", \"transformer.resblocks.10.mlp.c_proj.weight\", \"transformer.resblocks.10.mlp.c_proj.bias\", \"transformer.resblocks.11.ln_1.weight\", \"transformer.resblocks.11.ln_1.bias\", \"transformer.resblocks.11.attn.in_proj_weight\", \"transformer.resblocks.11.attn.in_proj_bias\", \"transformer.resblocks.11.attn.out_proj.weight\", \"transformer.resblocks.11.attn.out_proj.bias\", \"transformer.resblocks.11.ln_2.weight\", \"transformer.resblocks.11.ln_2.bias\", \"transformer.resblocks.11.mlp.c_fc.weight\", \"transformer.resblocks.11.mlp.c_fc.bias\", \"transformer.resblocks.11.mlp.c_proj.weight\", \"transformer.resblocks.11.mlp.c_proj.bias\", \"token_embedding.weight\", \"ln_final.weight\", \"ln_final.bias\". ",
     "output_type": "error",
     "traceback": [
      "\u001b[0;31m---------------------------------------------------------------------------\u001b[0m",
      "\u001b[0;31mRuntimeError\u001b[0m                              Traceback (most recent call last)",
      "Cell \u001b[0;32mIn[44], line 1\u001b[0m\n\u001b[0;32m----> 1\u001b[0m \u001b[43mmodel\u001b[49m\u001b[38;5;241;43m.\u001b[39;49m\u001b[43mload_state_dict\u001b[49m\u001b[43m(\u001b[49m\u001b[43mckpt\u001b[49m\u001b[43m)\u001b[49m\n",
      "File \u001b[0;32m~/Downloads/miniconda3/envs/diff-rep/lib/python3.12/site-packages/torch/nn/modules/module.py:2153\u001b[0m, in \u001b[0;36mModule.load_state_dict\u001b[0;34m(self, state_dict, strict, assign)\u001b[0m\n\u001b[1;32m   2148\u001b[0m         error_msgs\u001b[38;5;241m.\u001b[39minsert(\n\u001b[1;32m   2149\u001b[0m             \u001b[38;5;241m0\u001b[39m, \u001b[38;5;124m'\u001b[39m\u001b[38;5;124mMissing key(s) in state_dict: \u001b[39m\u001b[38;5;132;01m{}\u001b[39;00m\u001b[38;5;124m. \u001b[39m\u001b[38;5;124m'\u001b[39m\u001b[38;5;241m.\u001b[39mformat(\n\u001b[1;32m   2150\u001b[0m                 \u001b[38;5;124m'\u001b[39m\u001b[38;5;124m, \u001b[39m\u001b[38;5;124m'\u001b[39m\u001b[38;5;241m.\u001b[39mjoin(\u001b[38;5;124mf\u001b[39m\u001b[38;5;124m'\u001b[39m\u001b[38;5;124m\"\u001b[39m\u001b[38;5;132;01m{\u001b[39;00mk\u001b[38;5;132;01m}\u001b[39;00m\u001b[38;5;124m\"\u001b[39m\u001b[38;5;124m'\u001b[39m \u001b[38;5;28;01mfor\u001b[39;00m k \u001b[38;5;129;01min\u001b[39;00m missing_keys)))\n\u001b[1;32m   2152\u001b[0m \u001b[38;5;28;01mif\u001b[39;00m \u001b[38;5;28mlen\u001b[39m(error_msgs) \u001b[38;5;241m>\u001b[39m \u001b[38;5;241m0\u001b[39m:\n\u001b[0;32m-> 2153\u001b[0m     \u001b[38;5;28;01mraise\u001b[39;00m \u001b[38;5;167;01mRuntimeError\u001b[39;00m(\u001b[38;5;124m'\u001b[39m\u001b[38;5;124mError(s) in loading state_dict for \u001b[39m\u001b[38;5;132;01m{}\u001b[39;00m\u001b[38;5;124m:\u001b[39m\u001b[38;5;130;01m\\n\u001b[39;00m\u001b[38;5;130;01m\\t\u001b[39;00m\u001b[38;5;132;01m{}\u001b[39;00m\u001b[38;5;124m'\u001b[39m\u001b[38;5;241m.\u001b[39mformat(\n\u001b[1;32m   2154\u001b[0m                        \u001b[38;5;28mself\u001b[39m\u001b[38;5;241m.\u001b[39m\u001b[38;5;18m__class__\u001b[39m\u001b[38;5;241m.\u001b[39m\u001b[38;5;18m__name__\u001b[39m, \u001b[38;5;124m\"\u001b[39m\u001b[38;5;130;01m\\n\u001b[39;00m\u001b[38;5;130;01m\\t\u001b[39;00m\u001b[38;5;124m\"\u001b[39m\u001b[38;5;241m.\u001b[39mjoin(error_msgs)))\n\u001b[1;32m   2155\u001b[0m \u001b[38;5;28;01mreturn\u001b[39;00m _IncompatibleKeys(missing_keys, unexpected_keys)\n",
      "\u001b[0;31mRuntimeError\u001b[0m: Error(s) in loading state_dict for VisionTransformer:\n\tMissing key(s) in state_dict: \"cls_token\", \"pos_embed\", \"patch_embed.proj.weight\", \"patch_embed.proj.bias\", \"blocks.0.norm1.weight\", \"blocks.0.norm1.bias\", \"blocks.0.attn.qkv.weight\", \"blocks.0.attn.qkv.bias\", \"blocks.0.attn.proj.weight\", \"blocks.0.attn.proj.bias\", \"blocks.0.norm2.weight\", \"blocks.0.norm2.bias\", \"blocks.0.mlp.fc1.weight\", \"blocks.0.mlp.fc1.bias\", \"blocks.0.mlp.fc2.weight\", \"blocks.0.mlp.fc2.bias\", \"blocks.1.norm1.weight\", \"blocks.1.norm1.bias\", \"blocks.1.attn.qkv.weight\", \"blocks.1.attn.qkv.bias\", \"blocks.1.attn.proj.weight\", \"blocks.1.attn.proj.bias\", \"blocks.1.norm2.weight\", \"blocks.1.norm2.bias\", \"blocks.1.mlp.fc1.weight\", \"blocks.1.mlp.fc1.bias\", \"blocks.1.mlp.fc2.weight\", \"blocks.1.mlp.fc2.bias\", \"blocks.2.norm1.weight\", \"blocks.2.norm1.bias\", \"blocks.2.attn.qkv.weight\", \"blocks.2.attn.qkv.bias\", \"blocks.2.attn.proj.weight\", \"blocks.2.attn.proj.bias\", \"blocks.2.norm2.weight\", \"blocks.2.norm2.bias\", \"blocks.2.mlp.fc1.weight\", \"blocks.2.mlp.fc1.bias\", \"blocks.2.mlp.fc2.weight\", \"blocks.2.mlp.fc2.bias\", \"blocks.3.norm1.weight\", \"blocks.3.norm1.bias\", \"blocks.3.attn.qkv.weight\", \"blocks.3.attn.qkv.bias\", \"blocks.3.attn.proj.weight\", \"blocks.3.attn.proj.bias\", \"blocks.3.norm2.weight\", \"blocks.3.norm2.bias\", \"blocks.3.mlp.fc1.weight\", \"blocks.3.mlp.fc1.bias\", \"blocks.3.mlp.fc2.weight\", \"blocks.3.mlp.fc2.bias\", \"blocks.4.norm1.weight\", \"blocks.4.norm1.bias\", \"blocks.4.attn.qkv.weight\", \"blocks.4.attn.qkv.bias\", \"blocks.4.attn.proj.weight\", \"blocks.4.attn.proj.bias\", \"blocks.4.norm2.weight\", \"blocks.4.norm2.bias\", \"blocks.4.mlp.fc1.weight\", \"blocks.4.mlp.fc1.bias\", \"blocks.4.mlp.fc2.weight\", \"blocks.4.mlp.fc2.bias\", \"blocks.5.norm1.weight\", \"blocks.5.norm1.bias\", \"blocks.5.attn.qkv.weight\", \"blocks.5.attn.qkv.bias\", \"blocks.5.attn.proj.weight\", \"blocks.5.attn.proj.bias\", \"blocks.5.norm2.weight\", \"blocks.5.norm2.bias\", \"blocks.5.mlp.fc1.weight\", \"blocks.5.mlp.fc1.bias\", \"blocks.5.mlp.fc2.weight\", \"blocks.5.mlp.fc2.bias\", \"blocks.6.norm1.weight\", \"blocks.6.norm1.bias\", \"blocks.6.attn.qkv.weight\", \"blocks.6.attn.qkv.bias\", \"blocks.6.attn.proj.weight\", \"blocks.6.attn.proj.bias\", \"blocks.6.norm2.weight\", \"blocks.6.norm2.bias\", \"blocks.6.mlp.fc1.weight\", \"blocks.6.mlp.fc1.bias\", \"blocks.6.mlp.fc2.weight\", \"blocks.6.mlp.fc2.bias\", \"blocks.7.norm1.weight\", \"blocks.7.norm1.bias\", \"blocks.7.attn.qkv.weight\", \"blocks.7.attn.qkv.bias\", \"blocks.7.attn.proj.weight\", \"blocks.7.attn.proj.bias\", \"blocks.7.norm2.weight\", \"blocks.7.norm2.bias\", \"blocks.7.mlp.fc1.weight\", \"blocks.7.mlp.fc1.bias\", \"blocks.7.mlp.fc2.weight\", \"blocks.7.mlp.fc2.bias\", \"blocks.8.norm1.weight\", \"blocks.8.norm1.bias\", \"blocks.8.attn.qkv.weight\", \"blocks.8.attn.qkv.bias\", \"blocks.8.attn.proj.weight\", \"blocks.8.attn.proj.bias\", \"blocks.8.norm2.weight\", \"blocks.8.norm2.bias\", \"blocks.8.mlp.fc1.weight\", \"blocks.8.mlp.fc1.bias\", \"blocks.8.mlp.fc2.weight\", \"blocks.8.mlp.fc2.bias\", \"blocks.9.norm1.weight\", \"blocks.9.norm1.bias\", \"blocks.9.attn.qkv.weight\", \"blocks.9.attn.qkv.bias\", \"blocks.9.attn.proj.weight\", \"blocks.9.attn.proj.bias\", \"blocks.9.norm2.weight\", \"blocks.9.norm2.bias\", \"blocks.9.mlp.fc1.weight\", \"blocks.9.mlp.fc1.bias\", \"blocks.9.mlp.fc2.weight\", \"blocks.9.mlp.fc2.bias\", \"blocks.10.norm1.weight\", \"blocks.10.norm1.bias\", \"blocks.10.attn.qkv.weight\", \"blocks.10.attn.qkv.bias\", \"blocks.10.attn.proj.weight\", \"blocks.10.attn.proj.bias\", \"blocks.10.norm2.weight\", \"blocks.10.norm2.bias\", \"blocks.10.mlp.fc1.weight\", \"blocks.10.mlp.fc1.bias\", \"blocks.10.mlp.fc2.weight\", \"blocks.10.mlp.fc2.bias\", \"blocks.11.norm1.weight\", \"blocks.11.norm1.bias\", \"blocks.11.attn.qkv.weight\", \"blocks.11.attn.qkv.bias\", \"blocks.11.attn.proj.weight\", \"blocks.11.attn.proj.bias\", \"blocks.11.norm2.weight\", \"blocks.11.norm2.bias\", \"blocks.11.mlp.fc1.weight\", \"blocks.11.mlp.fc1.bias\", \"blocks.11.mlp.fc2.weight\", \"blocks.11.mlp.fc2.bias\", \"norm.weight\", \"norm.bias\", \"head.weight\", \"head.bias\". \n\tUnexpected key(s) in state_dict: \"positional_embedding\", \"text_projection\", \"logit_scale\", \"visual.class_embedding\", \"visual.positional_embedding\", \"visual.proj\", \"visual.conv1.weight\", \"visual.ln_pre.weight\", \"visual.ln_pre.bias\", \"visual.transformer.resblocks.0.ln_1.weight\", \"visual.transformer.resblocks.0.ln_1.bias\", \"visual.transformer.resblocks.0.attn.in_proj_weight\", \"visual.transformer.resblocks.0.attn.in_proj_bias\", \"visual.transformer.resblocks.0.attn.out_proj.weight\", \"visual.transformer.resblocks.0.attn.out_proj.bias\", \"visual.transformer.resblocks.0.ln_2.weight\", \"visual.transformer.resblocks.0.ln_2.bias\", \"visual.transformer.resblocks.0.mlp.c_fc.weight\", \"visual.transformer.resblocks.0.mlp.c_fc.bias\", \"visual.transformer.resblocks.0.mlp.c_proj.weight\", \"visual.transformer.resblocks.0.mlp.c_proj.bias\", \"visual.transformer.resblocks.1.ln_1.weight\", \"visual.transformer.resblocks.1.ln_1.bias\", \"visual.transformer.resblocks.1.attn.in_proj_weight\", \"visual.transformer.resblocks.1.attn.in_proj_bias\", \"visual.transformer.resblocks.1.attn.out_proj.weight\", \"visual.transformer.resblocks.1.attn.out_proj.bias\", \"visual.transformer.resblocks.1.ln_2.weight\", \"visual.transformer.resblocks.1.ln_2.bias\", \"visual.transformer.resblocks.1.mlp.c_fc.weight\", \"visual.transformer.resblocks.1.mlp.c_fc.bias\", \"visual.transformer.resblocks.1.mlp.c_proj.weight\", \"visual.transformer.resblocks.1.mlp.c_proj.bias\", \"visual.transformer.resblocks.2.ln_1.weight\", \"visual.transformer.resblocks.2.ln_1.bias\", \"visual.transformer.resblocks.2.attn.in_proj_weight\", \"visual.transformer.resblocks.2.attn.in_proj_bias\", \"visual.transformer.resblocks.2.attn.out_proj.weight\", \"visual.transformer.resblocks.2.attn.out_proj.bias\", \"visual.transformer.resblocks.2.ln_2.weight\", \"visual.transformer.resblocks.2.ln_2.bias\", \"visual.transformer.resblocks.2.mlp.c_fc.weight\", \"visual.transformer.resblocks.2.mlp.c_fc.bias\", \"visual.transformer.resblocks.2.mlp.c_proj.weight\", \"visual.transformer.resblocks.2.mlp.c_proj.bias\", \"visual.transformer.resblocks.3.ln_1.weight\", \"visual.transformer.resblocks.3.ln_1.bias\", \"visual.transformer.resblocks.3.attn.in_proj_weight\", \"visual.transformer.resblocks.3.attn.in_proj_bias\", \"visual.transformer.resblocks.3.attn.out_proj.weight\", \"visual.transformer.resblocks.3.attn.out_proj.bias\", \"visual.transformer.resblocks.3.ln_2.weight\", \"visual.transformer.resblocks.3.ln_2.bias\", \"visual.transformer.resblocks.3.mlp.c_fc.weight\", \"visual.transformer.resblocks.3.mlp.c_fc.bias\", \"visual.transformer.resblocks.3.mlp.c_proj.weight\", \"visual.transformer.resblocks.3.mlp.c_proj.bias\", \"visual.transformer.resblocks.4.ln_1.weight\", \"visual.transformer.resblocks.4.ln_1.bias\", \"visual.transformer.resblocks.4.attn.in_proj_weight\", \"visual.transformer.resblocks.4.attn.in_proj_bias\", \"visual.transformer.resblocks.4.attn.out_proj.weight\", \"visual.transformer.resblocks.4.attn.out_proj.bias\", \"visual.transformer.resblocks.4.ln_2.weight\", \"visual.transformer.resblocks.4.ln_2.bias\", \"visual.transformer.resblocks.4.mlp.c_fc.weight\", \"visual.transformer.resblocks.4.mlp.c_fc.bias\", \"visual.transformer.resblocks.4.mlp.c_proj.weight\", \"visual.transformer.resblocks.4.mlp.c_proj.bias\", \"visual.transformer.resblocks.5.ln_1.weight\", \"visual.transformer.resblocks.5.ln_1.bias\", \"visual.transformer.resblocks.5.attn.in_proj_weight\", \"visual.transformer.resblocks.5.attn.in_proj_bias\", \"visual.transformer.resblocks.5.attn.out_proj.weight\", \"visual.transformer.resblocks.5.attn.out_proj.bias\", \"visual.transformer.resblocks.5.ln_2.weight\", \"visual.transformer.resblocks.5.ln_2.bias\", \"visual.transformer.resblocks.5.mlp.c_fc.weight\", \"visual.transformer.resblocks.5.mlp.c_fc.bias\", \"visual.transformer.resblocks.5.mlp.c_proj.weight\", \"visual.transformer.resblocks.5.mlp.c_proj.bias\", \"visual.transformer.resblocks.6.ln_1.weight\", \"visual.transformer.resblocks.6.ln_1.bias\", \"visual.transformer.resblocks.6.attn.in_proj_weight\", \"visual.transformer.resblocks.6.attn.in_proj_bias\", \"visual.transformer.resblocks.6.attn.out_proj.weight\", \"visual.transformer.resblocks.6.attn.out_proj.bias\", \"visual.transformer.resblocks.6.ln_2.weight\", \"visual.transformer.resblocks.6.ln_2.bias\", \"visual.transformer.resblocks.6.mlp.c_fc.weight\", \"visual.transformer.resblocks.6.mlp.c_fc.bias\", \"visual.transformer.resblocks.6.mlp.c_proj.weight\", \"visual.transformer.resblocks.6.mlp.c_proj.bias\", \"visual.transformer.resblocks.7.ln_1.weight\", \"visual.transformer.resblocks.7.ln_1.bias\", \"visual.transformer.resblocks.7.attn.in_proj_weight\", \"visual.transformer.resblocks.7.attn.in_proj_bias\", \"visual.transformer.resblocks.7.attn.out_proj.weight\", \"visual.transformer.resblocks.7.attn.out_proj.bias\", \"visual.transformer.resblocks.7.ln_2.weight\", \"visual.transformer.resblocks.7.ln_2.bias\", \"visual.transformer.resblocks.7.mlp.c_fc.weight\", \"visual.transformer.resblocks.7.mlp.c_fc.bias\", \"visual.transformer.resblocks.7.mlp.c_proj.weight\", \"visual.transformer.resblocks.7.mlp.c_proj.bias\", \"visual.transformer.resblocks.8.ln_1.weight\", \"visual.transformer.resblocks.8.ln_1.bias\", \"visual.transformer.resblocks.8.attn.in_proj_weight\", \"visual.transformer.resblocks.8.attn.in_proj_bias\", \"visual.transformer.resblocks.8.attn.out_proj.weight\", \"visual.transformer.resblocks.8.attn.out_proj.bias\", \"visual.transformer.resblocks.8.ln_2.weight\", \"visual.transformer.resblocks.8.ln_2.bias\", \"visual.transformer.resblocks.8.mlp.c_fc.weight\", \"visual.transformer.resblocks.8.mlp.c_fc.bias\", \"visual.transformer.resblocks.8.mlp.c_proj.weight\", \"visual.transformer.resblocks.8.mlp.c_proj.bias\", \"visual.transformer.resblocks.9.ln_1.weight\", \"visual.transformer.resblocks.9.ln_1.bias\", \"visual.transformer.resblocks.9.attn.in_proj_weight\", \"visual.transformer.resblocks.9.attn.in_proj_bias\", \"visual.transformer.resblocks.9.attn.out_proj.weight\", \"visual.transformer.resblocks.9.attn.out_proj.bias\", \"visual.transformer.resblocks.9.ln_2.weight\", \"visual.transformer.resblocks.9.ln_2.bias\", \"visual.transformer.resblocks.9.mlp.c_fc.weight\", \"visual.transformer.resblocks.9.mlp.c_fc.bias\", \"visual.transformer.resblocks.9.mlp.c_proj.weight\", \"visual.transformer.resblocks.9.mlp.c_proj.bias\", \"visual.transformer.resblocks.10.ln_1.weight\", \"visual.transformer.resblocks.10.ln_1.bias\", \"visual.transformer.resblocks.10.attn.in_proj_weight\", \"visual.transformer.resblocks.10.attn.in_proj_bias\", \"visual.transformer.resblocks.10.attn.out_proj.weight\", \"visual.transformer.resblocks.10.attn.out_proj.bias\", \"visual.transformer.resblocks.10.ln_2.weight\", \"visual.transformer.resblocks.10.ln_2.bias\", \"visual.transformer.resblocks.10.mlp.c_fc.weight\", \"visual.transformer.resblocks.10.mlp.c_fc.bias\", \"visual.transformer.resblocks.10.mlp.c_proj.weight\", \"visual.transformer.resblocks.10.mlp.c_proj.bias\", \"visual.transformer.resblocks.11.ln_1.weight\", \"visual.transformer.resblocks.11.ln_1.bias\", \"visual.transformer.resblocks.11.attn.in_proj_weight\", \"visual.transformer.resblocks.11.attn.in_proj_bias\", \"visual.transformer.resblocks.11.attn.out_proj.weight\", \"visual.transformer.resblocks.11.attn.out_proj.bias\", \"visual.transformer.resblocks.11.ln_2.weight\", \"visual.transformer.resblocks.11.ln_2.bias\", \"visual.transformer.resblocks.11.mlp.c_fc.weight\", \"visual.transformer.resblocks.11.mlp.c_fc.bias\", \"visual.transformer.resblocks.11.mlp.c_proj.weight\", \"visual.transformer.resblocks.11.mlp.c_proj.bias\", \"visual.ln_post.weight\", \"visual.ln_post.bias\", \"transformer.resblocks.0.ln_1.weight\", \"transformer.resblocks.0.ln_1.bias\", \"transformer.resblocks.0.attn.in_proj_weight\", \"transformer.resblocks.0.attn.in_proj_bias\", \"transformer.resblocks.0.attn.out_proj.weight\", \"transformer.resblocks.0.attn.out_proj.bias\", \"transformer.resblocks.0.ln_2.weight\", \"transformer.resblocks.0.ln_2.bias\", \"transformer.resblocks.0.mlp.c_fc.weight\", \"transformer.resblocks.0.mlp.c_fc.bias\", \"transformer.resblocks.0.mlp.c_proj.weight\", \"transformer.resblocks.0.mlp.c_proj.bias\", \"transformer.resblocks.1.ln_1.weight\", \"transformer.resblocks.1.ln_1.bias\", \"transformer.resblocks.1.attn.in_proj_weight\", \"transformer.resblocks.1.attn.in_proj_bias\", \"transformer.resblocks.1.attn.out_proj.weight\", \"transformer.resblocks.1.attn.out_proj.bias\", \"transformer.resblocks.1.ln_2.weight\", \"transformer.resblocks.1.ln_2.bias\", \"transformer.resblocks.1.mlp.c_fc.weight\", \"transformer.resblocks.1.mlp.c_fc.bias\", \"transformer.resblocks.1.mlp.c_proj.weight\", \"transformer.resblocks.1.mlp.c_proj.bias\", \"transformer.resblocks.2.ln_1.weight\", \"transformer.resblocks.2.ln_1.bias\", \"transformer.resblocks.2.attn.in_proj_weight\", \"transformer.resblocks.2.attn.in_proj_bias\", \"transformer.resblocks.2.attn.out_proj.weight\", \"transformer.resblocks.2.attn.out_proj.bias\", \"transformer.resblocks.2.ln_2.weight\", \"transformer.resblocks.2.ln_2.bias\", \"transformer.resblocks.2.mlp.c_fc.weight\", \"transformer.resblocks.2.mlp.c_fc.bias\", \"transformer.resblocks.2.mlp.c_proj.weight\", \"transformer.resblocks.2.mlp.c_proj.bias\", \"transformer.resblocks.3.ln_1.weight\", \"transformer.resblocks.3.ln_1.bias\", \"transformer.resblocks.3.attn.in_proj_weight\", \"transformer.resblocks.3.attn.in_proj_bias\", \"transformer.resblocks.3.attn.out_proj.weight\", \"transformer.resblocks.3.attn.out_proj.bias\", \"transformer.resblocks.3.ln_2.weight\", \"transformer.resblocks.3.ln_2.bias\", \"transformer.resblocks.3.mlp.c_fc.weight\", \"transformer.resblocks.3.mlp.c_fc.bias\", \"transformer.resblocks.3.mlp.c_proj.weight\", \"transformer.resblocks.3.mlp.c_proj.bias\", \"transformer.resblocks.4.ln_1.weight\", \"transformer.resblocks.4.ln_1.bias\", \"transformer.resblocks.4.attn.in_proj_weight\", \"transformer.resblocks.4.attn.in_proj_bias\", \"transformer.resblocks.4.attn.out_proj.weight\", \"transformer.resblocks.4.attn.out_proj.bias\", \"transformer.resblocks.4.ln_2.weight\", \"transformer.resblocks.4.ln_2.bias\", \"transformer.resblocks.4.mlp.c_fc.weight\", \"transformer.resblocks.4.mlp.c_fc.bias\", \"transformer.resblocks.4.mlp.c_proj.weight\", \"transformer.resblocks.4.mlp.c_proj.bias\", \"transformer.resblocks.5.ln_1.weight\", \"transformer.resblocks.5.ln_1.bias\", \"transformer.resblocks.5.attn.in_proj_weight\", \"transformer.resblocks.5.attn.in_proj_bias\", \"transformer.resblocks.5.attn.out_proj.weight\", \"transformer.resblocks.5.attn.out_proj.bias\", \"transformer.resblocks.5.ln_2.weight\", \"transformer.resblocks.5.ln_2.bias\", \"transformer.resblocks.5.mlp.c_fc.weight\", \"transformer.resblocks.5.mlp.c_fc.bias\", \"transformer.resblocks.5.mlp.c_proj.weight\", \"transformer.resblocks.5.mlp.c_proj.bias\", \"transformer.resblocks.6.ln_1.weight\", \"transformer.resblocks.6.ln_1.bias\", \"transformer.resblocks.6.attn.in_proj_weight\", \"transformer.resblocks.6.attn.in_proj_bias\", \"transformer.resblocks.6.attn.out_proj.weight\", \"transformer.resblocks.6.attn.out_proj.bias\", \"transformer.resblocks.6.ln_2.weight\", \"transformer.resblocks.6.ln_2.bias\", \"transformer.resblocks.6.mlp.c_fc.weight\", \"transformer.resblocks.6.mlp.c_fc.bias\", \"transformer.resblocks.6.mlp.c_proj.weight\", \"transformer.resblocks.6.mlp.c_proj.bias\", \"transformer.resblocks.7.ln_1.weight\", \"transformer.resblocks.7.ln_1.bias\", \"transformer.resblocks.7.attn.in_proj_weight\", \"transformer.resblocks.7.attn.in_proj_bias\", \"transformer.resblocks.7.attn.out_proj.weight\", \"transformer.resblocks.7.attn.out_proj.bias\", \"transformer.resblocks.7.ln_2.weight\", \"transformer.resblocks.7.ln_2.bias\", \"transformer.resblocks.7.mlp.c_fc.weight\", \"transformer.resblocks.7.mlp.c_fc.bias\", \"transformer.resblocks.7.mlp.c_proj.weight\", \"transformer.resblocks.7.mlp.c_proj.bias\", \"transformer.resblocks.8.ln_1.weight\", \"transformer.resblocks.8.ln_1.bias\", \"transformer.resblocks.8.attn.in_proj_weight\", \"transformer.resblocks.8.attn.in_proj_bias\", \"transformer.resblocks.8.attn.out_proj.weight\", \"transformer.resblocks.8.attn.out_proj.bias\", \"transformer.resblocks.8.ln_2.weight\", \"transformer.resblocks.8.ln_2.bias\", \"transformer.resblocks.8.mlp.c_fc.weight\", \"transformer.resblocks.8.mlp.c_fc.bias\", \"transformer.resblocks.8.mlp.c_proj.weight\", \"transformer.resblocks.8.mlp.c_proj.bias\", \"transformer.resblocks.9.ln_1.weight\", \"transformer.resblocks.9.ln_1.bias\", \"transformer.resblocks.9.attn.in_proj_weight\", \"transformer.resblocks.9.attn.in_proj_bias\", \"transformer.resblocks.9.attn.out_proj.weight\", \"transformer.resblocks.9.attn.out_proj.bias\", \"transformer.resblocks.9.ln_2.weight\", \"transformer.resblocks.9.ln_2.bias\", \"transformer.resblocks.9.mlp.c_fc.weight\", \"transformer.resblocks.9.mlp.c_fc.bias\", \"transformer.resblocks.9.mlp.c_proj.weight\", \"transformer.resblocks.9.mlp.c_proj.bias\", \"transformer.resblocks.10.ln_1.weight\", \"transformer.resblocks.10.ln_1.bias\", \"transformer.resblocks.10.attn.in_proj_weight\", \"transformer.resblocks.10.attn.in_proj_bias\", \"transformer.resblocks.10.attn.out_proj.weight\", \"transformer.resblocks.10.attn.out_proj.bias\", \"transformer.resblocks.10.ln_2.weight\", \"transformer.resblocks.10.ln_2.bias\", \"transformer.resblocks.10.mlp.c_fc.weight\", \"transformer.resblocks.10.mlp.c_fc.bias\", \"transformer.resblocks.10.mlp.c_proj.weight\", \"transformer.resblocks.10.mlp.c_proj.bias\", \"transformer.resblocks.11.ln_1.weight\", \"transformer.resblocks.11.ln_1.bias\", \"transformer.resblocks.11.attn.in_proj_weight\", \"transformer.resblocks.11.attn.in_proj_bias\", \"transformer.resblocks.11.attn.out_proj.weight\", \"transformer.resblocks.11.attn.out_proj.bias\", \"transformer.resblocks.11.ln_2.weight\", \"transformer.resblocks.11.ln_2.bias\", \"transformer.resblocks.11.mlp.c_fc.weight\", \"transformer.resblocks.11.mlp.c_fc.bias\", \"transformer.resblocks.11.mlp.c_proj.weight\", \"transformer.resblocks.11.mlp.c_proj.bias\", \"token_embedding.weight\", \"ln_final.weight\", \"ln_final.bias\". "
     ]
    }
   ],
   "source": [
    "model.load_state_dict(ckpt)"
   ]
  },
  {
   "cell_type": "code",
   "execution_count": 1,
   "metadata": {},
   "outputs": [
    {
     "name": "stderr",
     "output_type": "stream",
     "text": [
      "/home/choi/Downloads/miniconda3/envs/diff-rep/lib/python3.12/site-packages/tqdm/auto.py:21: TqdmWarning: IProgress not found. Please update jupyter and ipywidgets. See https://ipywidgets.readthedocs.io/en/stable/user_install.html\n",
      "  from .autonotebook import tqdm as notebook_tqdm\n"
     ]
    }
   ],
   "source": [
    "from transformers import CLIPProcessor, CLIPModel"
   ]
  },
  {
   "cell_type": "code",
   "execution_count": 3,
   "metadata": {},
   "outputs": [],
   "source": [
    "from PIL import Image\n",
    "import requests\n",
    "\n",
    "model = CLIPModel.from_pretrained(\"openai/clip-vit-base-patch16\")\n",
    "processor = CLIPProcessor.from_pretrained(\"openai/clip-vit-base-patch16\")\n",
    "url = \"http://images.cocodataset.org/val2017/000000039769.jpg\"\n",
    "image = Image.open(requests.get(url, stream=True).raw)\n",
    "inputs = processor(text=[\"a photo of a cat\", \"a photo of a dog\"], images=image, return_tensors=\"pt\", padding=True)\n",
    "outputs = model(**inputs)\n",
    "logits_per_image = outputs.logits_per_image  # this is the image-text similarity score\n",
    "probs = logits_per_image.softmax(dim=1)  # we can take the softmax to get the label probabilities"
   ]
  },
  {
   "cell_type": "code",
   "execution_count": 10,
   "metadata": {},
   "outputs": [
    {
     "data": {
      "text/plain": [
       "CLIPVisionTransformer(\n",
       "  (embeddings): CLIPVisionEmbeddings(\n",
       "    (patch_embedding): Conv2d(3, 768, kernel_size=(16, 16), stride=(16, 16), bias=False)\n",
       "    (position_embedding): Embedding(197, 768)\n",
       "  )\n",
       "  (pre_layrnorm): LayerNorm((768,), eps=1e-05, elementwise_affine=True)\n",
       "  (encoder): CLIPEncoder(\n",
       "    (layers): ModuleList(\n",
       "      (0-11): 12 x CLIPEncoderLayer(\n",
       "        (self_attn): CLIPAttention(\n",
       "          (k_proj): Linear(in_features=768, out_features=768, bias=True)\n",
       "          (v_proj): Linear(in_features=768, out_features=768, bias=True)\n",
       "          (q_proj): Linear(in_features=768, out_features=768, bias=True)\n",
       "          (out_proj): Linear(in_features=768, out_features=768, bias=True)\n",
       "        )\n",
       "        (layer_norm1): LayerNorm((768,), eps=1e-05, elementwise_affine=True)\n",
       "        (mlp): CLIPMLP(\n",
       "          (activation_fn): QuickGELUActivation()\n",
       "          (fc1): Linear(in_features=768, out_features=3072, bias=True)\n",
       "          (fc2): Linear(in_features=3072, out_features=768, bias=True)\n",
       "        )\n",
       "        (layer_norm2): LayerNorm((768,), eps=1e-05, elementwise_affine=True)\n",
       "      )\n",
       "    )\n",
       "  )\n",
       "  (post_layernorm): LayerNorm((768,), eps=1e-05, elementwise_affine=True)\n",
       ")"
      ]
     },
     "execution_count": 10,
     "metadata": {},
     "output_type": "execute_result"
    }
   ],
   "source": [
    "model.vision_model"
   ]
  },
  {
   "cell_type": "code",
   "execution_count": 29,
   "metadata": {},
   "outputs": [],
   "source": [
    "from transformers import CLIPModel, CLIPTextModel, CLIPTokenizer, CLIPVisionModelWithProjection, CLIPVisionModel"
   ]
  },
  {
   "cell_type": "code",
   "execution_count": 25,
   "metadata": {},
   "outputs": [
    {
     "name": "stderr",
     "output_type": "stream",
     "text": [
      "Some weights of CLIPVisionModelWithProjection were not initialized from the model checkpoint at /scratch/choi/output/Diff-Rep/clip/ and are newly initialized: ['vision_model.embeddings.class_embedding', 'vision_model.embeddings.patch_embedding.weight', 'vision_model.embeddings.position_embedding.weight', 'vision_model.encoder.layers.0.layer_norm1.bias', 'vision_model.encoder.layers.0.layer_norm1.weight', 'vision_model.encoder.layers.0.layer_norm2.bias', 'vision_model.encoder.layers.0.layer_norm2.weight', 'vision_model.encoder.layers.0.mlp.fc1.bias', 'vision_model.encoder.layers.0.mlp.fc1.weight', 'vision_model.encoder.layers.0.mlp.fc2.bias', 'vision_model.encoder.layers.0.mlp.fc2.weight', 'vision_model.encoder.layers.0.self_attn.k_proj.bias', 'vision_model.encoder.layers.0.self_attn.k_proj.weight', 'vision_model.encoder.layers.0.self_attn.out_proj.bias', 'vision_model.encoder.layers.0.self_attn.out_proj.weight', 'vision_model.encoder.layers.0.self_attn.q_proj.bias', 'vision_model.encoder.layers.0.self_attn.q_proj.weight', 'vision_model.encoder.layers.0.self_attn.v_proj.bias', 'vision_model.encoder.layers.0.self_attn.v_proj.weight', 'vision_model.encoder.layers.1.layer_norm1.bias', 'vision_model.encoder.layers.1.layer_norm1.weight', 'vision_model.encoder.layers.1.layer_norm2.bias', 'vision_model.encoder.layers.1.layer_norm2.weight', 'vision_model.encoder.layers.1.mlp.fc1.bias', 'vision_model.encoder.layers.1.mlp.fc1.weight', 'vision_model.encoder.layers.1.mlp.fc2.bias', 'vision_model.encoder.layers.1.mlp.fc2.weight', 'vision_model.encoder.layers.1.self_attn.k_proj.bias', 'vision_model.encoder.layers.1.self_attn.k_proj.weight', 'vision_model.encoder.layers.1.self_attn.out_proj.bias', 'vision_model.encoder.layers.1.self_attn.out_proj.weight', 'vision_model.encoder.layers.1.self_attn.q_proj.bias', 'vision_model.encoder.layers.1.self_attn.q_proj.weight', 'vision_model.encoder.layers.1.self_attn.v_proj.bias', 'vision_model.encoder.layers.1.self_attn.v_proj.weight', 'vision_model.encoder.layers.10.layer_norm1.bias', 'vision_model.encoder.layers.10.layer_norm1.weight', 'vision_model.encoder.layers.10.layer_norm2.bias', 'vision_model.encoder.layers.10.layer_norm2.weight', 'vision_model.encoder.layers.10.mlp.fc1.bias', 'vision_model.encoder.layers.10.mlp.fc1.weight', 'vision_model.encoder.layers.10.mlp.fc2.bias', 'vision_model.encoder.layers.10.mlp.fc2.weight', 'vision_model.encoder.layers.10.self_attn.k_proj.bias', 'vision_model.encoder.layers.10.self_attn.k_proj.weight', 'vision_model.encoder.layers.10.self_attn.out_proj.bias', 'vision_model.encoder.layers.10.self_attn.out_proj.weight', 'vision_model.encoder.layers.10.self_attn.q_proj.bias', 'vision_model.encoder.layers.10.self_attn.q_proj.weight', 'vision_model.encoder.layers.10.self_attn.v_proj.bias', 'vision_model.encoder.layers.10.self_attn.v_proj.weight', 'vision_model.encoder.layers.11.layer_norm1.bias', 'vision_model.encoder.layers.11.layer_norm1.weight', 'vision_model.encoder.layers.11.layer_norm2.bias', 'vision_model.encoder.layers.11.layer_norm2.weight', 'vision_model.encoder.layers.11.mlp.fc1.bias', 'vision_model.encoder.layers.11.mlp.fc1.weight', 'vision_model.encoder.layers.11.mlp.fc2.bias', 'vision_model.encoder.layers.11.mlp.fc2.weight', 'vision_model.encoder.layers.11.self_attn.k_proj.bias', 'vision_model.encoder.layers.11.self_attn.k_proj.weight', 'vision_model.encoder.layers.11.self_attn.out_proj.bias', 'vision_model.encoder.layers.11.self_attn.out_proj.weight', 'vision_model.encoder.layers.11.self_attn.q_proj.bias', 'vision_model.encoder.layers.11.self_attn.q_proj.weight', 'vision_model.encoder.layers.11.self_attn.v_proj.bias', 'vision_model.encoder.layers.11.self_attn.v_proj.weight', 'vision_model.encoder.layers.2.layer_norm1.bias', 'vision_model.encoder.layers.2.layer_norm1.weight', 'vision_model.encoder.layers.2.layer_norm2.bias', 'vision_model.encoder.layers.2.layer_norm2.weight', 'vision_model.encoder.layers.2.mlp.fc1.bias', 'vision_model.encoder.layers.2.mlp.fc1.weight', 'vision_model.encoder.layers.2.mlp.fc2.bias', 'vision_model.encoder.layers.2.mlp.fc2.weight', 'vision_model.encoder.layers.2.self_attn.k_proj.bias', 'vision_model.encoder.layers.2.self_attn.k_proj.weight', 'vision_model.encoder.layers.2.self_attn.out_proj.bias', 'vision_model.encoder.layers.2.self_attn.out_proj.weight', 'vision_model.encoder.layers.2.self_attn.q_proj.bias', 'vision_model.encoder.layers.2.self_attn.q_proj.weight', 'vision_model.encoder.layers.2.self_attn.v_proj.bias', 'vision_model.encoder.layers.2.self_attn.v_proj.weight', 'vision_model.encoder.layers.3.layer_norm1.bias', 'vision_model.encoder.layers.3.layer_norm1.weight', 'vision_model.encoder.layers.3.layer_norm2.bias', 'vision_model.encoder.layers.3.layer_norm2.weight', 'vision_model.encoder.layers.3.mlp.fc1.bias', 'vision_model.encoder.layers.3.mlp.fc1.weight', 'vision_model.encoder.layers.3.mlp.fc2.bias', 'vision_model.encoder.layers.3.mlp.fc2.weight', 'vision_model.encoder.layers.3.self_attn.k_proj.bias', 'vision_model.encoder.layers.3.self_attn.k_proj.weight', 'vision_model.encoder.layers.3.self_attn.out_proj.bias', 'vision_model.encoder.layers.3.self_attn.out_proj.weight', 'vision_model.encoder.layers.3.self_attn.q_proj.bias', 'vision_model.encoder.layers.3.self_attn.q_proj.weight', 'vision_model.encoder.layers.3.self_attn.v_proj.bias', 'vision_model.encoder.layers.3.self_attn.v_proj.weight', 'vision_model.encoder.layers.4.layer_norm1.bias', 'vision_model.encoder.layers.4.layer_norm1.weight', 'vision_model.encoder.layers.4.layer_norm2.bias', 'vision_model.encoder.layers.4.layer_norm2.weight', 'vision_model.encoder.layers.4.mlp.fc1.bias', 'vision_model.encoder.layers.4.mlp.fc1.weight', 'vision_model.encoder.layers.4.mlp.fc2.bias', 'vision_model.encoder.layers.4.mlp.fc2.weight', 'vision_model.encoder.layers.4.self_attn.k_proj.bias', 'vision_model.encoder.layers.4.self_attn.k_proj.weight', 'vision_model.encoder.layers.4.self_attn.out_proj.bias', 'vision_model.encoder.layers.4.self_attn.out_proj.weight', 'vision_model.encoder.layers.4.self_attn.q_proj.bias', 'vision_model.encoder.layers.4.self_attn.q_proj.weight', 'vision_model.encoder.layers.4.self_attn.v_proj.bias', 'vision_model.encoder.layers.4.self_attn.v_proj.weight', 'vision_model.encoder.layers.5.layer_norm1.bias', 'vision_model.encoder.layers.5.layer_norm1.weight', 'vision_model.encoder.layers.5.layer_norm2.bias', 'vision_model.encoder.layers.5.layer_norm2.weight', 'vision_model.encoder.layers.5.mlp.fc1.bias', 'vision_model.encoder.layers.5.mlp.fc1.weight', 'vision_model.encoder.layers.5.mlp.fc2.bias', 'vision_model.encoder.layers.5.mlp.fc2.weight', 'vision_model.encoder.layers.5.self_attn.k_proj.bias', 'vision_model.encoder.layers.5.self_attn.k_proj.weight', 'vision_model.encoder.layers.5.self_attn.out_proj.bias', 'vision_model.encoder.layers.5.self_attn.out_proj.weight', 'vision_model.encoder.layers.5.self_attn.q_proj.bias', 'vision_model.encoder.layers.5.self_attn.q_proj.weight', 'vision_model.encoder.layers.5.self_attn.v_proj.bias', 'vision_model.encoder.layers.5.self_attn.v_proj.weight', 'vision_model.encoder.layers.6.layer_norm1.bias', 'vision_model.encoder.layers.6.layer_norm1.weight', 'vision_model.encoder.layers.6.layer_norm2.bias', 'vision_model.encoder.layers.6.layer_norm2.weight', 'vision_model.encoder.layers.6.mlp.fc1.bias', 'vision_model.encoder.layers.6.mlp.fc1.weight', 'vision_model.encoder.layers.6.mlp.fc2.bias', 'vision_model.encoder.layers.6.mlp.fc2.weight', 'vision_model.encoder.layers.6.self_attn.k_proj.bias', 'vision_model.encoder.layers.6.self_attn.k_proj.weight', 'vision_model.encoder.layers.6.self_attn.out_proj.bias', 'vision_model.encoder.layers.6.self_attn.out_proj.weight', 'vision_model.encoder.layers.6.self_attn.q_proj.bias', 'vision_model.encoder.layers.6.self_attn.q_proj.weight', 'vision_model.encoder.layers.6.self_attn.v_proj.bias', 'vision_model.encoder.layers.6.self_attn.v_proj.weight', 'vision_model.encoder.layers.7.layer_norm1.bias', 'vision_model.encoder.layers.7.layer_norm1.weight', 'vision_model.encoder.layers.7.layer_norm2.bias', 'vision_model.encoder.layers.7.layer_norm2.weight', 'vision_model.encoder.layers.7.mlp.fc1.bias', 'vision_model.encoder.layers.7.mlp.fc1.weight', 'vision_model.encoder.layers.7.mlp.fc2.bias', 'vision_model.encoder.layers.7.mlp.fc2.weight', 'vision_model.encoder.layers.7.self_attn.k_proj.bias', 'vision_model.encoder.layers.7.self_attn.k_proj.weight', 'vision_model.encoder.layers.7.self_attn.out_proj.bias', 'vision_model.encoder.layers.7.self_attn.out_proj.weight', 'vision_model.encoder.layers.7.self_attn.q_proj.bias', 'vision_model.encoder.layers.7.self_attn.q_proj.weight', 'vision_model.encoder.layers.7.self_attn.v_proj.bias', 'vision_model.encoder.layers.7.self_attn.v_proj.weight', 'vision_model.encoder.layers.8.layer_norm1.bias', 'vision_model.encoder.layers.8.layer_norm1.weight', 'vision_model.encoder.layers.8.layer_norm2.bias', 'vision_model.encoder.layers.8.layer_norm2.weight', 'vision_model.encoder.layers.8.mlp.fc1.bias', 'vision_model.encoder.layers.8.mlp.fc1.weight', 'vision_model.encoder.layers.8.mlp.fc2.bias', 'vision_model.encoder.layers.8.mlp.fc2.weight', 'vision_model.encoder.layers.8.self_attn.k_proj.bias', 'vision_model.encoder.layers.8.self_attn.k_proj.weight', 'vision_model.encoder.layers.8.self_attn.out_proj.bias', 'vision_model.encoder.layers.8.self_attn.out_proj.weight', 'vision_model.encoder.layers.8.self_attn.q_proj.bias', 'vision_model.encoder.layers.8.self_attn.q_proj.weight', 'vision_model.encoder.layers.8.self_attn.v_proj.bias', 'vision_model.encoder.layers.8.self_attn.v_proj.weight', 'vision_model.encoder.layers.9.layer_norm1.bias', 'vision_model.encoder.layers.9.layer_norm1.weight', 'vision_model.encoder.layers.9.layer_norm2.bias', 'vision_model.encoder.layers.9.layer_norm2.weight', 'vision_model.encoder.layers.9.mlp.fc1.bias', 'vision_model.encoder.layers.9.mlp.fc1.weight', 'vision_model.encoder.layers.9.mlp.fc2.bias', 'vision_model.encoder.layers.9.mlp.fc2.weight', 'vision_model.encoder.layers.9.self_attn.k_proj.bias', 'vision_model.encoder.layers.9.self_attn.k_proj.weight', 'vision_model.encoder.layers.9.self_attn.out_proj.bias', 'vision_model.encoder.layers.9.self_attn.out_proj.weight', 'vision_model.encoder.layers.9.self_attn.q_proj.bias', 'vision_model.encoder.layers.9.self_attn.q_proj.weight', 'vision_model.encoder.layers.9.self_attn.v_proj.bias', 'vision_model.encoder.layers.9.self_attn.v_proj.weight', 'vision_model.post_layernorm.bias', 'vision_model.post_layernorm.weight', 'vision_model.pre_layrnorm.bias', 'vision_model.pre_layrnorm.weight', 'visual_projection.weight']\n",
      "You should probably TRAIN this model on a down-stream task to be able to use it for predictions and inference.\n"
     ]
    }
   ],
   "source": [
    "# image_encoder_path = \"models/image_encoder/\"\n",
    "image_encoder_path = \"/scratch/choi/output/Diff-Rep/clip/\"\n",
    "\n",
    "image_encoder = CLIPVisionModelWithProjection.from_pretrained(image_encoder_path)"
   ]
  },
  {
   "cell_type": "code",
   "execution_count": 28,
   "metadata": {},
   "outputs": [
    {
     "ename": "OSError",
     "evalue": "laion/CLIP-ViT-B-16-laion2B-s34B-b88K does not appear to have a file named config.json. Checkout 'https://huggingface.co/laion/CLIP-ViT-B-16-laion2B-s34B-b88K/main' for available files.",
     "output_type": "error",
     "traceback": [
      "\u001b[0;31m---------------------------------------------------------------------------\u001b[0m",
      "\u001b[0;31mHTTPError\u001b[0m                                 Traceback (most recent call last)",
      "File \u001b[0;32m~/Downloads/miniconda3/envs/diff-rep/lib/python3.12/site-packages/huggingface_hub/utils/_errors.py:304\u001b[0m, in \u001b[0;36mhf_raise_for_status\u001b[0;34m(response, endpoint_name)\u001b[0m\n\u001b[1;32m    303\u001b[0m \u001b[38;5;28;01mtry\u001b[39;00m:\n\u001b[0;32m--> 304\u001b[0m     \u001b[43mresponse\u001b[49m\u001b[38;5;241;43m.\u001b[39;49m\u001b[43mraise_for_status\u001b[49m\u001b[43m(\u001b[49m\u001b[43m)\u001b[49m\n\u001b[1;32m    305\u001b[0m \u001b[38;5;28;01mexcept\u001b[39;00m HTTPError \u001b[38;5;28;01mas\u001b[39;00m e:\n",
      "File \u001b[0;32m~/Downloads/miniconda3/envs/diff-rep/lib/python3.12/site-packages/requests/models.py:1021\u001b[0m, in \u001b[0;36mResponse.raise_for_status\u001b[0;34m(self)\u001b[0m\n\u001b[1;32m   1020\u001b[0m \u001b[38;5;28;01mif\u001b[39;00m http_error_msg:\n\u001b[0;32m-> 1021\u001b[0m     \u001b[38;5;28;01mraise\u001b[39;00m HTTPError(http_error_msg, response\u001b[38;5;241m=\u001b[39m\u001b[38;5;28mself\u001b[39m)\n",
      "\u001b[0;31mHTTPError\u001b[0m: 404 Client Error: Not Found for url: https://huggingface.co/laion/CLIP-ViT-B-16-laion2B-s34B-b88K/resolve/main/config.json",
      "\nThe above exception was the direct cause of the following exception:\n",
      "\u001b[0;31mEntryNotFoundError\u001b[0m                        Traceback (most recent call last)",
      "File \u001b[0;32m~/Downloads/miniconda3/envs/diff-rep/lib/python3.12/site-packages/transformers/utils/hub.py:398\u001b[0m, in \u001b[0;36mcached_file\u001b[0;34m(path_or_repo_id, filename, cache_dir, force_download, resume_download, proxies, token, revision, local_files_only, subfolder, repo_type, user_agent, _raise_exceptions_for_gated_repo, _raise_exceptions_for_missing_entries, _raise_exceptions_for_connection_errors, _commit_hash, **deprecated_kwargs)\u001b[0m\n\u001b[1;32m    396\u001b[0m \u001b[38;5;28;01mtry\u001b[39;00m:\n\u001b[1;32m    397\u001b[0m     \u001b[38;5;66;03m# Load from URL or cache if already cached\u001b[39;00m\n\u001b[0;32m--> 398\u001b[0m     resolved_file \u001b[38;5;241m=\u001b[39m \u001b[43mhf_hub_download\u001b[49m\u001b[43m(\u001b[49m\n\u001b[1;32m    399\u001b[0m \u001b[43m        \u001b[49m\u001b[43mpath_or_repo_id\u001b[49m\u001b[43m,\u001b[49m\n\u001b[1;32m    400\u001b[0m \u001b[43m        \u001b[49m\u001b[43mfilename\u001b[49m\u001b[43m,\u001b[49m\n\u001b[1;32m    401\u001b[0m \u001b[43m        \u001b[49m\u001b[43msubfolder\u001b[49m\u001b[38;5;241;43m=\u001b[39;49m\u001b[38;5;28;43;01mNone\u001b[39;49;00m\u001b[43m \u001b[49m\u001b[38;5;28;43;01mif\u001b[39;49;00m\u001b[43m \u001b[49m\u001b[38;5;28;43mlen\u001b[39;49m\u001b[43m(\u001b[49m\u001b[43msubfolder\u001b[49m\u001b[43m)\u001b[49m\u001b[43m \u001b[49m\u001b[38;5;241;43m==\u001b[39;49m\u001b[43m \u001b[49m\u001b[38;5;241;43m0\u001b[39;49m\u001b[43m \u001b[49m\u001b[38;5;28;43;01melse\u001b[39;49;00m\u001b[43m \u001b[49m\u001b[43msubfolder\u001b[49m\u001b[43m,\u001b[49m\n\u001b[1;32m    402\u001b[0m \u001b[43m        \u001b[49m\u001b[43mrepo_type\u001b[49m\u001b[38;5;241;43m=\u001b[39;49m\u001b[43mrepo_type\u001b[49m\u001b[43m,\u001b[49m\n\u001b[1;32m    403\u001b[0m \u001b[43m        \u001b[49m\u001b[43mrevision\u001b[49m\u001b[38;5;241;43m=\u001b[39;49m\u001b[43mrevision\u001b[49m\u001b[43m,\u001b[49m\n\u001b[1;32m    404\u001b[0m \u001b[43m        \u001b[49m\u001b[43mcache_dir\u001b[49m\u001b[38;5;241;43m=\u001b[39;49m\u001b[43mcache_dir\u001b[49m\u001b[43m,\u001b[49m\n\u001b[1;32m    405\u001b[0m \u001b[43m        \u001b[49m\u001b[43muser_agent\u001b[49m\u001b[38;5;241;43m=\u001b[39;49m\u001b[43muser_agent\u001b[49m\u001b[43m,\u001b[49m\n\u001b[1;32m    406\u001b[0m \u001b[43m        \u001b[49m\u001b[43mforce_download\u001b[49m\u001b[38;5;241;43m=\u001b[39;49m\u001b[43mforce_download\u001b[49m\u001b[43m,\u001b[49m\n\u001b[1;32m    407\u001b[0m \u001b[43m        \u001b[49m\u001b[43mproxies\u001b[49m\u001b[38;5;241;43m=\u001b[39;49m\u001b[43mproxies\u001b[49m\u001b[43m,\u001b[49m\n\u001b[1;32m    408\u001b[0m \u001b[43m        \u001b[49m\u001b[43mresume_download\u001b[49m\u001b[38;5;241;43m=\u001b[39;49m\u001b[43mresume_download\u001b[49m\u001b[43m,\u001b[49m\n\u001b[1;32m    409\u001b[0m \u001b[43m        \u001b[49m\u001b[43mtoken\u001b[49m\u001b[38;5;241;43m=\u001b[39;49m\u001b[43mtoken\u001b[49m\u001b[43m,\u001b[49m\n\u001b[1;32m    410\u001b[0m \u001b[43m        \u001b[49m\u001b[43mlocal_files_only\u001b[49m\u001b[38;5;241;43m=\u001b[39;49m\u001b[43mlocal_files_only\u001b[49m\u001b[43m,\u001b[49m\n\u001b[1;32m    411\u001b[0m \u001b[43m    \u001b[49m\u001b[43m)\u001b[49m\n\u001b[1;32m    412\u001b[0m \u001b[38;5;28;01mexcept\u001b[39;00m GatedRepoError \u001b[38;5;28;01mas\u001b[39;00m e:\n",
      "File \u001b[0;32m~/Downloads/miniconda3/envs/diff-rep/lib/python3.12/site-packages/huggingface_hub/utils/_validators.py:119\u001b[0m, in \u001b[0;36mvalidate_hf_hub_args.<locals>._inner_fn\u001b[0;34m(*args, **kwargs)\u001b[0m\n\u001b[1;32m    117\u001b[0m     kwargs \u001b[38;5;241m=\u001b[39m smoothly_deprecate_use_auth_token(fn_name\u001b[38;5;241m=\u001b[39mfn\u001b[38;5;241m.\u001b[39m\u001b[38;5;18m__name__\u001b[39m, has_token\u001b[38;5;241m=\u001b[39mhas_token, kwargs\u001b[38;5;241m=\u001b[39mkwargs)\n\u001b[0;32m--> 119\u001b[0m \u001b[38;5;28;01mreturn\u001b[39;00m \u001b[43mfn\u001b[49m\u001b[43m(\u001b[49m\u001b[38;5;241;43m*\u001b[39;49m\u001b[43margs\u001b[49m\u001b[43m,\u001b[49m\u001b[43m \u001b[49m\u001b[38;5;241;43m*\u001b[39;49m\u001b[38;5;241;43m*\u001b[39;49m\u001b[43mkwargs\u001b[49m\u001b[43m)\u001b[49m\n",
      "File \u001b[0;32m~/Downloads/miniconda3/envs/diff-rep/lib/python3.12/site-packages/huggingface_hub/file_download.py:1261\u001b[0m, in \u001b[0;36mhf_hub_download\u001b[0;34m(repo_id, filename, subfolder, repo_type, revision, library_name, library_version, cache_dir, local_dir, local_dir_use_symlinks, user_agent, force_download, force_filename, proxies, etag_timeout, resume_download, token, local_files_only, headers, legacy_cache_layout, endpoint)\u001b[0m\n\u001b[1;32m   1260\u001b[0m \u001b[38;5;28;01mtry\u001b[39;00m:\n\u001b[0;32m-> 1261\u001b[0m     metadata \u001b[38;5;241m=\u001b[39m \u001b[43mget_hf_file_metadata\u001b[49m\u001b[43m(\u001b[49m\n\u001b[1;32m   1262\u001b[0m \u001b[43m        \u001b[49m\u001b[43murl\u001b[49m\u001b[38;5;241;43m=\u001b[39;49m\u001b[43murl\u001b[49m\u001b[43m,\u001b[49m\n\u001b[1;32m   1263\u001b[0m \u001b[43m        \u001b[49m\u001b[43mtoken\u001b[49m\u001b[38;5;241;43m=\u001b[39;49m\u001b[43mtoken\u001b[49m\u001b[43m,\u001b[49m\n\u001b[1;32m   1264\u001b[0m \u001b[43m        \u001b[49m\u001b[43mproxies\u001b[49m\u001b[38;5;241;43m=\u001b[39;49m\u001b[43mproxies\u001b[49m\u001b[43m,\u001b[49m\n\u001b[1;32m   1265\u001b[0m \u001b[43m        \u001b[49m\u001b[43mtimeout\u001b[49m\u001b[38;5;241;43m=\u001b[39;49m\u001b[43metag_timeout\u001b[49m\u001b[43m,\u001b[49m\n\u001b[1;32m   1266\u001b[0m \u001b[43m        \u001b[49m\u001b[43mlibrary_name\u001b[49m\u001b[38;5;241;43m=\u001b[39;49m\u001b[43mlibrary_name\u001b[49m\u001b[43m,\u001b[49m\n\u001b[1;32m   1267\u001b[0m \u001b[43m        \u001b[49m\u001b[43mlibrary_version\u001b[49m\u001b[38;5;241;43m=\u001b[39;49m\u001b[43mlibrary_version\u001b[49m\u001b[43m,\u001b[49m\n\u001b[1;32m   1268\u001b[0m \u001b[43m        \u001b[49m\u001b[43muser_agent\u001b[49m\u001b[38;5;241;43m=\u001b[39;49m\u001b[43muser_agent\u001b[49m\u001b[43m,\u001b[49m\n\u001b[1;32m   1269\u001b[0m \u001b[43m    \u001b[49m\u001b[43m)\u001b[49m\n\u001b[1;32m   1270\u001b[0m \u001b[38;5;28;01mexcept\u001b[39;00m EntryNotFoundError \u001b[38;5;28;01mas\u001b[39;00m http_error:\n\u001b[1;32m   1271\u001b[0m     \u001b[38;5;66;03m# Cache the non-existence of the file and raise\u001b[39;00m\n",
      "File \u001b[0;32m~/Downloads/miniconda3/envs/diff-rep/lib/python3.12/site-packages/huggingface_hub/utils/_validators.py:119\u001b[0m, in \u001b[0;36mvalidate_hf_hub_args.<locals>._inner_fn\u001b[0;34m(*args, **kwargs)\u001b[0m\n\u001b[1;32m    117\u001b[0m     kwargs \u001b[38;5;241m=\u001b[39m smoothly_deprecate_use_auth_token(fn_name\u001b[38;5;241m=\u001b[39mfn\u001b[38;5;241m.\u001b[39m\u001b[38;5;18m__name__\u001b[39m, has_token\u001b[38;5;241m=\u001b[39mhas_token, kwargs\u001b[38;5;241m=\u001b[39mkwargs)\n\u001b[0;32m--> 119\u001b[0m \u001b[38;5;28;01mreturn\u001b[39;00m \u001b[43mfn\u001b[49m\u001b[43m(\u001b[49m\u001b[38;5;241;43m*\u001b[39;49m\u001b[43margs\u001b[49m\u001b[43m,\u001b[49m\u001b[43m \u001b[49m\u001b[38;5;241;43m*\u001b[39;49m\u001b[38;5;241;43m*\u001b[39;49m\u001b[43mkwargs\u001b[49m\u001b[43m)\u001b[49m\n",
      "File \u001b[0;32m~/Downloads/miniconda3/envs/diff-rep/lib/python3.12/site-packages/huggingface_hub/file_download.py:1674\u001b[0m, in \u001b[0;36mget_hf_file_metadata\u001b[0;34m(url, token, proxies, timeout, library_name, library_version, user_agent, headers)\u001b[0m\n\u001b[1;32m   1673\u001b[0m \u001b[38;5;66;03m# Retrieve metadata\u001b[39;00m\n\u001b[0;32m-> 1674\u001b[0m r \u001b[38;5;241m=\u001b[39m \u001b[43m_request_wrapper\u001b[49m\u001b[43m(\u001b[49m\n\u001b[1;32m   1675\u001b[0m \u001b[43m    \u001b[49m\u001b[43mmethod\u001b[49m\u001b[38;5;241;43m=\u001b[39;49m\u001b[38;5;124;43m\"\u001b[39;49m\u001b[38;5;124;43mHEAD\u001b[39;49m\u001b[38;5;124;43m\"\u001b[39;49m\u001b[43m,\u001b[49m\n\u001b[1;32m   1676\u001b[0m \u001b[43m    \u001b[49m\u001b[43murl\u001b[49m\u001b[38;5;241;43m=\u001b[39;49m\u001b[43murl\u001b[49m\u001b[43m,\u001b[49m\n\u001b[1;32m   1677\u001b[0m \u001b[43m    \u001b[49m\u001b[43mheaders\u001b[49m\u001b[38;5;241;43m=\u001b[39;49m\u001b[43mheaders\u001b[49m\u001b[43m,\u001b[49m\n\u001b[1;32m   1678\u001b[0m \u001b[43m    \u001b[49m\u001b[43mallow_redirects\u001b[49m\u001b[38;5;241;43m=\u001b[39;49m\u001b[38;5;28;43;01mFalse\u001b[39;49;00m\u001b[43m,\u001b[49m\n\u001b[1;32m   1679\u001b[0m \u001b[43m    \u001b[49m\u001b[43mfollow_relative_redirects\u001b[49m\u001b[38;5;241;43m=\u001b[39;49m\u001b[38;5;28;43;01mTrue\u001b[39;49;00m\u001b[43m,\u001b[49m\n\u001b[1;32m   1680\u001b[0m \u001b[43m    \u001b[49m\u001b[43mproxies\u001b[49m\u001b[38;5;241;43m=\u001b[39;49m\u001b[43mproxies\u001b[49m\u001b[43m,\u001b[49m\n\u001b[1;32m   1681\u001b[0m \u001b[43m    \u001b[49m\u001b[43mtimeout\u001b[49m\u001b[38;5;241;43m=\u001b[39;49m\u001b[43mtimeout\u001b[49m\u001b[43m,\u001b[49m\n\u001b[1;32m   1682\u001b[0m \u001b[43m\u001b[49m\u001b[43m)\u001b[49m\n\u001b[1;32m   1683\u001b[0m hf_raise_for_status(r)\n",
      "File \u001b[0;32m~/Downloads/miniconda3/envs/diff-rep/lib/python3.12/site-packages/huggingface_hub/file_download.py:369\u001b[0m, in \u001b[0;36m_request_wrapper\u001b[0;34m(method, url, follow_relative_redirects, **params)\u001b[0m\n\u001b[1;32m    368\u001b[0m \u001b[38;5;28;01mif\u001b[39;00m follow_relative_redirects:\n\u001b[0;32m--> 369\u001b[0m     response \u001b[38;5;241m=\u001b[39m \u001b[43m_request_wrapper\u001b[49m\u001b[43m(\u001b[49m\n\u001b[1;32m    370\u001b[0m \u001b[43m        \u001b[49m\u001b[43mmethod\u001b[49m\u001b[38;5;241;43m=\u001b[39;49m\u001b[43mmethod\u001b[49m\u001b[43m,\u001b[49m\n\u001b[1;32m    371\u001b[0m \u001b[43m        \u001b[49m\u001b[43murl\u001b[49m\u001b[38;5;241;43m=\u001b[39;49m\u001b[43murl\u001b[49m\u001b[43m,\u001b[49m\n\u001b[1;32m    372\u001b[0m \u001b[43m        \u001b[49m\u001b[43mfollow_relative_redirects\u001b[49m\u001b[38;5;241;43m=\u001b[39;49m\u001b[38;5;28;43;01mFalse\u001b[39;49;00m\u001b[43m,\u001b[49m\n\u001b[1;32m    373\u001b[0m \u001b[43m        \u001b[49m\u001b[38;5;241;43m*\u001b[39;49m\u001b[38;5;241;43m*\u001b[39;49m\u001b[43mparams\u001b[49m\u001b[43m,\u001b[49m\n\u001b[1;32m    374\u001b[0m \u001b[43m    \u001b[49m\u001b[43m)\u001b[49m\n\u001b[1;32m    376\u001b[0m     \u001b[38;5;66;03m# If redirection, we redirect only relative paths.\u001b[39;00m\n\u001b[1;32m    377\u001b[0m     \u001b[38;5;66;03m# This is useful in case of a renamed repository.\u001b[39;00m\n",
      "File \u001b[0;32m~/Downloads/miniconda3/envs/diff-rep/lib/python3.12/site-packages/huggingface_hub/file_download.py:393\u001b[0m, in \u001b[0;36m_request_wrapper\u001b[0;34m(method, url, follow_relative_redirects, **params)\u001b[0m\n\u001b[1;32m    392\u001b[0m response \u001b[38;5;241m=\u001b[39m get_session()\u001b[38;5;241m.\u001b[39mrequest(method\u001b[38;5;241m=\u001b[39mmethod, url\u001b[38;5;241m=\u001b[39murl, \u001b[38;5;241m*\u001b[39m\u001b[38;5;241m*\u001b[39mparams)\n\u001b[0;32m--> 393\u001b[0m \u001b[43mhf_raise_for_status\u001b[49m\u001b[43m(\u001b[49m\u001b[43mresponse\u001b[49m\u001b[43m)\u001b[49m\n\u001b[1;32m    394\u001b[0m \u001b[38;5;28;01mreturn\u001b[39;00m response\n",
      "File \u001b[0;32m~/Downloads/miniconda3/envs/diff-rep/lib/python3.12/site-packages/huggingface_hub/utils/_errors.py:315\u001b[0m, in \u001b[0;36mhf_raise_for_status\u001b[0;34m(response, endpoint_name)\u001b[0m\n\u001b[1;32m    314\u001b[0m     message \u001b[38;5;241m=\u001b[39m \u001b[38;5;124mf\u001b[39m\u001b[38;5;124m\"\u001b[39m\u001b[38;5;132;01m{\u001b[39;00mresponse\u001b[38;5;241m.\u001b[39mstatus_code\u001b[38;5;132;01m}\u001b[39;00m\u001b[38;5;124m Client Error.\u001b[39m\u001b[38;5;124m\"\u001b[39m \u001b[38;5;241m+\u001b[39m \u001b[38;5;124m\"\u001b[39m\u001b[38;5;130;01m\\n\u001b[39;00m\u001b[38;5;130;01m\\n\u001b[39;00m\u001b[38;5;124m\"\u001b[39m \u001b[38;5;241m+\u001b[39m \u001b[38;5;124mf\u001b[39m\u001b[38;5;124m\"\u001b[39m\u001b[38;5;124mEntry Not Found for url: \u001b[39m\u001b[38;5;132;01m{\u001b[39;00mresponse\u001b[38;5;241m.\u001b[39murl\u001b[38;5;132;01m}\u001b[39;00m\u001b[38;5;124m.\u001b[39m\u001b[38;5;124m\"\u001b[39m\n\u001b[0;32m--> 315\u001b[0m     \u001b[38;5;28;01mraise\u001b[39;00m EntryNotFoundError(message, response) \u001b[38;5;28;01mfrom\u001b[39;00m \u001b[38;5;21;01me\u001b[39;00m\n\u001b[1;32m    317\u001b[0m \u001b[38;5;28;01melif\u001b[39;00m error_code \u001b[38;5;241m==\u001b[39m \u001b[38;5;124m\"\u001b[39m\u001b[38;5;124mGatedRepo\u001b[39m\u001b[38;5;124m\"\u001b[39m:\n",
      "\u001b[0;31mEntryNotFoundError\u001b[0m: 404 Client Error. (Request ID: Root=1-6620ec4b-22f7f6d95cbee5a54a172665;d9980baa-f96b-4bdf-be15-e03a65e082b3)\n\nEntry Not Found for url: https://huggingface.co/laion/CLIP-ViT-B-16-laion2B-s34B-b88K/resolve/main/config.json.",
      "\nThe above exception was the direct cause of the following exception:\n",
      "\u001b[0;31mOSError\u001b[0m                                   Traceback (most recent call last)",
      "Cell \u001b[0;32mIn[28], line 1\u001b[0m\n\u001b[0;32m----> 1\u001b[0m \u001b[43mCLIPVisionModelWithProjection\u001b[49m\u001b[38;5;241;43m.\u001b[39;49m\u001b[43mfrom_pretrained\u001b[49m\u001b[43m(\u001b[49m\u001b[38;5;124;43m'\u001b[39;49m\u001b[38;5;124;43mlaion/CLIP-ViT-B-16-laion2B-s34B-b88K\u001b[39;49m\u001b[38;5;124;43m'\u001b[39;49m\u001b[43m)\u001b[49m\n",
      "File \u001b[0;32m~/Downloads/miniconda3/envs/diff-rep/lib/python3.12/site-packages/transformers/modeling_utils.py:3122\u001b[0m, in \u001b[0;36mPreTrainedModel.from_pretrained\u001b[0;34m(cls, pretrained_model_name_or_path, config, cache_dir, ignore_mismatched_sizes, force_download, local_files_only, token, revision, use_safetensors, *model_args, **kwargs)\u001b[0m\n\u001b[1;32m   3120\u001b[0m \u001b[38;5;28;01mif\u001b[39;00m \u001b[38;5;129;01mnot\u001b[39;00m \u001b[38;5;28misinstance\u001b[39m(config, PretrainedConfig):\n\u001b[1;32m   3121\u001b[0m     config_path \u001b[38;5;241m=\u001b[39m config \u001b[38;5;28;01mif\u001b[39;00m config \u001b[38;5;129;01mis\u001b[39;00m \u001b[38;5;129;01mnot\u001b[39;00m \u001b[38;5;28;01mNone\u001b[39;00m \u001b[38;5;28;01melse\u001b[39;00m pretrained_model_name_or_path\n\u001b[0;32m-> 3122\u001b[0m     config, model_kwargs \u001b[38;5;241m=\u001b[39m \u001b[38;5;28;43mcls\u001b[39;49m\u001b[38;5;241;43m.\u001b[39;49m\u001b[43mconfig_class\u001b[49m\u001b[38;5;241;43m.\u001b[39;49m\u001b[43mfrom_pretrained\u001b[49m\u001b[43m(\u001b[49m\n\u001b[1;32m   3123\u001b[0m \u001b[43m        \u001b[49m\u001b[43mconfig_path\u001b[49m\u001b[43m,\u001b[49m\n\u001b[1;32m   3124\u001b[0m \u001b[43m        \u001b[49m\u001b[43mcache_dir\u001b[49m\u001b[38;5;241;43m=\u001b[39;49m\u001b[43mcache_dir\u001b[49m\u001b[43m,\u001b[49m\n\u001b[1;32m   3125\u001b[0m \u001b[43m        \u001b[49m\u001b[43mreturn_unused_kwargs\u001b[49m\u001b[38;5;241;43m=\u001b[39;49m\u001b[38;5;28;43;01mTrue\u001b[39;49;00m\u001b[43m,\u001b[49m\n\u001b[1;32m   3126\u001b[0m \u001b[43m        \u001b[49m\u001b[43mforce_download\u001b[49m\u001b[38;5;241;43m=\u001b[39;49m\u001b[43mforce_download\u001b[49m\u001b[43m,\u001b[49m\n\u001b[1;32m   3127\u001b[0m \u001b[43m        \u001b[49m\u001b[43mresume_download\u001b[49m\u001b[38;5;241;43m=\u001b[39;49m\u001b[43mresume_download\u001b[49m\u001b[43m,\u001b[49m\n\u001b[1;32m   3128\u001b[0m \u001b[43m        \u001b[49m\u001b[43mproxies\u001b[49m\u001b[38;5;241;43m=\u001b[39;49m\u001b[43mproxies\u001b[49m\u001b[43m,\u001b[49m\n\u001b[1;32m   3129\u001b[0m \u001b[43m        \u001b[49m\u001b[43mlocal_files_only\u001b[49m\u001b[38;5;241;43m=\u001b[39;49m\u001b[43mlocal_files_only\u001b[49m\u001b[43m,\u001b[49m\n\u001b[1;32m   3130\u001b[0m \u001b[43m        \u001b[49m\u001b[43mtoken\u001b[49m\u001b[38;5;241;43m=\u001b[39;49m\u001b[43mtoken\u001b[49m\u001b[43m,\u001b[49m\n\u001b[1;32m   3131\u001b[0m \u001b[43m        \u001b[49m\u001b[43mrevision\u001b[49m\u001b[38;5;241;43m=\u001b[39;49m\u001b[43mrevision\u001b[49m\u001b[43m,\u001b[49m\n\u001b[1;32m   3132\u001b[0m \u001b[43m        \u001b[49m\u001b[43msubfolder\u001b[49m\u001b[38;5;241;43m=\u001b[39;49m\u001b[43msubfolder\u001b[49m\u001b[43m,\u001b[49m\n\u001b[1;32m   3133\u001b[0m \u001b[43m        \u001b[49m\u001b[43m_from_auto\u001b[49m\u001b[38;5;241;43m=\u001b[39;49m\u001b[43mfrom_auto_class\u001b[49m\u001b[43m,\u001b[49m\n\u001b[1;32m   3134\u001b[0m \u001b[43m        \u001b[49m\u001b[43m_from_pipeline\u001b[49m\u001b[38;5;241;43m=\u001b[39;49m\u001b[43mfrom_pipeline\u001b[49m\u001b[43m,\u001b[49m\n\u001b[1;32m   3135\u001b[0m \u001b[43m        \u001b[49m\u001b[38;5;241;43m*\u001b[39;49m\u001b[38;5;241;43m*\u001b[39;49m\u001b[43mkwargs\u001b[49m\u001b[43m,\u001b[49m\n\u001b[1;32m   3136\u001b[0m \u001b[43m    \u001b[49m\u001b[43m)\u001b[49m\n\u001b[1;32m   3137\u001b[0m \u001b[38;5;28;01melse\u001b[39;00m:\n\u001b[1;32m   3138\u001b[0m     \u001b[38;5;66;03m# In case one passes a config to `from_pretrained` + \"attn_implementation\"\u001b[39;00m\n\u001b[1;32m   3139\u001b[0m     \u001b[38;5;66;03m# override the `_attn_implementation` attribute to `attn_implementation` of the kwargs\u001b[39;00m\n\u001b[0;32m   (...)\u001b[0m\n\u001b[1;32m   3143\u001b[0m     \u001b[38;5;66;03m# we pop attn_implementation from the kwargs but this handles the case where users\u001b[39;00m\n\u001b[1;32m   3144\u001b[0m     \u001b[38;5;66;03m# passes manually the config to `from_pretrained`.\u001b[39;00m\n\u001b[1;32m   3145\u001b[0m     config \u001b[38;5;241m=\u001b[39m copy\u001b[38;5;241m.\u001b[39mdeepcopy(config)\n",
      "File \u001b[0;32m~/Downloads/miniconda3/envs/diff-rep/lib/python3.12/site-packages/transformers/models/clip/configuration_clip.py:249\u001b[0m, in \u001b[0;36mCLIPVisionConfig.from_pretrained\u001b[0;34m(cls, pretrained_model_name_or_path, **kwargs)\u001b[0m\n\u001b[1;32m    245\u001b[0m \u001b[38;5;129m@classmethod\u001b[39m\n\u001b[1;32m    246\u001b[0m \u001b[38;5;28;01mdef\u001b[39;00m \u001b[38;5;21mfrom_pretrained\u001b[39m(\u001b[38;5;28mcls\u001b[39m, pretrained_model_name_or_path: Union[\u001b[38;5;28mstr\u001b[39m, os\u001b[38;5;241m.\u001b[39mPathLike], \u001b[38;5;241m*\u001b[39m\u001b[38;5;241m*\u001b[39mkwargs) \u001b[38;5;241m-\u001b[39m\u001b[38;5;241m>\u001b[39m \u001b[38;5;124m\"\u001b[39m\u001b[38;5;124mPretrainedConfig\u001b[39m\u001b[38;5;124m\"\u001b[39m:\n\u001b[1;32m    247\u001b[0m     \u001b[38;5;28mcls\u001b[39m\u001b[38;5;241m.\u001b[39m_set_token_in_kwargs(kwargs)\n\u001b[0;32m--> 249\u001b[0m     config_dict, kwargs \u001b[38;5;241m=\u001b[39m \u001b[38;5;28;43mcls\u001b[39;49m\u001b[38;5;241;43m.\u001b[39;49m\u001b[43mget_config_dict\u001b[49m\u001b[43m(\u001b[49m\u001b[43mpretrained_model_name_or_path\u001b[49m\u001b[43m,\u001b[49m\u001b[43m \u001b[49m\u001b[38;5;241;43m*\u001b[39;49m\u001b[38;5;241;43m*\u001b[39;49m\u001b[43mkwargs\u001b[49m\u001b[43m)\u001b[49m\n\u001b[1;32m    251\u001b[0m     \u001b[38;5;66;03m# get the vision config dict if we are loading from CLIPConfig\u001b[39;00m\n\u001b[1;32m    252\u001b[0m     \u001b[38;5;28;01mif\u001b[39;00m config_dict\u001b[38;5;241m.\u001b[39mget(\u001b[38;5;124m\"\u001b[39m\u001b[38;5;124mmodel_type\u001b[39m\u001b[38;5;124m\"\u001b[39m) \u001b[38;5;241m==\u001b[39m \u001b[38;5;124m\"\u001b[39m\u001b[38;5;124mclip\u001b[39m\u001b[38;5;124m\"\u001b[39m:\n",
      "File \u001b[0;32m~/Downloads/miniconda3/envs/diff-rep/lib/python3.12/site-packages/transformers/configuration_utils.py:631\u001b[0m, in \u001b[0;36mPretrainedConfig.get_config_dict\u001b[0;34m(cls, pretrained_model_name_or_path, **kwargs)\u001b[0m\n\u001b[1;32m    629\u001b[0m original_kwargs \u001b[38;5;241m=\u001b[39m copy\u001b[38;5;241m.\u001b[39mdeepcopy(kwargs)\n\u001b[1;32m    630\u001b[0m \u001b[38;5;66;03m# Get config dict associated with the base config file\u001b[39;00m\n\u001b[0;32m--> 631\u001b[0m config_dict, kwargs \u001b[38;5;241m=\u001b[39m \u001b[38;5;28;43mcls\u001b[39;49m\u001b[38;5;241;43m.\u001b[39;49m\u001b[43m_get_config_dict\u001b[49m\u001b[43m(\u001b[49m\u001b[43mpretrained_model_name_or_path\u001b[49m\u001b[43m,\u001b[49m\u001b[43m \u001b[49m\u001b[38;5;241;43m*\u001b[39;49m\u001b[38;5;241;43m*\u001b[39;49m\u001b[43mkwargs\u001b[49m\u001b[43m)\u001b[49m\n\u001b[1;32m    632\u001b[0m \u001b[38;5;28;01mif\u001b[39;00m \u001b[38;5;124m\"\u001b[39m\u001b[38;5;124m_commit_hash\u001b[39m\u001b[38;5;124m\"\u001b[39m \u001b[38;5;129;01min\u001b[39;00m config_dict:\n\u001b[1;32m    633\u001b[0m     original_kwargs[\u001b[38;5;124m\"\u001b[39m\u001b[38;5;124m_commit_hash\u001b[39m\u001b[38;5;124m\"\u001b[39m] \u001b[38;5;241m=\u001b[39m config_dict[\u001b[38;5;124m\"\u001b[39m\u001b[38;5;124m_commit_hash\u001b[39m\u001b[38;5;124m\"\u001b[39m]\n",
      "File \u001b[0;32m~/Downloads/miniconda3/envs/diff-rep/lib/python3.12/site-packages/transformers/configuration_utils.py:686\u001b[0m, in \u001b[0;36mPretrainedConfig._get_config_dict\u001b[0;34m(cls, pretrained_model_name_or_path, **kwargs)\u001b[0m\n\u001b[1;32m    682\u001b[0m configuration_file \u001b[38;5;241m=\u001b[39m kwargs\u001b[38;5;241m.\u001b[39mpop(\u001b[38;5;124m\"\u001b[39m\u001b[38;5;124m_configuration_file\u001b[39m\u001b[38;5;124m\"\u001b[39m, CONFIG_NAME)\n\u001b[1;32m    684\u001b[0m \u001b[38;5;28;01mtry\u001b[39;00m:\n\u001b[1;32m    685\u001b[0m     \u001b[38;5;66;03m# Load from local folder or from cache or download from model Hub and cache\u001b[39;00m\n\u001b[0;32m--> 686\u001b[0m     resolved_config_file \u001b[38;5;241m=\u001b[39m \u001b[43mcached_file\u001b[49m\u001b[43m(\u001b[49m\n\u001b[1;32m    687\u001b[0m \u001b[43m        \u001b[49m\u001b[43mpretrained_model_name_or_path\u001b[49m\u001b[43m,\u001b[49m\n\u001b[1;32m    688\u001b[0m \u001b[43m        \u001b[49m\u001b[43mconfiguration_file\u001b[49m\u001b[43m,\u001b[49m\n\u001b[1;32m    689\u001b[0m \u001b[43m        \u001b[49m\u001b[43mcache_dir\u001b[49m\u001b[38;5;241;43m=\u001b[39;49m\u001b[43mcache_dir\u001b[49m\u001b[43m,\u001b[49m\n\u001b[1;32m    690\u001b[0m \u001b[43m        \u001b[49m\u001b[43mforce_download\u001b[49m\u001b[38;5;241;43m=\u001b[39;49m\u001b[43mforce_download\u001b[49m\u001b[43m,\u001b[49m\n\u001b[1;32m    691\u001b[0m \u001b[43m        \u001b[49m\u001b[43mproxies\u001b[49m\u001b[38;5;241;43m=\u001b[39;49m\u001b[43mproxies\u001b[49m\u001b[43m,\u001b[49m\n\u001b[1;32m    692\u001b[0m \u001b[43m        \u001b[49m\u001b[43mresume_download\u001b[49m\u001b[38;5;241;43m=\u001b[39;49m\u001b[43mresume_download\u001b[49m\u001b[43m,\u001b[49m\n\u001b[1;32m    693\u001b[0m \u001b[43m        \u001b[49m\u001b[43mlocal_files_only\u001b[49m\u001b[38;5;241;43m=\u001b[39;49m\u001b[43mlocal_files_only\u001b[49m\u001b[43m,\u001b[49m\n\u001b[1;32m    694\u001b[0m \u001b[43m        \u001b[49m\u001b[43mtoken\u001b[49m\u001b[38;5;241;43m=\u001b[39;49m\u001b[43mtoken\u001b[49m\u001b[43m,\u001b[49m\n\u001b[1;32m    695\u001b[0m \u001b[43m        \u001b[49m\u001b[43muser_agent\u001b[49m\u001b[38;5;241;43m=\u001b[39;49m\u001b[43muser_agent\u001b[49m\u001b[43m,\u001b[49m\n\u001b[1;32m    696\u001b[0m \u001b[43m        \u001b[49m\u001b[43mrevision\u001b[49m\u001b[38;5;241;43m=\u001b[39;49m\u001b[43mrevision\u001b[49m\u001b[43m,\u001b[49m\n\u001b[1;32m    697\u001b[0m \u001b[43m        \u001b[49m\u001b[43msubfolder\u001b[49m\u001b[38;5;241;43m=\u001b[39;49m\u001b[43msubfolder\u001b[49m\u001b[43m,\u001b[49m\n\u001b[1;32m    698\u001b[0m \u001b[43m        \u001b[49m\u001b[43m_commit_hash\u001b[49m\u001b[38;5;241;43m=\u001b[39;49m\u001b[43mcommit_hash\u001b[49m\u001b[43m,\u001b[49m\n\u001b[1;32m    699\u001b[0m \u001b[43m    \u001b[49m\u001b[43m)\u001b[49m\n\u001b[1;32m    700\u001b[0m     commit_hash \u001b[38;5;241m=\u001b[39m extract_commit_hash(resolved_config_file, commit_hash)\n\u001b[1;32m    701\u001b[0m \u001b[38;5;28;01mexcept\u001b[39;00m \u001b[38;5;167;01mEnvironmentError\u001b[39;00m:\n\u001b[1;32m    702\u001b[0m     \u001b[38;5;66;03m# Raise any environment error raise by `cached_file`. It will have a helpful error message adapted to\u001b[39;00m\n\u001b[1;32m    703\u001b[0m     \u001b[38;5;66;03m# the original exception.\u001b[39;00m\n",
      "File \u001b[0;32m~/Downloads/miniconda3/envs/diff-rep/lib/python3.12/site-packages/transformers/utils/hub.py:452\u001b[0m, in \u001b[0;36mcached_file\u001b[0;34m(path_or_repo_id, filename, cache_dir, force_download, resume_download, proxies, token, revision, local_files_only, subfolder, repo_type, user_agent, _raise_exceptions_for_gated_repo, _raise_exceptions_for_missing_entries, _raise_exceptions_for_connection_errors, _commit_hash, **deprecated_kwargs)\u001b[0m\n\u001b[1;32m    450\u001b[0m     \u001b[38;5;28;01mif\u001b[39;00m revision \u001b[38;5;129;01mis\u001b[39;00m \u001b[38;5;28;01mNone\u001b[39;00m:\n\u001b[1;32m    451\u001b[0m         revision \u001b[38;5;241m=\u001b[39m \u001b[38;5;124m\"\u001b[39m\u001b[38;5;124mmain\u001b[39m\u001b[38;5;124m\"\u001b[39m\n\u001b[0;32m--> 452\u001b[0m     \u001b[38;5;28;01mraise\u001b[39;00m \u001b[38;5;167;01mEnvironmentError\u001b[39;00m(\n\u001b[1;32m    453\u001b[0m         \u001b[38;5;124mf\u001b[39m\u001b[38;5;124m\"\u001b[39m\u001b[38;5;132;01m{\u001b[39;00mpath_or_repo_id\u001b[38;5;132;01m}\u001b[39;00m\u001b[38;5;124m does not appear to have a file named \u001b[39m\u001b[38;5;132;01m{\u001b[39;00mfull_filename\u001b[38;5;132;01m}\u001b[39;00m\u001b[38;5;124m. Checkout \u001b[39m\u001b[38;5;124m\"\u001b[39m\n\u001b[1;32m    454\u001b[0m         \u001b[38;5;124mf\u001b[39m\u001b[38;5;124m\"\u001b[39m\u001b[38;5;124m'\u001b[39m\u001b[38;5;124mhttps://huggingface.co/\u001b[39m\u001b[38;5;132;01m{\u001b[39;00mpath_or_repo_id\u001b[38;5;132;01m}\u001b[39;00m\u001b[38;5;124m/\u001b[39m\u001b[38;5;132;01m{\u001b[39;00mrevision\u001b[38;5;132;01m}\u001b[39;00m\u001b[38;5;124m'\u001b[39m\u001b[38;5;124m for available files.\u001b[39m\u001b[38;5;124m\"\u001b[39m\n\u001b[1;32m    455\u001b[0m     ) \u001b[38;5;28;01mfrom\u001b[39;00m \u001b[38;5;21;01me\u001b[39;00m\n\u001b[1;32m    456\u001b[0m \u001b[38;5;28;01mexcept\u001b[39;00m HTTPError \u001b[38;5;28;01mas\u001b[39;00m err:\n\u001b[1;32m    457\u001b[0m     resolved_file \u001b[38;5;241m=\u001b[39m _get_cache_file_to_return(path_or_repo_id, full_filename, cache_dir, revision)\n",
      "\u001b[0;31mOSError\u001b[0m: laion/CLIP-ViT-B-16-laion2B-s34B-b88K does not appear to have a file named config.json. Checkout 'https://huggingface.co/laion/CLIP-ViT-B-16-laion2B-s34B-b88K/main' for available files."
     ]
    }
   ],
   "source": [
    "CLIPVisionModelWithProjection.from_pretrained('laion/CLIP-ViT-B-16-laion2B-s34B-b88K')"
   ]
  },
  {
   "cell_type": "code",
   "execution_count": 19,
   "metadata": {},
   "outputs": [
    {
     "data": {
      "text/plain": [
       "CLIPVisionModelWithProjection(\n",
       "  (vision_model): CLIPVisionTransformer(\n",
       "    (embeddings): CLIPVisionEmbeddings(\n",
       "      (patch_embedding): Conv2d(3, 768, kernel_size=(32, 32), stride=(32, 32), bias=False)\n",
       "      (position_embedding): Embedding(50, 768)\n",
       "    )\n",
       "    (pre_layrnorm): LayerNorm((768,), eps=1e-05, elementwise_affine=True)\n",
       "    (encoder): CLIPEncoder(\n",
       "      (layers): ModuleList(\n",
       "        (0-11): 12 x CLIPEncoderLayer(\n",
       "          (self_attn): CLIPAttention(\n",
       "            (k_proj): Linear(in_features=768, out_features=768, bias=True)\n",
       "            (v_proj): Linear(in_features=768, out_features=768, bias=True)\n",
       "            (q_proj): Linear(in_features=768, out_features=768, bias=True)\n",
       "            (out_proj): Linear(in_features=768, out_features=768, bias=True)\n",
       "          )\n",
       "          (layer_norm1): LayerNorm((768,), eps=1e-05, elementwise_affine=True)\n",
       "          (mlp): CLIPMLP(\n",
       "            (activation_fn): QuickGELUActivation()\n",
       "            (fc1): Linear(in_features=768, out_features=3072, bias=True)\n",
       "            (fc2): Linear(in_features=3072, out_features=768, bias=True)\n",
       "          )\n",
       "          (layer_norm2): LayerNorm((768,), eps=1e-05, elementwise_affine=True)\n",
       "        )\n",
       "      )\n",
       "    )\n",
       "    (post_layernorm): LayerNorm((768,), eps=1e-05, elementwise_affine=True)\n",
       "  )\n",
       "  (visual_projection): Linear(in_features=768, out_features=512, bias=False)\n",
       ")"
      ]
     },
     "execution_count": 19,
     "metadata": {},
     "output_type": "execute_result"
    }
   ],
   "source": [
    "image_encoder"
   ]
  },
  {
   "cell_type": "code",
   "execution_count": 15,
   "metadata": {},
   "outputs": [
    {
     "name": "stderr",
     "output_type": "stream",
     "text": [
      "Some weights of CLIPVisionModel were not initialized from the model checkpoint at /scratch/choi/output/Diff-Rep/clip/ and are newly initialized: ['vision_model.embeddings.class_embedding', 'vision_model.embeddings.patch_embedding.weight', 'vision_model.embeddings.position_embedding.weight', 'vision_model.encoder.layers.0.layer_norm1.bias', 'vision_model.encoder.layers.0.layer_norm1.weight', 'vision_model.encoder.layers.0.layer_norm2.bias', 'vision_model.encoder.layers.0.layer_norm2.weight', 'vision_model.encoder.layers.0.mlp.fc1.bias', 'vision_model.encoder.layers.0.mlp.fc1.weight', 'vision_model.encoder.layers.0.mlp.fc2.bias', 'vision_model.encoder.layers.0.mlp.fc2.weight', 'vision_model.encoder.layers.0.self_attn.k_proj.bias', 'vision_model.encoder.layers.0.self_attn.k_proj.weight', 'vision_model.encoder.layers.0.self_attn.out_proj.bias', 'vision_model.encoder.layers.0.self_attn.out_proj.weight', 'vision_model.encoder.layers.0.self_attn.q_proj.bias', 'vision_model.encoder.layers.0.self_attn.q_proj.weight', 'vision_model.encoder.layers.0.self_attn.v_proj.bias', 'vision_model.encoder.layers.0.self_attn.v_proj.weight', 'vision_model.encoder.layers.1.layer_norm1.bias', 'vision_model.encoder.layers.1.layer_norm1.weight', 'vision_model.encoder.layers.1.layer_norm2.bias', 'vision_model.encoder.layers.1.layer_norm2.weight', 'vision_model.encoder.layers.1.mlp.fc1.bias', 'vision_model.encoder.layers.1.mlp.fc1.weight', 'vision_model.encoder.layers.1.mlp.fc2.bias', 'vision_model.encoder.layers.1.mlp.fc2.weight', 'vision_model.encoder.layers.1.self_attn.k_proj.bias', 'vision_model.encoder.layers.1.self_attn.k_proj.weight', 'vision_model.encoder.layers.1.self_attn.out_proj.bias', 'vision_model.encoder.layers.1.self_attn.out_proj.weight', 'vision_model.encoder.layers.1.self_attn.q_proj.bias', 'vision_model.encoder.layers.1.self_attn.q_proj.weight', 'vision_model.encoder.layers.1.self_attn.v_proj.bias', 'vision_model.encoder.layers.1.self_attn.v_proj.weight', 'vision_model.encoder.layers.10.layer_norm1.bias', 'vision_model.encoder.layers.10.layer_norm1.weight', 'vision_model.encoder.layers.10.layer_norm2.bias', 'vision_model.encoder.layers.10.layer_norm2.weight', 'vision_model.encoder.layers.10.mlp.fc1.bias', 'vision_model.encoder.layers.10.mlp.fc1.weight', 'vision_model.encoder.layers.10.mlp.fc2.bias', 'vision_model.encoder.layers.10.mlp.fc2.weight', 'vision_model.encoder.layers.10.self_attn.k_proj.bias', 'vision_model.encoder.layers.10.self_attn.k_proj.weight', 'vision_model.encoder.layers.10.self_attn.out_proj.bias', 'vision_model.encoder.layers.10.self_attn.out_proj.weight', 'vision_model.encoder.layers.10.self_attn.q_proj.bias', 'vision_model.encoder.layers.10.self_attn.q_proj.weight', 'vision_model.encoder.layers.10.self_attn.v_proj.bias', 'vision_model.encoder.layers.10.self_attn.v_proj.weight', 'vision_model.encoder.layers.11.layer_norm1.bias', 'vision_model.encoder.layers.11.layer_norm1.weight', 'vision_model.encoder.layers.11.layer_norm2.bias', 'vision_model.encoder.layers.11.layer_norm2.weight', 'vision_model.encoder.layers.11.mlp.fc1.bias', 'vision_model.encoder.layers.11.mlp.fc1.weight', 'vision_model.encoder.layers.11.mlp.fc2.bias', 'vision_model.encoder.layers.11.mlp.fc2.weight', 'vision_model.encoder.layers.11.self_attn.k_proj.bias', 'vision_model.encoder.layers.11.self_attn.k_proj.weight', 'vision_model.encoder.layers.11.self_attn.out_proj.bias', 'vision_model.encoder.layers.11.self_attn.out_proj.weight', 'vision_model.encoder.layers.11.self_attn.q_proj.bias', 'vision_model.encoder.layers.11.self_attn.q_proj.weight', 'vision_model.encoder.layers.11.self_attn.v_proj.bias', 'vision_model.encoder.layers.11.self_attn.v_proj.weight', 'vision_model.encoder.layers.2.layer_norm1.bias', 'vision_model.encoder.layers.2.layer_norm1.weight', 'vision_model.encoder.layers.2.layer_norm2.bias', 'vision_model.encoder.layers.2.layer_norm2.weight', 'vision_model.encoder.layers.2.mlp.fc1.bias', 'vision_model.encoder.layers.2.mlp.fc1.weight', 'vision_model.encoder.layers.2.mlp.fc2.bias', 'vision_model.encoder.layers.2.mlp.fc2.weight', 'vision_model.encoder.layers.2.self_attn.k_proj.bias', 'vision_model.encoder.layers.2.self_attn.k_proj.weight', 'vision_model.encoder.layers.2.self_attn.out_proj.bias', 'vision_model.encoder.layers.2.self_attn.out_proj.weight', 'vision_model.encoder.layers.2.self_attn.q_proj.bias', 'vision_model.encoder.layers.2.self_attn.q_proj.weight', 'vision_model.encoder.layers.2.self_attn.v_proj.bias', 'vision_model.encoder.layers.2.self_attn.v_proj.weight', 'vision_model.encoder.layers.3.layer_norm1.bias', 'vision_model.encoder.layers.3.layer_norm1.weight', 'vision_model.encoder.layers.3.layer_norm2.bias', 'vision_model.encoder.layers.3.layer_norm2.weight', 'vision_model.encoder.layers.3.mlp.fc1.bias', 'vision_model.encoder.layers.3.mlp.fc1.weight', 'vision_model.encoder.layers.3.mlp.fc2.bias', 'vision_model.encoder.layers.3.mlp.fc2.weight', 'vision_model.encoder.layers.3.self_attn.k_proj.bias', 'vision_model.encoder.layers.3.self_attn.k_proj.weight', 'vision_model.encoder.layers.3.self_attn.out_proj.bias', 'vision_model.encoder.layers.3.self_attn.out_proj.weight', 'vision_model.encoder.layers.3.self_attn.q_proj.bias', 'vision_model.encoder.layers.3.self_attn.q_proj.weight', 'vision_model.encoder.layers.3.self_attn.v_proj.bias', 'vision_model.encoder.layers.3.self_attn.v_proj.weight', 'vision_model.encoder.layers.4.layer_norm1.bias', 'vision_model.encoder.layers.4.layer_norm1.weight', 'vision_model.encoder.layers.4.layer_norm2.bias', 'vision_model.encoder.layers.4.layer_norm2.weight', 'vision_model.encoder.layers.4.mlp.fc1.bias', 'vision_model.encoder.layers.4.mlp.fc1.weight', 'vision_model.encoder.layers.4.mlp.fc2.bias', 'vision_model.encoder.layers.4.mlp.fc2.weight', 'vision_model.encoder.layers.4.self_attn.k_proj.bias', 'vision_model.encoder.layers.4.self_attn.k_proj.weight', 'vision_model.encoder.layers.4.self_attn.out_proj.bias', 'vision_model.encoder.layers.4.self_attn.out_proj.weight', 'vision_model.encoder.layers.4.self_attn.q_proj.bias', 'vision_model.encoder.layers.4.self_attn.q_proj.weight', 'vision_model.encoder.layers.4.self_attn.v_proj.bias', 'vision_model.encoder.layers.4.self_attn.v_proj.weight', 'vision_model.encoder.layers.5.layer_norm1.bias', 'vision_model.encoder.layers.5.layer_norm1.weight', 'vision_model.encoder.layers.5.layer_norm2.bias', 'vision_model.encoder.layers.5.layer_norm2.weight', 'vision_model.encoder.layers.5.mlp.fc1.bias', 'vision_model.encoder.layers.5.mlp.fc1.weight', 'vision_model.encoder.layers.5.mlp.fc2.bias', 'vision_model.encoder.layers.5.mlp.fc2.weight', 'vision_model.encoder.layers.5.self_attn.k_proj.bias', 'vision_model.encoder.layers.5.self_attn.k_proj.weight', 'vision_model.encoder.layers.5.self_attn.out_proj.bias', 'vision_model.encoder.layers.5.self_attn.out_proj.weight', 'vision_model.encoder.layers.5.self_attn.q_proj.bias', 'vision_model.encoder.layers.5.self_attn.q_proj.weight', 'vision_model.encoder.layers.5.self_attn.v_proj.bias', 'vision_model.encoder.layers.5.self_attn.v_proj.weight', 'vision_model.encoder.layers.6.layer_norm1.bias', 'vision_model.encoder.layers.6.layer_norm1.weight', 'vision_model.encoder.layers.6.layer_norm2.bias', 'vision_model.encoder.layers.6.layer_norm2.weight', 'vision_model.encoder.layers.6.mlp.fc1.bias', 'vision_model.encoder.layers.6.mlp.fc1.weight', 'vision_model.encoder.layers.6.mlp.fc2.bias', 'vision_model.encoder.layers.6.mlp.fc2.weight', 'vision_model.encoder.layers.6.self_attn.k_proj.bias', 'vision_model.encoder.layers.6.self_attn.k_proj.weight', 'vision_model.encoder.layers.6.self_attn.out_proj.bias', 'vision_model.encoder.layers.6.self_attn.out_proj.weight', 'vision_model.encoder.layers.6.self_attn.q_proj.bias', 'vision_model.encoder.layers.6.self_attn.q_proj.weight', 'vision_model.encoder.layers.6.self_attn.v_proj.bias', 'vision_model.encoder.layers.6.self_attn.v_proj.weight', 'vision_model.encoder.layers.7.layer_norm1.bias', 'vision_model.encoder.layers.7.layer_norm1.weight', 'vision_model.encoder.layers.7.layer_norm2.bias', 'vision_model.encoder.layers.7.layer_norm2.weight', 'vision_model.encoder.layers.7.mlp.fc1.bias', 'vision_model.encoder.layers.7.mlp.fc1.weight', 'vision_model.encoder.layers.7.mlp.fc2.bias', 'vision_model.encoder.layers.7.mlp.fc2.weight', 'vision_model.encoder.layers.7.self_attn.k_proj.bias', 'vision_model.encoder.layers.7.self_attn.k_proj.weight', 'vision_model.encoder.layers.7.self_attn.out_proj.bias', 'vision_model.encoder.layers.7.self_attn.out_proj.weight', 'vision_model.encoder.layers.7.self_attn.q_proj.bias', 'vision_model.encoder.layers.7.self_attn.q_proj.weight', 'vision_model.encoder.layers.7.self_attn.v_proj.bias', 'vision_model.encoder.layers.7.self_attn.v_proj.weight', 'vision_model.encoder.layers.8.layer_norm1.bias', 'vision_model.encoder.layers.8.layer_norm1.weight', 'vision_model.encoder.layers.8.layer_norm2.bias', 'vision_model.encoder.layers.8.layer_norm2.weight', 'vision_model.encoder.layers.8.mlp.fc1.bias', 'vision_model.encoder.layers.8.mlp.fc1.weight', 'vision_model.encoder.layers.8.mlp.fc2.bias', 'vision_model.encoder.layers.8.mlp.fc2.weight', 'vision_model.encoder.layers.8.self_attn.k_proj.bias', 'vision_model.encoder.layers.8.self_attn.k_proj.weight', 'vision_model.encoder.layers.8.self_attn.out_proj.bias', 'vision_model.encoder.layers.8.self_attn.out_proj.weight', 'vision_model.encoder.layers.8.self_attn.q_proj.bias', 'vision_model.encoder.layers.8.self_attn.q_proj.weight', 'vision_model.encoder.layers.8.self_attn.v_proj.bias', 'vision_model.encoder.layers.8.self_attn.v_proj.weight', 'vision_model.encoder.layers.9.layer_norm1.bias', 'vision_model.encoder.layers.9.layer_norm1.weight', 'vision_model.encoder.layers.9.layer_norm2.bias', 'vision_model.encoder.layers.9.layer_norm2.weight', 'vision_model.encoder.layers.9.mlp.fc1.bias', 'vision_model.encoder.layers.9.mlp.fc1.weight', 'vision_model.encoder.layers.9.mlp.fc2.bias', 'vision_model.encoder.layers.9.mlp.fc2.weight', 'vision_model.encoder.layers.9.self_attn.k_proj.bias', 'vision_model.encoder.layers.9.self_attn.k_proj.weight', 'vision_model.encoder.layers.9.self_attn.out_proj.bias', 'vision_model.encoder.layers.9.self_attn.out_proj.weight', 'vision_model.encoder.layers.9.self_attn.q_proj.bias', 'vision_model.encoder.layers.9.self_attn.q_proj.weight', 'vision_model.encoder.layers.9.self_attn.v_proj.bias', 'vision_model.encoder.layers.9.self_attn.v_proj.weight', 'vision_model.post_layernorm.bias', 'vision_model.post_layernorm.weight', 'vision_model.pre_layrnorm.bias', 'vision_model.pre_layrnorm.weight']\n",
      "You should probably TRAIN this model on a down-stream task to be able to use it for predictions and inference.\n"
     ]
    },
    {
     "data": {
      "text/plain": [
       "CLIPVisionModel(\n",
       "  (vision_model): CLIPVisionTransformer(\n",
       "    (embeddings): CLIPVisionEmbeddings(\n",
       "      (patch_embedding): Conv2d(3, 768, kernel_size=(32, 32), stride=(32, 32), bias=False)\n",
       "      (position_embedding): Embedding(50, 768)\n",
       "    )\n",
       "    (pre_layrnorm): LayerNorm((768,), eps=1e-05, elementwise_affine=True)\n",
       "    (encoder): CLIPEncoder(\n",
       "      (layers): ModuleList(\n",
       "        (0-11): 12 x CLIPEncoderLayer(\n",
       "          (self_attn): CLIPAttention(\n",
       "            (k_proj): Linear(in_features=768, out_features=768, bias=True)\n",
       "            (v_proj): Linear(in_features=768, out_features=768, bias=True)\n",
       "            (q_proj): Linear(in_features=768, out_features=768, bias=True)\n",
       "            (out_proj): Linear(in_features=768, out_features=768, bias=True)\n",
       "          )\n",
       "          (layer_norm1): LayerNorm((768,), eps=1e-05, elementwise_affine=True)\n",
       "          (mlp): CLIPMLP(\n",
       "            (activation_fn): QuickGELUActivation()\n",
       "            (fc1): Linear(in_features=768, out_features=3072, bias=True)\n",
       "            (fc2): Linear(in_features=3072, out_features=768, bias=True)\n",
       "          )\n",
       "          (layer_norm2): LayerNorm((768,), eps=1e-05, elementwise_affine=True)\n",
       "        )\n",
       "      )\n",
       "    )\n",
       "    (post_layernorm): LayerNorm((768,), eps=1e-05, elementwise_affine=True)\n",
       "  )\n",
       ")"
      ]
     },
     "execution_count": 15,
     "metadata": {},
     "output_type": "execute_result"
    }
   ],
   "source": [
    "CLIPVisionModel.from_pretrained(image_encoder_path)"
   ]
  },
  {
   "cell_type": "code",
   "execution_count": 30,
   "metadata": {},
   "outputs": [],
   "source": [
    "model = CLIPModel.from_pretrained(\"openai/clip-vit-base-patch16\")"
   ]
  },
  {
   "cell_type": "code",
   "execution_count": 31,
   "metadata": {},
   "outputs": [
    {
     "data": {
      "text/plain": [
       "CLIPModel(\n",
       "  (text_model): CLIPTextTransformer(\n",
       "    (embeddings): CLIPTextEmbeddings(\n",
       "      (token_embedding): Embedding(49408, 512)\n",
       "      (position_embedding): Embedding(77, 512)\n",
       "    )\n",
       "    (encoder): CLIPEncoder(\n",
       "      (layers): ModuleList(\n",
       "        (0-11): 12 x CLIPEncoderLayer(\n",
       "          (self_attn): CLIPAttention(\n",
       "            (k_proj): Linear(in_features=512, out_features=512, bias=True)\n",
       "            (v_proj): Linear(in_features=512, out_features=512, bias=True)\n",
       "            (q_proj): Linear(in_features=512, out_features=512, bias=True)\n",
       "            (out_proj): Linear(in_features=512, out_features=512, bias=True)\n",
       "          )\n",
       "          (layer_norm1): LayerNorm((512,), eps=1e-05, elementwise_affine=True)\n",
       "          (mlp): CLIPMLP(\n",
       "            (activation_fn): QuickGELUActivation()\n",
       "            (fc1): Linear(in_features=512, out_features=2048, bias=True)\n",
       "            (fc2): Linear(in_features=2048, out_features=512, bias=True)\n",
       "          )\n",
       "          (layer_norm2): LayerNorm((512,), eps=1e-05, elementwise_affine=True)\n",
       "        )\n",
       "      )\n",
       "    )\n",
       "    (final_layer_norm): LayerNorm((512,), eps=1e-05, elementwise_affine=True)\n",
       "  )\n",
       "  (vision_model): CLIPVisionTransformer(\n",
       "    (embeddings): CLIPVisionEmbeddings(\n",
       "      (patch_embedding): Conv2d(3, 768, kernel_size=(16, 16), stride=(16, 16), bias=False)\n",
       "      (position_embedding): Embedding(197, 768)\n",
       "    )\n",
       "    (pre_layrnorm): LayerNorm((768,), eps=1e-05, elementwise_affine=True)\n",
       "    (encoder): CLIPEncoder(\n",
       "      (layers): ModuleList(\n",
       "        (0-11): 12 x CLIPEncoderLayer(\n",
       "          (self_attn): CLIPAttention(\n",
       "            (k_proj): Linear(in_features=768, out_features=768, bias=True)\n",
       "            (v_proj): Linear(in_features=768, out_features=768, bias=True)\n",
       "            (q_proj): Linear(in_features=768, out_features=768, bias=True)\n",
       "            (out_proj): Linear(in_features=768, out_features=768, bias=True)\n",
       "          )\n",
       "          (layer_norm1): LayerNorm((768,), eps=1e-05, elementwise_affine=True)\n",
       "          (mlp): CLIPMLP(\n",
       "            (activation_fn): QuickGELUActivation()\n",
       "            (fc1): Linear(in_features=768, out_features=3072, bias=True)\n",
       "            (fc2): Linear(in_features=3072, out_features=768, bias=True)\n",
       "          )\n",
       "          (layer_norm2): LayerNorm((768,), eps=1e-05, elementwise_affine=True)\n",
       "        )\n",
       "      )\n",
       "    )\n",
       "    (post_layernorm): LayerNorm((768,), eps=1e-05, elementwise_affine=True)\n",
       "  )\n",
       "  (visual_projection): Linear(in_features=768, out_features=512, bias=False)\n",
       "  (text_projection): Linear(in_features=512, out_features=512, bias=False)\n",
       ")"
      ]
     },
     "execution_count": 31,
     "metadata": {},
     "output_type": "execute_result"
    }
   ],
   "source": [
    "model"
   ]
  },
  {
   "cell_type": "code",
   "execution_count": 41,
   "metadata": {},
   "outputs": [
    {
     "data": {
      "text/plain": [
       "Sequential(\n",
       "  (0): CLIPVisionTransformer(\n",
       "    (embeddings): CLIPVisionEmbeddings(\n",
       "      (patch_embedding): Conv2d(3, 768, kernel_size=(16, 16), stride=(16, 16), bias=False)\n",
       "      (position_embedding): Embedding(197, 768)\n",
       "    )\n",
       "    (pre_layrnorm): LayerNorm((768,), eps=1e-05, elementwise_affine=True)\n",
       "    (encoder): CLIPEncoder(\n",
       "      (layers): ModuleList(\n",
       "        (0-11): 12 x CLIPEncoderLayer(\n",
       "          (self_attn): CLIPAttention(\n",
       "            (k_proj): Linear(in_features=768, out_features=768, bias=True)\n",
       "            (v_proj): Linear(in_features=768, out_features=768, bias=True)\n",
       "            (q_proj): Linear(in_features=768, out_features=768, bias=True)\n",
       "            (out_proj): Linear(in_features=768, out_features=768, bias=True)\n",
       "          )\n",
       "          (layer_norm1): LayerNorm((768,), eps=1e-05, elementwise_affine=True)\n",
       "          (mlp): CLIPMLP(\n",
       "            (activation_fn): QuickGELUActivation()\n",
       "            (fc1): Linear(in_features=768, out_features=3072, bias=True)\n",
       "            (fc2): Linear(in_features=3072, out_features=768, bias=True)\n",
       "          )\n",
       "          (layer_norm2): LayerNorm((768,), eps=1e-05, elementwise_affine=True)\n",
       "        )\n",
       "      )\n",
       "    )\n",
       "    (post_layernorm): LayerNorm((768,), eps=1e-05, elementwise_affine=True)\n",
       "  )\n",
       "  (1): Linear(in_features=768, out_features=512, bias=False)\n",
       ")"
      ]
     },
     "execution_count": 41,
     "metadata": {},
     "output_type": "execute_result"
    }
   ],
   "source": [
    "import torch.nn as nn\n",
    "\n",
    "CLIPVisionModelWithProjection_Custom = nn.Sequential(model.vision_model, model.visual_projection)\n",
    "CLIPVisionModelWithProjection_Custom"
   ]
  },
  {
   "cell_type": "code",
   "execution_count": 2,
   "metadata": {},
   "outputs": [
    {
     "name": "stderr",
     "output_type": "stream",
     "text": [
      "/home/choi/Downloads/miniconda3/envs/diff-rep/lib/python3.12/site-packages/tqdm/auto.py:21: TqdmWarning: IProgress not found. Please update jupyter and ipywidgets. See https://ipywidgets.readthedocs.io/en/stable/user_install.html\n",
      "  from .autonotebook import tqdm as notebook_tqdm\n"
     ]
    }
   ],
   "source": [
    "from transformers import CLIPVisionModelWithProjection, CLIPVisionModel"
   ]
  },
  {
   "cell_type": "code",
   "execution_count": 4,
   "metadata": {},
   "outputs": [
    {
     "data": {
      "text/plain": [
       "CLIPVisionModelWithProjection(\n",
       "  (vision_model): CLIPVisionTransformer(\n",
       "    (embeddings): CLIPVisionEmbeddings(\n",
       "      (patch_embedding): Conv2d(3, 768, kernel_size=(16, 16), stride=(16, 16), bias=False)\n",
       "      (position_embedding): Embedding(197, 768)\n",
       "    )\n",
       "    (pre_layrnorm): LayerNorm((768,), eps=1e-05, elementwise_affine=True)\n",
       "    (encoder): CLIPEncoder(\n",
       "      (layers): ModuleList(\n",
       "        (0-11): 12 x CLIPEncoderLayer(\n",
       "          (self_attn): CLIPAttention(\n",
       "            (k_proj): Linear(in_features=768, out_features=768, bias=True)\n",
       "            (v_proj): Linear(in_features=768, out_features=768, bias=True)\n",
       "            (q_proj): Linear(in_features=768, out_features=768, bias=True)\n",
       "            (out_proj): Linear(in_features=768, out_features=768, bias=True)\n",
       "          )\n",
       "          (layer_norm1): LayerNorm((768,), eps=1e-05, elementwise_affine=True)\n",
       "          (mlp): CLIPMLP(\n",
       "            (activation_fn): QuickGELUActivation()\n",
       "            (fc1): Linear(in_features=768, out_features=3072, bias=True)\n",
       "            (fc2): Linear(in_features=3072, out_features=768, bias=True)\n",
       "          )\n",
       "          (layer_norm2): LayerNorm((768,), eps=1e-05, elementwise_affine=True)\n",
       "        )\n",
       "      )\n",
       "    )\n",
       "    (post_layernorm): LayerNorm((768,), eps=1e-05, elementwise_affine=True)\n",
       "  )\n",
       "  (visual_projection): Linear(in_features=768, out_features=512, bias=False)\n",
       ")"
      ]
     },
     "execution_count": 4,
     "metadata": {},
     "output_type": "execute_result"
    }
   ],
   "source": [
    "p = \"/scratch/choi/model/clip-vit-base-patch16\"\n",
    "model_proj = CLIPVisionModelWithProjection.from_pretrained(p)\n",
    "model_proj"
   ]
  },
  {
   "cell_type": "code",
   "execution_count": 25,
   "metadata": {},
   "outputs": [
    {
     "data": {
      "text/plain": [
       "[CLIPVisionEmbeddings(\n",
       "   (patch_embedding): Conv2d(3, 768, kernel_size=(16, 16), stride=(16, 16), bias=False)\n",
       "   (position_embedding): Embedding(197, 768)\n",
       " ),\n",
       " LayerNorm((768,), eps=1e-05, elementwise_affine=True),\n",
       " CLIPEncoder(\n",
       "   (layers): ModuleList(\n",
       "     (0-11): 12 x CLIPEncoderLayer(\n",
       "       (self_attn): CLIPAttention(\n",
       "         (k_proj): Linear(in_features=768, out_features=768, bias=True)\n",
       "         (v_proj): Linear(in_features=768, out_features=768, bias=True)\n",
       "         (q_proj): Linear(in_features=768, out_features=768, bias=True)\n",
       "         (out_proj): Linear(in_features=768, out_features=768, bias=True)\n",
       "       )\n",
       "       (layer_norm1): LayerNorm((768,), eps=1e-05, elementwise_affine=True)\n",
       "       (mlp): CLIPMLP(\n",
       "         (activation_fn): QuickGELUActivation()\n",
       "         (fc1): Linear(in_features=768, out_features=3072, bias=True)\n",
       "         (fc2): Linear(in_features=3072, out_features=768, bias=True)\n",
       "       )\n",
       "       (layer_norm2): LayerNorm((768,), eps=1e-05, elementwise_affine=True)\n",
       "     )\n",
       "   )\n",
       " ),\n",
       " LayerNorm((768,), eps=1e-05, elementwise_affine=True)]"
      ]
     },
     "execution_count": 25,
     "metadata": {},
     "output_type": "execute_result"
    }
   ],
   "source": [
    "list(list(model_proj.children())[0].children())"
   ]
  },
  {
   "cell_type": "code",
   "execution_count": 22,
   "metadata": {},
   "outputs": [
    {
     "name": "stdout",
     "output_type": "stream",
     "text": [
      "CLIPVisionTransformer(\n",
      "  (embeddings): CLIPVisionEmbeddings(\n",
      "    (patch_embedding): Conv2d(3, 768, kernel_size=(16, 16), stride=(16, 16), bias=False)\n",
      "    (position_embedding): Embedding(197, 768)\n",
      "  )\n",
      "  (pre_layrnorm): LayerNorm((768,), eps=1e-05, elementwise_affine=True)\n",
      "  (encoder): CLIPEncoder(\n",
      "    (layers): ModuleList(\n",
      "      (0-11): 12 x CLIPEncoderLayer(\n",
      "        (self_attn): CLIPAttention(\n",
      "          (k_proj): Linear(in_features=768, out_features=768, bias=True)\n",
      "          (v_proj): Linear(in_features=768, out_features=768, bias=True)\n",
      "          (q_proj): Linear(in_features=768, out_features=768, bias=True)\n",
      "          (out_proj): Linear(in_features=768, out_features=768, bias=True)\n",
      "        )\n",
      "        (layer_norm1): LayerNorm((768,), eps=1e-05, elementwise_affine=True)\n",
      "        (mlp): CLIPMLP(\n",
      "          (activation_fn): QuickGELUActivation()\n",
      "          (fc1): Linear(in_features=768, out_features=3072, bias=True)\n",
      "          (fc2): Linear(in_features=3072, out_features=768, bias=True)\n",
      "        )\n",
      "        (layer_norm2): LayerNorm((768,), eps=1e-05, elementwise_affine=True)\n",
      "      )\n",
      "    )\n",
      "  )\n",
      "  (post_layernorm): LayerNorm((768,), eps=1e-05, elementwise_affine=True)\n",
      ")\n",
      "hi\n",
      "Linear(in_features=768, out_features=512, bias=False)\n",
      "hi\n"
     ]
    }
   ],
   "source": [
    "for i in list(model_proj.children())[:]:\n",
    "    print(i)\n",
    "    print(\"hi\")"
   ]
  },
  {
   "cell_type": "code",
   "execution_count": 1,
   "metadata": {},
   "outputs": [
    {
     "ename": "NameError",
     "evalue": "name 'CLIPVisionModel' is not defined",
     "output_type": "error",
     "traceback": [
      "\u001b[0;31m---------------------------------------------------------------------------\u001b[0m",
      "\u001b[0;31mNameError\u001b[0m                                 Traceback (most recent call last)",
      "Cell \u001b[0;32mIn[1], line 1\u001b[0m\n\u001b[0;32m----> 1\u001b[0m model \u001b[38;5;241m=\u001b[39m \u001b[43mCLIPVisionModel\u001b[49m\u001b[38;5;241m.\u001b[39mfrom_pretrained(p)\n\u001b[1;32m      2\u001b[0m model\n",
      "\u001b[0;31mNameError\u001b[0m: name 'CLIPVisionModel' is not defined"
     ]
    }
   ],
   "source": [
    "model = CLIPVisionModel.from_pretrained(p)\n",
    "model"
   ]
  },
  {
   "cell_type": "code",
   "execution_count": 11,
   "metadata": {},
   "outputs": [],
   "source": [
    "from PIL import Image\n",
    "import requests\n",
    "from transformers import AutoProcessor, CLIPVisionModelWithProjection\n",
    "\n",
    "model = CLIPVisionModelWithProjection.from_pretrained(p)\n",
    "processor = AutoProcessor.from_pretrained(p)\n",
    "\n",
    "url = \"http://images.cocodataset.org/val2017/000000039769.jpg\"\n",
    "image = Image.open(requests.get(url, stream=True).raw)\n",
    "\n",
    "inputs = processor(images=image, return_tensors=\"pt\")\n",
    "\n",
    "outputs = model(**inputs)\n",
    "image_embeds = outputs.image_embeds"
   ]
  },
  {
   "cell_type": "code",
   "execution_count": 4,
   "metadata": {},
   "outputs": [
    {
     "data": {
      "text/plain": [
       "1"
      ]
     },
     "execution_count": 4,
     "metadata": {},
     "output_type": "execute_result"
    }
   ],
   "source": [
    "x, y = [i for i in [1, 2]]\n",
    "x"
   ]
  },
  {
   "cell_type": "code",
   "execution_count": 27,
   "metadata": {},
   "outputs": [
    {
     "data": {
      "text/plain": [
       "array([[-0.43737494,  0.68529756, -0.47153484],\n",
       "       [ 0.78958552,  0.60254911, -0.27639124],\n",
       "       [ 0.8728852 ,  0.41399483,  1.9047565 ],\n",
       "       [ 0.59446415, -0.76260194,  1.2442162 ],\n",
       "       [ 0.32562513,  0.08326177,  1.09245435],\n",
       "       [-1.06670812,  0.16552778,  1.53316383]])"
      ]
     },
     "execution_count": 27,
     "metadata": {},
     "output_type": "execute_result"
    }
   ],
   "source": [
    "import numpy as np\n",
    "\n",
    "a = np.random.randn(3, 2, 3)\n",
    "np.concatenate(a)"
   ]
  },
  {
   "cell_type": "code",
   "execution_count": 13,
   "metadata": {},
   "outputs": [
    {
     "data": {
      "text/plain": [
       "odict_keys(['image_embeds', 'last_hidden_state'])"
      ]
     },
     "execution_count": 13,
     "metadata": {},
     "output_type": "execute_result"
    }
   ],
   "source": [
    "outputs.keys()"
   ]
  },
  {
   "cell_type": "code",
   "execution_count": 16,
   "metadata": {},
   "outputs": [
    {
     "data": {
      "text/plain": [
       "torch.Size([1, 512])"
      ]
     },
     "execution_count": 16,
     "metadata": {},
     "output_type": "execute_result"
    }
   ],
   "source": [
    "outputs.image_embeds.shape"
   ]
  },
  {
   "cell_type": "code",
   "execution_count": 17,
   "metadata": {},
   "outputs": [],
   "source": [
    "from PIL import Image\n",
    "import requests\n",
    "from transformers import AutoProcessor, CLIPVisionModel\n",
    "\n",
    "model = CLIPVisionModel.from_pretrained(p)\n",
    "processor = AutoProcessor.from_pretrained(p)\n",
    "\n",
    "url = \"http://images.cocodataset.org/val2017/000000039769.jpg\"\n",
    "image = Image.open(requests.get(url, stream=True).raw)\n",
    "\n",
    "inputs = processor(images=image, return_tensors=\"pt\")\n",
    "\n",
    "outputs = model(**inputs)\n",
    "last_hidden_state = outputs.last_hidden_state\n",
    "pooled_output = outputs.pooler_output  # pooled CLS states"
   ]
  },
  {
   "cell_type": "code",
   "execution_count": 19,
   "metadata": {},
   "outputs": [
    {
     "data": {
      "text/plain": [
       "odict_keys(['last_hidden_state', 'pooler_output'])"
      ]
     },
     "execution_count": 19,
     "metadata": {},
     "output_type": "execute_result"
    }
   ],
   "source": [
    "outputs.keys()"
   ]
  },
  {
   "cell_type": "code",
   "execution_count": 22,
   "metadata": {},
   "outputs": [
    {
     "data": {
      "text/plain": [
       "torch.Size([1, 197, 768])"
      ]
     },
     "execution_count": 22,
     "metadata": {},
     "output_type": "execute_result"
    }
   ],
   "source": [
    "outputs.last_hidden_state.shape"
   ]
  },
  {
   "cell_type": "code",
   "execution_count": 26,
   "metadata": {},
   "outputs": [
    {
     "data": {
      "text/plain": [
       "torch.Size([1, 768])"
      ]
     },
     "execution_count": 26,
     "metadata": {},
     "output_type": "execute_result"
    }
   ],
   "source": [
    "outputs.pooler_output.shape"
   ]
  },
  {
   "cell_type": "code",
   "execution_count": 28,
   "metadata": {},
   "outputs": [],
   "source": [
    "import torch\n",
    "\n",
    "model.head = torch.nn.Sequential(\n",
    "    torch.nn.BatchNorm1d(768, affine=False, eps=1e-6),\n",
    "    torch.nn.Linear(768, 1000),\n",
    ")"
   ]
  },
  {
   "cell_type": "code",
   "execution_count": 30,
   "metadata": {},
   "outputs": [],
   "source": [
    "aaa = model(**inputs)"
   ]
  },
  {
   "cell_type": "code",
   "execution_count": 38,
   "metadata": {},
   "outputs": [
    {
     "data": {
      "text/plain": [
       "odict_keys(['last_hidden_state', 'pooler_output'])"
      ]
     },
     "execution_count": 38,
     "metadata": {},
     "output_type": "execute_result"
    }
   ],
   "source": [
    "aaa.keys()"
   ]
  },
  {
   "cell_type": "code",
   "execution_count": 40,
   "metadata": {},
   "outputs": [
    {
     "ename": "AttributeError",
     "evalue": "'BaseModelOutputWithPooling' object has no attribute 'shape'",
     "output_type": "error",
     "traceback": [
      "\u001b[0;31m---------------------------------------------------------------------------\u001b[0m",
      "\u001b[0;31mAttributeError\u001b[0m                            Traceback (most recent call last)",
      "Cell \u001b[0;32mIn[40], line 1\u001b[0m\n\u001b[0;32m----> 1\u001b[0m \u001b[43maaa\u001b[49m\u001b[38;5;241;43m.\u001b[39;49m\u001b[43mshape\u001b[49m\n",
      "\u001b[0;31mAttributeError\u001b[0m: 'BaseModelOutputWithPooling' object has no attribute 'shape'"
     ]
    }
   ],
   "source": [
    "aaa.shape"
   ]
  },
  {
   "cell_type": "code",
   "execution_count": 41,
   "metadata": {},
   "outputs": [
    {
     "ename": "ValueError",
     "evalue": "Expected more than 1 value per channel when training, got input size torch.Size([1, 768])",
     "output_type": "error",
     "traceback": [
      "\u001b[0;31m---------------------------------------------------------------------------\u001b[0m",
      "\u001b[0;31mValueError\u001b[0m                                Traceback (most recent call last)",
      "Cell \u001b[0;32mIn[41], line 1\u001b[0m\n\u001b[0;32m----> 1\u001b[0m \u001b[43mmodel\u001b[49m\u001b[38;5;241;43m.\u001b[39;49m\u001b[43mhead\u001b[49m\u001b[43m(\u001b[49m\u001b[43maaa\u001b[49m\u001b[38;5;241;43m.\u001b[39;49m\u001b[43mpooler_output\u001b[49m\u001b[43m)\u001b[49m\n",
      "File \u001b[0;32m~/Downloads/miniconda3/envs/diff-rep/lib/python3.12/site-packages/torch/nn/modules/module.py:1511\u001b[0m, in \u001b[0;36mModule._wrapped_call_impl\u001b[0;34m(self, *args, **kwargs)\u001b[0m\n\u001b[1;32m   1509\u001b[0m     \u001b[38;5;28;01mreturn\u001b[39;00m \u001b[38;5;28mself\u001b[39m\u001b[38;5;241m.\u001b[39m_compiled_call_impl(\u001b[38;5;241m*\u001b[39margs, \u001b[38;5;241m*\u001b[39m\u001b[38;5;241m*\u001b[39mkwargs)  \u001b[38;5;66;03m# type: ignore[misc]\u001b[39;00m\n\u001b[1;32m   1510\u001b[0m \u001b[38;5;28;01melse\u001b[39;00m:\n\u001b[0;32m-> 1511\u001b[0m     \u001b[38;5;28;01mreturn\u001b[39;00m \u001b[38;5;28;43mself\u001b[39;49m\u001b[38;5;241;43m.\u001b[39;49m\u001b[43m_call_impl\u001b[49m\u001b[43m(\u001b[49m\u001b[38;5;241;43m*\u001b[39;49m\u001b[43margs\u001b[49m\u001b[43m,\u001b[49m\u001b[43m \u001b[49m\u001b[38;5;241;43m*\u001b[39;49m\u001b[38;5;241;43m*\u001b[39;49m\u001b[43mkwargs\u001b[49m\u001b[43m)\u001b[49m\n",
      "File \u001b[0;32m~/Downloads/miniconda3/envs/diff-rep/lib/python3.12/site-packages/torch/nn/modules/module.py:1520\u001b[0m, in \u001b[0;36mModule._call_impl\u001b[0;34m(self, *args, **kwargs)\u001b[0m\n\u001b[1;32m   1515\u001b[0m \u001b[38;5;66;03m# If we don't have any hooks, we want to skip the rest of the logic in\u001b[39;00m\n\u001b[1;32m   1516\u001b[0m \u001b[38;5;66;03m# this function, and just call forward.\u001b[39;00m\n\u001b[1;32m   1517\u001b[0m \u001b[38;5;28;01mif\u001b[39;00m \u001b[38;5;129;01mnot\u001b[39;00m (\u001b[38;5;28mself\u001b[39m\u001b[38;5;241m.\u001b[39m_backward_hooks \u001b[38;5;129;01mor\u001b[39;00m \u001b[38;5;28mself\u001b[39m\u001b[38;5;241m.\u001b[39m_backward_pre_hooks \u001b[38;5;129;01mor\u001b[39;00m \u001b[38;5;28mself\u001b[39m\u001b[38;5;241m.\u001b[39m_forward_hooks \u001b[38;5;129;01mor\u001b[39;00m \u001b[38;5;28mself\u001b[39m\u001b[38;5;241m.\u001b[39m_forward_pre_hooks\n\u001b[1;32m   1518\u001b[0m         \u001b[38;5;129;01mor\u001b[39;00m _global_backward_pre_hooks \u001b[38;5;129;01mor\u001b[39;00m _global_backward_hooks\n\u001b[1;32m   1519\u001b[0m         \u001b[38;5;129;01mor\u001b[39;00m _global_forward_hooks \u001b[38;5;129;01mor\u001b[39;00m _global_forward_pre_hooks):\n\u001b[0;32m-> 1520\u001b[0m     \u001b[38;5;28;01mreturn\u001b[39;00m \u001b[43mforward_call\u001b[49m\u001b[43m(\u001b[49m\u001b[38;5;241;43m*\u001b[39;49m\u001b[43margs\u001b[49m\u001b[43m,\u001b[49m\u001b[43m \u001b[49m\u001b[38;5;241;43m*\u001b[39;49m\u001b[38;5;241;43m*\u001b[39;49m\u001b[43mkwargs\u001b[49m\u001b[43m)\u001b[49m\n\u001b[1;32m   1522\u001b[0m \u001b[38;5;28;01mtry\u001b[39;00m:\n\u001b[1;32m   1523\u001b[0m     result \u001b[38;5;241m=\u001b[39m \u001b[38;5;28;01mNone\u001b[39;00m\n",
      "File \u001b[0;32m~/Downloads/miniconda3/envs/diff-rep/lib/python3.12/site-packages/torch/nn/modules/container.py:217\u001b[0m, in \u001b[0;36mSequential.forward\u001b[0;34m(self, input)\u001b[0m\n\u001b[1;32m    215\u001b[0m \u001b[38;5;28;01mdef\u001b[39;00m \u001b[38;5;21mforward\u001b[39m(\u001b[38;5;28mself\u001b[39m, \u001b[38;5;28minput\u001b[39m):\n\u001b[1;32m    216\u001b[0m     \u001b[38;5;28;01mfor\u001b[39;00m module \u001b[38;5;129;01min\u001b[39;00m \u001b[38;5;28mself\u001b[39m:\n\u001b[0;32m--> 217\u001b[0m         \u001b[38;5;28minput\u001b[39m \u001b[38;5;241m=\u001b[39m \u001b[43mmodule\u001b[49m\u001b[43m(\u001b[49m\u001b[38;5;28;43minput\u001b[39;49m\u001b[43m)\u001b[49m\n\u001b[1;32m    218\u001b[0m     \u001b[38;5;28;01mreturn\u001b[39;00m \u001b[38;5;28minput\u001b[39m\n",
      "File \u001b[0;32m~/Downloads/miniconda3/envs/diff-rep/lib/python3.12/site-packages/torch/nn/modules/module.py:1511\u001b[0m, in \u001b[0;36mModule._wrapped_call_impl\u001b[0;34m(self, *args, **kwargs)\u001b[0m\n\u001b[1;32m   1509\u001b[0m     \u001b[38;5;28;01mreturn\u001b[39;00m \u001b[38;5;28mself\u001b[39m\u001b[38;5;241m.\u001b[39m_compiled_call_impl(\u001b[38;5;241m*\u001b[39margs, \u001b[38;5;241m*\u001b[39m\u001b[38;5;241m*\u001b[39mkwargs)  \u001b[38;5;66;03m# type: ignore[misc]\u001b[39;00m\n\u001b[1;32m   1510\u001b[0m \u001b[38;5;28;01melse\u001b[39;00m:\n\u001b[0;32m-> 1511\u001b[0m     \u001b[38;5;28;01mreturn\u001b[39;00m \u001b[38;5;28;43mself\u001b[39;49m\u001b[38;5;241;43m.\u001b[39;49m\u001b[43m_call_impl\u001b[49m\u001b[43m(\u001b[49m\u001b[38;5;241;43m*\u001b[39;49m\u001b[43margs\u001b[49m\u001b[43m,\u001b[49m\u001b[43m \u001b[49m\u001b[38;5;241;43m*\u001b[39;49m\u001b[38;5;241;43m*\u001b[39;49m\u001b[43mkwargs\u001b[49m\u001b[43m)\u001b[49m\n",
      "File \u001b[0;32m~/Downloads/miniconda3/envs/diff-rep/lib/python3.12/site-packages/torch/nn/modules/module.py:1520\u001b[0m, in \u001b[0;36mModule._call_impl\u001b[0;34m(self, *args, **kwargs)\u001b[0m\n\u001b[1;32m   1515\u001b[0m \u001b[38;5;66;03m# If we don't have any hooks, we want to skip the rest of the logic in\u001b[39;00m\n\u001b[1;32m   1516\u001b[0m \u001b[38;5;66;03m# this function, and just call forward.\u001b[39;00m\n\u001b[1;32m   1517\u001b[0m \u001b[38;5;28;01mif\u001b[39;00m \u001b[38;5;129;01mnot\u001b[39;00m (\u001b[38;5;28mself\u001b[39m\u001b[38;5;241m.\u001b[39m_backward_hooks \u001b[38;5;129;01mor\u001b[39;00m \u001b[38;5;28mself\u001b[39m\u001b[38;5;241m.\u001b[39m_backward_pre_hooks \u001b[38;5;129;01mor\u001b[39;00m \u001b[38;5;28mself\u001b[39m\u001b[38;5;241m.\u001b[39m_forward_hooks \u001b[38;5;129;01mor\u001b[39;00m \u001b[38;5;28mself\u001b[39m\u001b[38;5;241m.\u001b[39m_forward_pre_hooks\n\u001b[1;32m   1518\u001b[0m         \u001b[38;5;129;01mor\u001b[39;00m _global_backward_pre_hooks \u001b[38;5;129;01mor\u001b[39;00m _global_backward_hooks\n\u001b[1;32m   1519\u001b[0m         \u001b[38;5;129;01mor\u001b[39;00m _global_forward_hooks \u001b[38;5;129;01mor\u001b[39;00m _global_forward_pre_hooks):\n\u001b[0;32m-> 1520\u001b[0m     \u001b[38;5;28;01mreturn\u001b[39;00m \u001b[43mforward_call\u001b[49m\u001b[43m(\u001b[49m\u001b[38;5;241;43m*\u001b[39;49m\u001b[43margs\u001b[49m\u001b[43m,\u001b[49m\u001b[43m \u001b[49m\u001b[38;5;241;43m*\u001b[39;49m\u001b[38;5;241;43m*\u001b[39;49m\u001b[43mkwargs\u001b[49m\u001b[43m)\u001b[49m\n\u001b[1;32m   1522\u001b[0m \u001b[38;5;28;01mtry\u001b[39;00m:\n\u001b[1;32m   1523\u001b[0m     result \u001b[38;5;241m=\u001b[39m \u001b[38;5;28;01mNone\u001b[39;00m\n",
      "File \u001b[0;32m~/Downloads/miniconda3/envs/diff-rep/lib/python3.12/site-packages/torch/nn/modules/batchnorm.py:175\u001b[0m, in \u001b[0;36m_BatchNorm.forward\u001b[0;34m(self, input)\u001b[0m\n\u001b[1;32m    168\u001b[0m     bn_training \u001b[38;5;241m=\u001b[39m (\u001b[38;5;28mself\u001b[39m\u001b[38;5;241m.\u001b[39mrunning_mean \u001b[38;5;129;01mis\u001b[39;00m \u001b[38;5;28;01mNone\u001b[39;00m) \u001b[38;5;129;01mand\u001b[39;00m (\u001b[38;5;28mself\u001b[39m\u001b[38;5;241m.\u001b[39mrunning_var \u001b[38;5;129;01mis\u001b[39;00m \u001b[38;5;28;01mNone\u001b[39;00m)\n\u001b[1;32m    170\u001b[0m \u001b[38;5;250m\u001b[39m\u001b[38;5;124mr\u001b[39m\u001b[38;5;124;03m\"\"\"\u001b[39;00m\n\u001b[1;32m    171\u001b[0m \u001b[38;5;124;03mBuffers are only updated if they are to be tracked and we are in training mode. Thus they only need to be\u001b[39;00m\n\u001b[1;32m    172\u001b[0m \u001b[38;5;124;03mpassed when the update should occur (i.e. in training mode when they are tracked), or when buffer stats are\u001b[39;00m\n\u001b[1;32m    173\u001b[0m \u001b[38;5;124;03mused for normalization (i.e. in eval mode when buffers are not None).\u001b[39;00m\n\u001b[1;32m    174\u001b[0m \u001b[38;5;124;03m\"\"\"\u001b[39;00m\n\u001b[0;32m--> 175\u001b[0m \u001b[38;5;28;01mreturn\u001b[39;00m \u001b[43mF\u001b[49m\u001b[38;5;241;43m.\u001b[39;49m\u001b[43mbatch_norm\u001b[49m\u001b[43m(\u001b[49m\n\u001b[1;32m    176\u001b[0m \u001b[43m    \u001b[49m\u001b[38;5;28;43minput\u001b[39;49m\u001b[43m,\u001b[49m\n\u001b[1;32m    177\u001b[0m \u001b[43m    \u001b[49m\u001b[38;5;66;43;03m# If buffers are not to be tracked, ensure that they won't be updated\u001b[39;49;00m\n\u001b[1;32m    178\u001b[0m \u001b[43m    \u001b[49m\u001b[38;5;28;43mself\u001b[39;49m\u001b[38;5;241;43m.\u001b[39;49m\u001b[43mrunning_mean\u001b[49m\n\u001b[1;32m    179\u001b[0m \u001b[43m    \u001b[49m\u001b[38;5;28;43;01mif\u001b[39;49;00m\u001b[43m \u001b[49m\u001b[38;5;129;43;01mnot\u001b[39;49;00m\u001b[43m \u001b[49m\u001b[38;5;28;43mself\u001b[39;49m\u001b[38;5;241;43m.\u001b[39;49m\u001b[43mtraining\u001b[49m\u001b[43m \u001b[49m\u001b[38;5;129;43;01mor\u001b[39;49;00m\u001b[43m \u001b[49m\u001b[38;5;28;43mself\u001b[39;49m\u001b[38;5;241;43m.\u001b[39;49m\u001b[43mtrack_running_stats\u001b[49m\n\u001b[1;32m    180\u001b[0m \u001b[43m    \u001b[49m\u001b[38;5;28;43;01melse\u001b[39;49;00m\u001b[43m \u001b[49m\u001b[38;5;28;43;01mNone\u001b[39;49;00m\u001b[43m,\u001b[49m\n\u001b[1;32m    181\u001b[0m \u001b[43m    \u001b[49m\u001b[38;5;28;43mself\u001b[39;49m\u001b[38;5;241;43m.\u001b[39;49m\u001b[43mrunning_var\u001b[49m\u001b[43m \u001b[49m\u001b[38;5;28;43;01mif\u001b[39;49;00m\u001b[43m \u001b[49m\u001b[38;5;129;43;01mnot\u001b[39;49;00m\u001b[43m \u001b[49m\u001b[38;5;28;43mself\u001b[39;49m\u001b[38;5;241;43m.\u001b[39;49m\u001b[43mtraining\u001b[49m\u001b[43m \u001b[49m\u001b[38;5;129;43;01mor\u001b[39;49;00m\u001b[43m \u001b[49m\u001b[38;5;28;43mself\u001b[39;49m\u001b[38;5;241;43m.\u001b[39;49m\u001b[43mtrack_running_stats\u001b[49m\u001b[43m \u001b[49m\u001b[38;5;28;43;01melse\u001b[39;49;00m\u001b[43m \u001b[49m\u001b[38;5;28;43;01mNone\u001b[39;49;00m\u001b[43m,\u001b[49m\n\u001b[1;32m    182\u001b[0m \u001b[43m    \u001b[49m\u001b[38;5;28;43mself\u001b[39;49m\u001b[38;5;241;43m.\u001b[39;49m\u001b[43mweight\u001b[49m\u001b[43m,\u001b[49m\n\u001b[1;32m    183\u001b[0m \u001b[43m    \u001b[49m\u001b[38;5;28;43mself\u001b[39;49m\u001b[38;5;241;43m.\u001b[39;49m\u001b[43mbias\u001b[49m\u001b[43m,\u001b[49m\n\u001b[1;32m    184\u001b[0m \u001b[43m    \u001b[49m\u001b[43mbn_training\u001b[49m\u001b[43m,\u001b[49m\n\u001b[1;32m    185\u001b[0m \u001b[43m    \u001b[49m\u001b[43mexponential_average_factor\u001b[49m\u001b[43m,\u001b[49m\n\u001b[1;32m    186\u001b[0m \u001b[43m    \u001b[49m\u001b[38;5;28;43mself\u001b[39;49m\u001b[38;5;241;43m.\u001b[39;49m\u001b[43meps\u001b[49m\u001b[43m,\u001b[49m\n\u001b[1;32m    187\u001b[0m \u001b[43m\u001b[49m\u001b[43m)\u001b[49m\n",
      "File \u001b[0;32m~/Downloads/miniconda3/envs/diff-rep/lib/python3.12/site-packages/torch/nn/functional.py:2480\u001b[0m, in \u001b[0;36mbatch_norm\u001b[0;34m(input, running_mean, running_var, weight, bias, training, momentum, eps)\u001b[0m\n\u001b[1;32m   2467\u001b[0m     \u001b[38;5;28;01mreturn\u001b[39;00m handle_torch_function(\n\u001b[1;32m   2468\u001b[0m         batch_norm,\n\u001b[1;32m   2469\u001b[0m         (\u001b[38;5;28minput\u001b[39m, running_mean, running_var, weight, bias),\n\u001b[0;32m   (...)\u001b[0m\n\u001b[1;32m   2477\u001b[0m         eps\u001b[38;5;241m=\u001b[39meps,\n\u001b[1;32m   2478\u001b[0m     )\n\u001b[1;32m   2479\u001b[0m \u001b[38;5;28;01mif\u001b[39;00m training:\n\u001b[0;32m-> 2480\u001b[0m     \u001b[43m_verify_batch_size\u001b[49m\u001b[43m(\u001b[49m\u001b[38;5;28;43minput\u001b[39;49m\u001b[38;5;241;43m.\u001b[39;49m\u001b[43msize\u001b[49m\u001b[43m(\u001b[49m\u001b[43m)\u001b[49m\u001b[43m)\u001b[49m\n\u001b[1;32m   2482\u001b[0m \u001b[38;5;28;01mreturn\u001b[39;00m torch\u001b[38;5;241m.\u001b[39mbatch_norm(\n\u001b[1;32m   2483\u001b[0m     \u001b[38;5;28minput\u001b[39m, weight, bias, running_mean, running_var, training, momentum, eps, torch\u001b[38;5;241m.\u001b[39mbackends\u001b[38;5;241m.\u001b[39mcudnn\u001b[38;5;241m.\u001b[39menabled\n\u001b[1;32m   2484\u001b[0m )\n",
      "File \u001b[0;32m~/Downloads/miniconda3/envs/diff-rep/lib/python3.12/site-packages/torch/nn/functional.py:2448\u001b[0m, in \u001b[0;36m_verify_batch_size\u001b[0;34m(size)\u001b[0m\n\u001b[1;32m   2446\u001b[0m     size_prods \u001b[38;5;241m*\u001b[39m\u001b[38;5;241m=\u001b[39m size[i \u001b[38;5;241m+\u001b[39m \u001b[38;5;241m2\u001b[39m]\n\u001b[1;32m   2447\u001b[0m \u001b[38;5;28;01mif\u001b[39;00m size_prods \u001b[38;5;241m==\u001b[39m \u001b[38;5;241m1\u001b[39m:\n\u001b[0;32m-> 2448\u001b[0m     \u001b[38;5;28;01mraise\u001b[39;00m \u001b[38;5;167;01mValueError\u001b[39;00m(\u001b[38;5;124mf\u001b[39m\u001b[38;5;124m\"\u001b[39m\u001b[38;5;124mExpected more than 1 value per channel when training, got input size \u001b[39m\u001b[38;5;132;01m{\u001b[39;00msize\u001b[38;5;132;01m}\u001b[39;00m\u001b[38;5;124m\"\u001b[39m)\n",
      "\u001b[0;31mValueError\u001b[0m: Expected more than 1 value per channel when training, got input size torch.Size([1, 768])"
     ]
    }
   ],
   "source": [
    "model.head(aaa.pooler_output)"
   ]
  },
  {
   "cell_type": "code",
   "execution_count": 4,
   "metadata": {},
   "outputs": [],
   "source": [
    "import torch\n",
    "from matplotlib import pyplot as plt"
   ]
  },
  {
   "cell_type": "code",
   "execution_count": 3,
   "metadata": {},
   "outputs": [],
   "source": [
    "a = torch.linspace(0.00085**0.5, 0.012**0.5, 1000, dtype=torch.float32) ** 2"
   ]
  },
  {
   "cell_type": "code",
   "execution_count": 5,
   "metadata": {},
   "outputs": [
    {
     "data": {
      "text/plain": [
       "[<matplotlib.lines.Line2D at 0x7f0d8265e870>]"
      ]
     },
     "execution_count": 5,
     "metadata": {},
     "output_type": "execute_result"
    },
    {
     "data": {
      "image/png": "[encoded data removed]",
      "text/plain": [
       "<Figure size 640x480 with 1 Axes>"
      ]
     },
     "metadata": {},
     "output_type": "display_data"
    }
   ],
   "source": [
    "plt.plot(a)"
   ]
  },
  {
   "cell_type": "code",
   "execution_count": 6,
   "metadata": {},
   "outputs": [
    {
     "data": {
      "text/plain": [
       "[<matplotlib.lines.Line2D at 0x7f0d8265c230>]"
      ]
     },
     "execution_count": 6,
     "metadata": {},
     "output_type": "execute_result"
    },
    {
     "data": {
      "image/png": "[encoded data removed]",
      "text/plain": [
       "<Figure size 640x480 with 1 Axes>"
      ]
     },
     "metadata": {},
     "output_type": "display_data"
    }
   ],
   "source": [
    "b = torch.linspace(0.00085, 0.012, 1000, dtype=torch.float32)\n",
    "plt.plot(b)"
   ]
  },
  {
   "cell_type": "code",
   "execution_count": 1,
   "metadata": {},
   "outputs": [],
   "source": [
    "import torch"
   ]
  },
  {
   "cell_type": "code",
   "execution_count": 54,
   "metadata": {},
   "outputs": [
    {
     "name": "stdout",
     "output_type": "stream",
     "text": [
      "tensor([[37, 88, 71, 64, 14],\n",
      "        [11, 31, 76, 25, 10],\n",
      "        [79, 69, 66, 97, 37]])\n",
      "tensor([[1369,  121, 6241],\n",
      "        [7744,  961, 4761],\n",
      "        [5041, 5776, 4356],\n",
      "        [4096,  625, 9409],\n",
      "        [ 196,  100, 1369]])\n",
      "tensor([[18446,  7583, 26136]])\n"
     ]
    }
   ],
   "source": [
    "a = torch.randint(100, (3, 5))\n",
    "print(a)\n",
    "b = a.T.pow(2)\n",
    "# b = a.T\n",
    "print(b)\n",
    "print(b.sum(dim=0, keepdim=True))"
   ]
  },
  {
   "cell_type": "code",
   "execution_count": 43,
   "metadata": {},
   "outputs": [
    {
     "name": "stdout",
     "output_type": "stream",
     "text": [
      "tensor([[8100,   36, 3721, 2401, 8836],\n",
      "        [8649,   25,   36, 1024, 1764],\n",
      "        [6889,  441,  900,  121,  784]])\n",
      "tensor([23094, 11498,  9135])\n",
      "tensor([[23094],\n",
      "        [11498],\n",
      "        [ 9135]])\n"
     ]
    }
   ],
   "source": [
    "c = a.pow(2)\n",
    "print(c)\n",
    "d = c.sum(dim=1)\n",
    "print(d)\n",
    "e = d[:, None]\n",
    "print(e)\n",
    "#  d_batch = X_batch.pow(2).sum(dim=1)[:, None]"
   ]
  },
  {
   "cell_type": "code",
   "execution_count": 51,
   "metadata": {},
   "outputs": [
    {
     "data": {
      "text/plain": [
       "tensor([0, 0, 0])"
      ]
     },
     "execution_count": 51,
     "metadata": {},
     "output_type": "execute_result"
    }
   ],
   "source": [
    "e.argmin(dim=1).detach()"
   ]
  },
  {
   "cell_type": "code",
   "execution_count": 50,
   "metadata": {},
   "outputs": [
    {
     "name": "stdout",
     "output_type": "stream",
     "text": [
      "tensor([[18, 92, 63, 55, 16],\n",
      "        [35, 68, 49, 64, 11],\n",
      "        [36, 37,  5, 76, 45]])\n"
     ]
    },
    {
     "data": {
      "text/plain": [
       "tensor([0, 2, 2, 0, 1])"
      ]
     },
     "execution_count": 50,
     "metadata": {},
     "output_type": "execute_result"
    }
   ],
   "source": [
    "f = torch.randint(100, (3, 5))\n",
    "print(f)\n",
    "f.argmin(dim=0)"
   ]
  },
  {
   "cell_type": "code",
   "execution_count": 3,
   "metadata": {},
   "outputs": [],
   "source": [
    "import torch\n",
    "from torch.nn import functional as F"
   ]
  },
  {
   "cell_type": "code",
   "execution_count": 13,
   "metadata": {},
   "outputs": [],
   "source": [
    "a = torch.arange(10, dtype=torch.long)\n",
    "b = torch.randn((10, 10))"
   ]
  },
  {
   "cell_type": "code",
   "execution_count": 15,
   "metadata": {},
   "outputs": [
    {
     "data": {
      "text/plain": [
       "torch.float32"
      ]
     },
     "execution_count": 15,
     "metadata": {},
     "output_type": "execute_result"
    }
   ],
   "source": [
    "a.dtype\n",
    "b.dtype"
   ]
  },
  {
   "cell_type": "code",
   "execution_count": 22,
   "metadata": {},
   "outputs": [
    {
     "data": {
      "text/plain": [
       "tensor(2.3162)"
      ]
     },
     "execution_count": 22,
     "metadata": {},
     "output_type": "execute_result"
    }
   ],
   "source": [
    "F.cross_entropy(b, a)"
   ]
  },
  {
   "cell_type": "code",
   "execution_count": 17,
   "metadata": {},
   "outputs": [],
   "source": [
    "import torch\n",
    "import torch.nn as nn"
   ]
  },
  {
   "cell_type": "code",
   "execution_count": 105,
   "metadata": {},
   "outputs": [],
   "source": [
    "from transformers import AutoTokenizer, CLIPTextModelWithProjection, CLIPTokenizer\n",
    "\n",
    "text_model = CLIPTextModelWithProjection.from_pretrained(\"laion/CLIP-ViT-H-14-laion2B-s32B-b79K\")\n",
    "# tokenizer = AutoTokenizer.from_pretrained(\"laion/CLIP-ViT-H-14-laion2B-s32B-b79K\")\n",
    "tokenizer2 = CLIPTokenizer.from_pretrained(\"/scratch/choi/model/stable-diffusion-v1-5\", subfolder=\"tokenizer\")"
   ]
  },
  {
   "cell_type": "code",
   "execution_count": 106,
   "metadata": {},
   "outputs": [],
   "source": [
    "inputs = tokenizer2([\"an image of a cat\", \"an image of a dog\"], padding=True, return_tensors=\"pt\")\n",
    "\n",
    "outputs = text_model(**inputs)\n",
    "text_embeds = outputs.text_embeds"
   ]
  },
  {
   "cell_type": "code",
   "execution_count": 107,
   "metadata": {},
   "outputs": [
    {
     "data": {
      "text/plain": [
       "torch.Size([2, 1024])"
      ]
     },
     "execution_count": 107,
     "metadata": {},
     "output_type": "execute_result"
    }
   ],
   "source": [
    "text_embeds.shape"
   ]
  },
  {
   "cell_type": "code",
   "execution_count": 7,
   "metadata": {},
   "outputs": [],
   "source": [
    "from PIL import Image\n",
    "import requests\n",
    "from transformers import AutoProcessor, CLIPVisionModelWithProjection\n",
    "\n",
    "vision_model = CLIPVisionModelWithProjection.from_pretrained(\"laion/CLIP-ViT-H-14-laion2B-s32B-b79K\")\n",
    "processor = AutoProcessor.from_pretrained(\"laion/CLIP-ViT-H-14-laion2B-s32B-b79K\")\n",
    "\n",
    "url = \"http://images.cocodataset.org/val2017/000000039769.jpg\"\n",
    "cat_image = Image.open(requests.get(url, stream=True).raw)"
   ]
  },
  {
   "cell_type": "code",
   "execution_count": 72,
   "metadata": {},
   "outputs": [],
   "source": [
    "url = \"https://images.pexels.com/photos/1108099/pexels-photo-1108099.jpeg\"\n",
    "dog_image = Image.open(requests.get(url, stream=True).raw)"
   ]
  },
  {
   "cell_type": "code",
   "execution_count": 5,
   "metadata": {},
   "outputs": [],
   "source": [
    "vision_model2 = CLIPVisionModelWithProjection.from_pretrained(\"/scratch/choi/model/IP-Adapter/models/image_encoder\")"
   ]
  },
  {
   "cell_type": "code",
   "execution_count": 98,
   "metadata": {},
   "outputs": [],
   "source": [
    "inputs = processor(images=[cat_image, dog_image], return_tensors=\"pt\")\n",
    "\n",
    "# outputs = vision_model(**inputs)\n",
    "outputs = vision_model2(**inputs)\n",
    "image_embeds = outputs.image_embeds"
   ]
  },
  {
   "cell_type": "code",
   "execution_count": 13,
   "metadata": {},
   "outputs": [
    {
     "data": {
      "text/plain": [
       "torch.Size([2, 1024])"
      ]
     },
     "execution_count": 13,
     "metadata": {},
     "output_type": "execute_result"
    }
   ],
   "source": [
    "image_embeds.shape"
   ]
  },
  {
   "cell_type": "code",
   "execution_count": 108,
   "metadata": {},
   "outputs": [
    {
     "name": "stdout",
     "output_type": "stream",
     "text": [
      "tensor([[0.2203, 0.0967],\n",
      "        [0.0863, 0.2006]], grad_fn=<MmBackward0>)\n"
     ]
    }
   ],
   "source": [
    "# normalized features\n",
    "image_embeds = image_embeds / image_embeds.norm(p=2, dim=-1, keepdim=True)\n",
    "text_embeds = text_embeds / text_embeds.norm(p=2, dim=-1, keepdim=True)\n",
    "\n",
    "# cosine similarity as logits -> (Batch_size, Batch_size)\n",
    "# logit_scale = self.logit_scale.exp()\n",
    "# logits_per_text = torch.matmul(text_embeds, image_embeds.t())*logit_scale\n",
    "logits_per_text = torch.matmul(text_embeds, image_embeds.t())\n",
    "print(logits_per_text)\n",
    "logits_per_image = logits_per_text.t()"
   ]
  },
  {
   "cell_type": "code",
   "execution_count": 66,
   "metadata": {},
   "outputs": [],
   "source": [
    "def contrastive_loss(logits: torch.Tensor) -> torch.Tensor:\n",
    "    return nn.functional.cross_entropy(logits, torch.arange(len(logits), device=logits.device))\n",
    "\n",
    "\n",
    "def clip_loss(similarity: torch.Tensor) -> torch.Tensor:\n",
    "    caption_loss = contrastive_loss(similarity)\n",
    "    image_loss = contrastive_loss(similarity.t())\n",
    "    return (caption_loss + image_loss) / 2.0"
   ]
  },
  {
   "cell_type": "code",
   "execution_count": 109,
   "metadata": {},
   "outputs": [
    {
     "data": {
      "text/plain": [
       "tensor(0.6355, grad_fn=<DivBackward0>)"
      ]
     },
     "execution_count": 109,
     "metadata": {},
     "output_type": "execute_result"
    }
   ],
   "source": [
    "clip_loss(logits_per_text)"
   ]
  },
  {
   "cell_type": "code",
   "execution_count": 28,
   "metadata": {},
   "outputs": [],
   "source": [
    "from PIL import Image\n",
    "import requests\n",
    "from transformers import AutoProcessor, CLIPModel, CLIPVisionModelWithProjection, CLIPImageProcessor\n",
    "\n",
    "model = CLIPModel.from_pretrained(\"laion/CLIP-ViT-H-14-laion2B-s32B-b79K\")\n",
    "processor = AutoProcessor.from_pretrained(\"laion/CLIP-ViT-H-14-laion2B-s32B-b79K\")\n",
    "\n",
    "url = \"http://images.cocodataset.org/val2017/000000039769.jpg\"\n",
    "image = Image.open(requests.get(url, stream=True).raw)\n",
    "\n",
    "inputs = processor(text=[\"a photo of a cat\", \"a photo of a dog\"], images=image, return_tensors=\"pt\", padding=True)\n",
    "\n",
    "outputs = model(**inputs)\n",
    "logits_per_image = outputs.logits_per_image  # this is the image-text similarity score\n",
    "probs = logits_per_image.softmax(dim=1)  # we can take the softmax to get the label probabilities"
   ]
  },
  {
   "cell_type": "code",
   "execution_count": 46,
   "metadata": {},
   "outputs": [],
   "source": [
    "image_processor = CLIPImageProcessor()"
   ]
  },
  {
   "cell_type": "code",
   "execution_count": 19,
   "metadata": {},
   "outputs": [],
   "source": [
    "vision_model2 = CLIPVisionModelWithProjection.from_pretrained(\"/scratch/choi/model/IP-Adapter/models/image_encoder\")"
   ]
  },
  {
   "cell_type": "code",
   "execution_count": 69,
   "metadata": {},
   "outputs": [],
   "source": [
    "from torchvision.transforms import transforms\n",
    "import torch\n",
    "\n",
    "transform = transforms.Compose(\n",
    "    [\n",
    "        transforms.Resize(512, interpolation=transforms.InterpolationMode.BILINEAR),\n",
    "        transforms.CenterCrop(512),\n",
    "        transforms.ToTensor(),\n",
    "        transforms.Normalize([0.5], [0.5]),\n",
    "    ]\n",
    ")\n",
    "raw_image = Image.open(requests.get(url, stream=True).raw)\n",
    "image = transform(raw_image.convert(\"RGB\"))\n",
    "\n",
    "images = image_processor(images=raw_image, return_tensors=\"pt\").pixel_values\n",
    "# vision_model2(processor(images = image))"
   ]
  },
  {
   "cell_type": "code",
   "execution_count": 72,
   "metadata": {},
   "outputs": [],
   "source": [
    "res2 = vision_model2(images)"
   ]
  },
  {
   "cell_type": "code",
   "execution_count": 79,
   "metadata": {},
   "outputs": [
    {
     "data": {
      "text/plain": [
       "odict_keys(['image_embeds', 'last_hidden_state'])"
      ]
     },
     "execution_count": 79,
     "metadata": {},
     "output_type": "execute_result"
    }
   ],
   "source": [
    "res2.keys()"
   ]
  },
  {
   "cell_type": "code",
   "execution_count": 87,
   "metadata": {},
   "outputs": [
    {
     "name": "stdout",
     "output_type": "stream",
     "text": [
      "torch.Size([1, 1024])\n",
      "tensor(0.0139, grad_fn=<MeanBackward0>)\n",
      "tensor(5.9347, grad_fn=<MaxBackward1>)\n",
      "tensor(-5.4663, grad_fn=<MinBackward1>)\n"
     ]
    }
   ],
   "source": [
    "print(res2.image_embeds.shape)\n",
    "print(res2.image_embeds.mean())\n",
    "print(res2.image_embeds.max())\n",
    "print(res2.image_embeds.min())"
   ]
  },
  {
   "cell_type": "code",
   "execution_count": 90,
   "metadata": {},
   "outputs": [],
   "source": [
    "res1 = model.vision_model(images)"
   ]
  },
  {
   "cell_type": "code",
   "execution_count": 91,
   "metadata": {},
   "outputs": [
    {
     "data": {
      "text/plain": [
       "odict_keys(['last_hidden_state', 'pooler_output'])"
      ]
     },
     "execution_count": 91,
     "metadata": {},
     "output_type": "execute_result"
    }
   ],
   "source": [
    "res1.keys()"
   ]
  },
  {
   "cell_type": "code",
   "execution_count": 96,
   "metadata": {},
   "outputs": [],
   "source": [
    "b = model.visual_projection(res1.pooler_output)"
   ]
  },
  {
   "cell_type": "code",
   "execution_count": 98,
   "metadata": {},
   "outputs": [
    {
     "name": "stdout",
     "output_type": "stream",
     "text": [
      "torch.Size([1, 1024])\n",
      "tensor(0.0139, grad_fn=<MeanBackward0>)\n",
      "tensor(5.9347, grad_fn=<MaxBackward1>)\n",
      "tensor(-5.4663, grad_fn=<MinBackward1>)\n"
     ]
    }
   ],
   "source": [
    "print(b.shape)\n",
    "print(b.mean())\n",
    "print(b.max())\n",
    "print(b.min())"
   ]
  },
  {
   "cell_type": "code",
   "execution_count": 20,
   "metadata": {},
   "outputs": [
    {
     "data": {
      "text/plain": [
       "Parameter containing:\n",
       "tensor(4.6052, requires_grad=True)"
      ]
     },
     "execution_count": 20,
     "metadata": {},
     "output_type": "execute_result"
    }
   ],
   "source": [
    "model.logit_scale"
   ]
  }
 ],
 "metadata": {
  "kernelspec": {
   "display_name": "diff-rep",
   "language": "python",
   "name": "python3"
  },
  "language_info": {
   "codemirror_mode": {
    "name": "ipython",
    "version": 3
   },
   "file_extension": ".py",
   "mimetype": "text/x-python",
   "name": "python",
   "nbconvert_exporter": "python",
   "pygments_lexer": "ipython3",
   "version": "3.12.2"
  }
 },
 "nbformat": 4,
 "nbformat_minor": 2
}
